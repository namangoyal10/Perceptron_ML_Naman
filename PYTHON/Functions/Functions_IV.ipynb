{
 "cells": [
  {
   "cell_type": "code",
   "execution_count": 1,
   "metadata": {},
   "outputs": [],
   "source": [
    "def add(a,b):\n",
    "    return a+b"
   ]
  },
  {
   "cell_type": "code",
   "execution_count": 2,
   "metadata": {},
   "outputs": [
    {
     "name": "stdout",
     "output_type": "stream",
     "text": [
      "<function add at 0x000001E1B9CAC0D8>\n",
      "2 <class 'int'>\n"
     ]
    }
   ],
   "source": [
    "print(add)\n",
    "add=2\n",
    "print(add,type(add))"
   ]
  },
  {
   "cell_type": "code",
   "execution_count": 3,
   "metadata": {},
   "outputs": [],
   "source": [
    "del add"
   ]
  },
  {
   "cell_type": "code",
   "execution_count": 4,
   "metadata": {},
   "outputs": [],
   "source": [
    "add= lambda a,b : a+b"
   ]
  },
  {
   "cell_type": "code",
   "execution_count": 5,
   "metadata": {},
   "outputs": [
    {
     "name": "stdout",
     "output_type": "stream",
     "text": [
      "<function <lambda> at 0x000001E1B9BBB318>\n",
      "3\n"
     ]
    }
   ],
   "source": [
    "print(add)\n",
    "d=add(1,2)\n",
    "print(d)"
   ]
  },
  {
   "cell_type": "code",
   "execution_count": 6,
   "metadata": {},
   "outputs": [
    {
     "name": "stdout",
     "output_type": "stream",
     "text": [
      "['naman', 'prateek', 'sanya', 'aaab', 'aa']\n"
     ]
    }
   ],
   "source": [
    "l=list([\"naman\",\"prateek\",\"sanya\",\"aaab\",\"aa\"])\n",
    "print(l)"
   ]
  },
  {
   "cell_type": "code",
   "execution_count": 7,
   "metadata": {},
   "outputs": [],
   "source": [
    "l1=list([3,2,1,5,0])\n",
    "d1=dict(zip(l,l1))"
   ]
  },
  {
   "cell_type": "code",
   "execution_count": 8,
   "metadata": {},
   "outputs": [
    {
     "name": "stdout",
     "output_type": "stream",
     "text": [
      "{'naman': 3, 'prateek': 2, 'sanya': 1, 'aaab': 5, 'aa': 0}\n"
     ]
    }
   ],
   "source": [
    "print(d1)"
   ]
  },
  {
   "cell_type": "code",
   "execution_count": 10,
   "metadata": {},
   "outputs": [],
   "source": [
    "l2=list(d1.items())\n",
    "l3=l2"
   ]
  },
  {
   "cell_type": "code",
   "execution_count": 11,
   "metadata": {},
   "outputs": [
    {
     "name": "stdout",
     "output_type": "stream",
     "text": [
      "[('naman', 3), ('prateek', 2), ('sanya', 1), ('aaab', 5), ('aa', 0)]\n"
     ]
    }
   ],
   "source": [
    "print(l2)"
   ]
  },
  {
   "cell_type": "code",
   "execution_count": 12,
   "metadata": {},
   "outputs": [],
   "source": [
    "l2.sort()"
   ]
  },
  {
   "cell_type": "code",
   "execution_count": 13,
   "metadata": {},
   "outputs": [
    {
     "name": "stdout",
     "output_type": "stream",
     "text": [
      "[('aa', 0), ('aaab', 5), ('naman', 3), ('prateek', 2), ('sanya', 1)]\n"
     ]
    }
   ],
   "source": [
    "print(l2)"
   ]
  },
  {
   "cell_type": "code",
   "execution_count": 14,
   "metadata": {},
   "outputs": [
    {
     "name": "stdout",
     "output_type": "stream",
     "text": [
      "[('aa', 0), ('aaab', 5), ('naman', 3), ('prateek', 2), ('sanya', 1)]\n"
     ]
    }
   ],
   "source": [
    "print(l3)"
   ]
  },
  {
   "cell_type": "code",
   "execution_count": 31,
   "metadata": {},
   "outputs": [
    {
     "name": "stdout",
     "output_type": "stream",
     "text": [
      "[('mango', 100), ('apple', 20), ('guava', 200)] <class 'list'>\n"
     ]
    }
   ],
   "source": [
    "di=dict({\"mango\":100,\"apple\":20,\"guava\":200})\n",
    "tu=list(di.items())\n",
    "ti=tu\n",
    "to=tu\n",
    "print(tu, type(tu))"
   ]
  },
  {
   "cell_type": "code",
   "execution_count": 32,
   "metadata": {},
   "outputs": [
    {
     "name": "stdout",
     "output_type": "stream",
     "text": [
      "[('mango', 100), ('apple', 20), ('guava', 200)]\n"
     ]
    }
   ],
   "source": [
    "def k(x):\n",
    "    return x[1]\n",
    "sorted(tu , key =k)\n",
    "print(tu)"
   ]
  },
  {
   "cell_type": "code",
   "execution_count": null,
   "metadata": {},
   "outputs": [],
   "source": []
  },
  {
   "cell_type": "code",
   "execution_count": 53,
   "metadata": {},
   "outputs": [],
   "source": [
    "ll=list([(\"mango\",12),(\"apple\",2),(\"banana\",5),(\"guava\",32),(\"cheeku\",11)])\n",
    "lll=list([(\"mango\",12),(\"apple\",2),(\"banana\",5),(\"guava\",32),(\"cheeku\",11)])\n"
   ]
  },
  {
   "cell_type": "code",
   "execution_count": 54,
   "metadata": {},
   "outputs": [
    {
     "name": "stdout",
     "output_type": "stream",
     "text": [
      "[('guava', 32), ('mango', 12), ('cheeku', 11), ('banana', 5), ('apple', 2)]\n"
     ]
    }
   ],
   "source": [
    "ll=sorted(ll , key = lambda x : x[1] , reverse =True)\n",
    "print(ll)\n"
   ]
  },
  {
   "cell_type": "code",
   "execution_count": 55,
   "metadata": {},
   "outputs": [],
   "source": [
    "l1=[1,2,3,4]\n",
    "l1.append(5)"
   ]
  },
  {
   "cell_type": "code",
   "execution_count": 50,
   "metadata": {},
   "outputs": [
    {
     "name": "stdout",
     "output_type": "stream",
     "text": [
      "[1, 2, 3, 4, 5]\n"
     ]
    }
   ],
   "source": [
    "print(l1)"
   ]
  },
  {
   "cell_type": "code",
   "execution_count": 58,
   "metadata": {},
   "outputs": [
    {
     "name": "stdout",
     "output_type": "stream",
     "text": [
      "[('mango', 12), ('apple', 2), ('banana', 5), ('guava', 32), ('cheeku', 11)]\n"
     ]
    }
   ],
   "source": [
    "def hashing(x):\n",
    "    return x[1]\n",
    "li=list([(\"mango\",12),(\"apple\",2),(\"banana\",5),(\"guava\",32),(\"cheeku\",11)])\n",
    "sorted(li, key= hashing)\n",
    "print(li)"
   ]
  },
  {
   "cell_type": "code",
   "execution_count": null,
   "metadata": {},
   "outputs": [],
   "source": []
  },
  {
   "cell_type": "code",
   "execution_count": null,
   "metadata": {},
   "outputs": [],
   "source": []
  }
 ],
 "metadata": {
  "kernelspec": {
   "display_name": "Python 3",
   "language": "python",
   "name": "python3"
  },
  "language_info": {
   "codemirror_mode": {
    "name": "ipython",
    "version": 3
   },
   "file_extension": ".py",
   "mimetype": "text/x-python",
   "name": "python",
   "nbconvert_exporter": "python",
   "pygments_lexer": "ipython3",
   "version": "3.7.4"
  }
 },
 "nbformat": 4,
 "nbformat_minor": 2
}
