{
 "cells": [
  {
   "cell_type": "code",
   "execution_count": 51,
   "metadata": {},
   "outputs": [
    {
     "name": "stdout",
     "output_type": "stream",
     "text": [
      "{1, 2, 3, 5, 6, 15, 21}\n"
     ]
    }
   ],
   "source": [
    "s1=set([1,2,2,3,1,5,6,3,6,2,2,2,5,2,15,21])\n",
    "print(s1)"
   ]
  },
  {
   "cell_type": "code",
   "execution_count": 52,
   "metadata": {},
   "outputs": [],
   "source": [
    "t1=tuple((1,2,3))"
   ]
  },
  {
   "cell_type": "code",
   "execution_count": 53,
   "metadata": {},
   "outputs": [
    {
     "name": "stdout",
     "output_type": "stream",
     "text": [
      "0\n",
      "1\n"
     ]
    }
   ],
   "source": [
    "print(t1.count(9))\n",
    "print(t1.index(2))"
   ]
  },
  {
   "cell_type": "code",
   "execution_count": 54,
   "metadata": {},
   "outputs": [],
   "source": [
    "s2=set([10,2,31,431,12,3])"
   ]
  },
  {
   "cell_type": "code",
   "execution_count": 55,
   "metadata": {},
   "outputs": [
    {
     "name": "stdout",
     "output_type": "stream",
     "text": [
      "\n"
     ]
    }
   ],
   "source": [
    "\n",
    "print()"
   ]
  },
  {
   "cell_type": "code",
   "execution_count": 61,
   "metadata": {},
   "outputs": [
    {
     "name": "stdout",
     "output_type": "stream",
     "text": [
      "{2, 3, 10, 12, 431, 31}\n"
     ]
    }
   ],
   "source": [
    "s1=s1.intersection(s2)\n",
    "print(s1)"
   ]
  },
  {
   "cell_type": "code",
   "execution_count": 62,
   "metadata": {},
   "outputs": [
    {
     "name": "stdout",
     "output_type": "stream",
     "text": [
      "[1, 2, 4.9, 'hello', 1, 2, 4.9, 'hello', 1, 2, 4.9, 'hello']\n"
     ]
    }
   ],
   "source": [
    "l1=list([1,2,4.9,\"hello\"])\n",
    "l2=l1*3\n",
    "print(l2)"
   ]
  },
  {
   "cell_type": "code",
   "execution_count": 63,
   "metadata": {},
   "outputs": [
    {
     "name": "stdout",
     "output_type": "stream",
     "text": [
      "hello\n"
     ]
    }
   ],
   "source": [
    "if 3 not in l1:\n",
    "    print(\"hello\")"
   ]
  },
  {
   "cell_type": "code",
   "execution_count": 64,
   "metadata": {},
   "outputs": [
    {
     "name": "stdout",
     "output_type": "stream",
     "text": [
      "[1, 2, 4.9, 'hello', 2]\n"
     ]
    }
   ],
   "source": [
    "l1.append(2)\n",
    "print(l1)"
   ]
  },
  {
   "cell_type": "code",
   "execution_count": 65,
   "metadata": {},
   "outputs": [
    {
     "name": "stdout",
     "output_type": "stream",
     "text": [
      "[1, 2, 4.9, 'hello', 2, [10, 20, 30]]\n",
      "[1, 2, 4.9, 'hello', 2, [10, 20, 30], 10, 20, 30]\n"
     ]
    }
   ],
   "source": [
    "l3=[10,20,30]\n",
    "l1.append(l3)\n",
    "print(l1)\n",
    "l1.extend(l3)\n",
    "print(l1)"
   ]
  },
  {
   "cell_type": "code",
   "execution_count": 66,
   "metadata": {},
   "outputs": [
    {
     "name": "stdout",
     "output_type": "stream",
     "text": [
      "[1, 2, 69, 4.9, 'hello', 2, [10, 20, 30], 10, 20, 30]\n"
     ]
    }
   ],
   "source": [
    "l1.insert(2,69)\n",
    "print(l1)"
   ]
  },
  {
   "cell_type": "code",
   "execution_count": 68,
   "metadata": {},
   "outputs": [
    {
     "name": "stdout",
     "output_type": "stream",
     "text": [
      "[1, 2, 69, 4.9, 'hello', 2, [10, 20, 30], 10, 20, 60, 60, 30]\n"
     ]
    }
   ],
   "source": [
    "l1.insert(-1,60)\n",
    "print(l1)"
   ]
  },
  {
   "cell_type": "code",
   "execution_count": 72,
   "metadata": {},
   "outputs": [],
   "source": [
    "l1.extend([2])\n"
   ]
  },
  {
   "cell_type": "code",
   "execution_count": 73,
   "metadata": {},
   "outputs": [
    {
     "name": "stdout",
     "output_type": "stream",
     "text": [
      "[1, 2, 69, 4.9, 'hello', 2, [10, 20, 30], 10, 20, 60, 60, 30, 2]\n"
     ]
    }
   ],
   "source": [
    "print(l1)"
   ]
  },
  {
   "cell_type": "code",
   "execution_count": 74,
   "metadata": {},
   "outputs": [],
   "source": [
    "l1.append(2)"
   ]
  },
  {
   "cell_type": "code",
   "execution_count": 75,
   "metadata": {},
   "outputs": [
    {
     "name": "stdout",
     "output_type": "stream",
     "text": [
      "[1, 2, 69, 4.9, 'hello', 2, [10, 20, 30], 10, 20, 60, 60, 30, 2, 2]\n"
     ]
    }
   ],
   "source": [
    "print(l1)"
   ]
  },
  {
   "cell_type": "code",
   "execution_count": 77,
   "metadata": {},
   "outputs": [
    {
     "name": "stdout",
     "output_type": "stream",
     "text": [
      "[1, 69, 4.9, 'hello', 2, [10, 20, 30], 10, 20, 60, 60, 30, 2, 2]\n"
     ]
    }
   ],
   "source": [
    "l1.remove(2)\n",
    "print(l1)"
   ]
  },
  {
   "cell_type": "code",
   "execution_count": 78,
   "metadata": {},
   "outputs": [
    {
     "name": "stdout",
     "output_type": "stream",
     "text": [
      "[1, 69, 4.9, 'hello', [10, 20, 30], 10, 20, 60, 60, 30, 2, 2]\n",
      "[1, 69, 4.9, 'hello', [10, 20, 30], 10, 20, 60, 60, 30, 2]\n",
      "[1, 69, 4.9, 'hello', [10, 20, 30], 10, 20, 60, 60, 30]\n"
     ]
    }
   ],
   "source": [
    "while ( 2 in l1):\n",
    "    l1.remove(2)\n",
    "    print(l1)"
   ]
  },
  {
   "cell_type": "code",
   "execution_count": 79,
   "metadata": {},
   "outputs": [],
   "source": [
    "l1.remove(\"hello\")"
   ]
  },
  {
   "cell_type": "code",
   "execution_count": 82,
   "metadata": {},
   "outputs": [
    {
     "name": "stdout",
     "output_type": "stream",
     "text": [
      "[1, 69, [10, 20, 30], 10, 20, 60, 60, 30]\n"
     ]
    }
   ],
   "source": [
    "del l1[2]\n",
    "print(l1)"
   ]
  },
  {
   "cell_type": "code",
   "execution_count": 83,
   "metadata": {},
   "outputs": [
    {
     "name": "stdout",
     "output_type": "stream",
     "text": [
      "8\n"
     ]
    },
    {
     "data": {
      "text/plain": [
       "2"
      ]
     },
     "execution_count": 83,
     "metadata": {},
     "output_type": "execute_result"
    }
   ],
   "source": [
    "print(len(l1))\n",
    "l1.count(60)\n"
   ]
  },
  {
   "cell_type": "code",
   "execution_count": 84,
   "metadata": {},
   "outputs": [
    {
     "name": "stdout",
     "output_type": "stream",
     "text": [
      "[1, 69, 10, 20, 60, 60, 30]\n"
     ]
    }
   ],
   "source": [
    "del l1[2]\n",
    "print(l1)"
   ]
  },
  {
   "cell_type": "code",
   "execution_count": 86,
   "metadata": {},
   "outputs": [
    {
     "name": "stdout",
     "output_type": "stream",
     "text": [
      "4\n",
      "[69, 60, 60, 30, 20, 10, 1]\n"
     ]
    }
   ],
   "source": [
    "print(l1.index(60))\n",
    "l1.sort(reverse = True)\n",
    "print(l1)"
   ]
  },
  {
   "cell_type": "code",
   "execution_count": null,
   "metadata": {},
   "outputs": [],
   "source": []
  },
  {
   "cell_type": "code",
   "execution_count": null,
   "metadata": {},
   "outputs": [],
   "source": []
  },
  {
   "cell_type": "code",
   "execution_count": 87,
   "metadata": {},
   "outputs": [
    {
     "name": "stdout",
     "output_type": "stream",
     "text": [
      "<class 'dict'> {'mango': 20, 'apple': 30}\n"
     ]
    }
   ],
   "source": [
    "d=dict({\"mango\": 20 , \"apple\": 30 })\n",
    "print(type(d),d)"
   ]
  },
  {
   "cell_type": "code",
   "execution_count": 88,
   "metadata": {},
   "outputs": [
    {
     "name": "stdout",
     "output_type": "stream",
     "text": [
      "{'mango': 20, 'apple': 30, 'guava': 100} 3\n"
     ]
    }
   ],
   "source": [
    "d[\"guava\"]=100\n",
    "print(d,len(d))"
   ]
  },
  {
   "cell_type": "code",
   "execution_count": 89,
   "metadata": {},
   "outputs": [],
   "source": [
    "d[\"str\"]=\"morning\"\n",
    "d[\"listing\"]=list([3,1,5,2,7])\n",
    "d[\"map\"]=dict({\"petrol\":70, \"diesel\":80})\n",
    "d[\"tuple\"]=tuple((3,1,2,9,7 ))\n",
    "d[\"set\"]=set({2,3,5,1,1,3,5,2,3,5,6,234})"
   ]
  },
  {
   "cell_type": "code",
   "execution_count": 90,
   "metadata": {},
   "outputs": [
    {
     "name": "stdout",
     "output_type": "stream",
     "text": [
      "{'mango': 20, 'apple': 30, 'guava': 100, 'str': 'morning', 'listing': [3, 1, 5, 2, 7], 'map': {'petrol': 70, 'diesel': 80}, 'tuple': (3, 1, 2, 9, 7), 'set': {1, 2, 3, 5, 6, 234}}\n"
     ]
    }
   ],
   "source": [
    "print(d)"
   ]
  },
  {
   "cell_type": "code",
   "execution_count": 91,
   "metadata": {},
   "outputs": [],
   "source": [
    "del d[\"mango\"]"
   ]
  },
  {
   "cell_type": "code",
   "execution_count": 92,
   "metadata": {},
   "outputs": [
    {
     "name": "stdout",
     "output_type": "stream",
     "text": [
      "{'apple': 30, 'guava': 100, 'str': 'morning', 'listing': [3, 1, 5, 2, 7], 'map': {'petrol': 70, 'diesel': 80}, 'tuple': (3, 1, 2, 9, 7), 'set': {1, 2, 3, 5, 6, 234}}\n"
     ]
    }
   ],
   "source": [
    "print(d)"
   ]
  },
  {
   "cell_type": "code",
   "execution_count": 101,
   "metadata": {},
   "outputs": [
    {
     "name": "stdout",
     "output_type": "stream",
     "text": [
      "[3, 1, 5, 2, 7]\n",
      "None\n",
      "dict_keys(['apple', 'guava', 'str', 'listing', 'map', 'tuple', 'set'])\n",
      "dict_values([30, 100, 'morning', [3, 1, 5, 2, 7], {'petrol': 70, 'diesel': 80}, (3, 1, 2, 9, 7), {1, 2, 3, 5, 6, 234}])\n"
     ]
    }
   ],
   "source": [
    "print(d.get(\"listing\"))\n",
    "print(d.get(\"list\"))\n",
    "print(d.keys())\n",
    "print(d.values())\n",
    "l10=list(d.items())"
   ]
  },
  {
   "cell_type": "code",
   "execution_count": 102,
   "metadata": {},
   "outputs": [
    {
     "name": "stdout",
     "output_type": "stream",
     "text": [
      "('apple', 30)\n",
      "('guava', 100)\n",
      "('str', 'morning')\n",
      "('listing', [3, 1, 5, 2, 7])\n",
      "('map', {'petrol': 70, 'diesel': 80})\n",
      "('tuple', (3, 1, 2, 9, 7))\n",
      "('set', {1, 2, 3, 5, 6, 234})\n"
     ]
    }
   ],
   "source": [
    "for i in l10:\n",
    "    print(i, end=\"\\n\")"
   ]
  },
  {
   "cell_type": "code",
   "execution_count": 104,
   "metadata": {},
   "outputs": [
    {
     "name": "stdout",
     "output_type": "stream",
     "text": [
      "('listing', [3, 1, 5, 2, 7])\n",
      "<class 'tuple'>\n",
      "listing\n",
      "[3, 1, 5, 2, 7]\n",
      "<class 'list'>\n",
      "<class 'str'>\n"
     ]
    }
   ],
   "source": [
    "print((l10[3]))\n",
    "print(type(l10[3]))\n",
    "print((l10[3][0]))\n",
    "print((l10[3][1]))\n",
    "print(type(l10[3][1]))\n",
    "print(type(l10[3][0]))\n"
   ]
  },
  {
   "cell_type": "code",
   "execution_count": 105,
   "metadata": {},
   "outputs": [
    {
     "name": "stdout",
     "output_type": "stream",
     "text": [
      "{'car': 3, 'bike': 2, 'cycle': 1, 'apple': 30, 'guava': 100, 'str': 'morning', 'listing': [3, 1, 5, 2, 7], 'map': {'petrol': 70, 'diesel': 80}, 'tuple': (3, 1, 2, 9, 7), 'set': {1, 2, 3, 5, 6, 234}}\n"
     ]
    }
   ],
   "source": [
    "d1=dict({ \"car\":3 , \"bike\": 2 , \"cycle\":1})\n",
    "d1.update(d)\n",
    "print(d1)"
   ]
  },
  {
   "cell_type": "code",
   "execution_count": 106,
   "metadata": {},
   "outputs": [
    {
     "name": "stdout",
     "output_type": "stream",
     "text": [
      "{}\n"
     ]
    }
   ],
   "source": [
    "d1.clear()\n",
    "print(d1)"
   ]
  },
  {
   "cell_type": "code",
   "execution_count": 107,
   "metadata": {},
   "outputs": [
    {
     "data": {
      "text/plain": [
       "dict"
      ]
     },
     "execution_count": 107,
     "metadata": {},
     "output_type": "execute_result"
    }
   ],
   "source": [
    "type(d1)"
   ]
  },
  {
   "cell_type": "code",
   "execution_count": 108,
   "metadata": {},
   "outputs": [
    {
     "name": "stdout",
     "output_type": "stream",
     "text": [
      "{' one': 1, 'two': 2, 'three': 3}\n",
      "{1: ' one', 2: 'two', 3: 'three'}\n"
     ]
    }
   ],
   "source": [
    "lx=list([\" one\", \"two\", \"three\"])\n",
    "ly=list([1,2,3])\n",
    "dxy=dict(zip(lx,ly))\n",
    "dyx=dict(zip(ly,lx))\n",
    "print(dxy)\n",
    "print(dyx)"
   ]
  },
  {
   "cell_type": "code",
   "execution_count": null,
   "metadata": {},
   "outputs": [],
   "source": [
    "\n"
   ]
  },
  {
   "cell_type": "code",
   "execution_count": null,
   "metadata": {},
   "outputs": [],
   "source": []
  },
  {
   "cell_type": "code",
   "execution_count": 109,
   "metadata": {},
   "outputs": [],
   "source": [
    "t=tuple((1,2.5, \"str\"))\n"
   ]
  },
  {
   "cell_type": "code",
   "execution_count": 110,
   "metadata": {},
   "outputs": [
    {
     "name": "stdout",
     "output_type": "stream",
     "text": [
      "(1, 2.5, 'str') <class 'tuple'>\n"
     ]
    }
   ],
   "source": [
    "print(t,type(t))"
   ]
  },
  {
   "cell_type": "code",
   "execution_count": 111,
   "metadata": {},
   "outputs": [
    {
     "name": "stdout",
     "output_type": "stream",
     "text": [
      "1\n"
     ]
    }
   ],
   "source": [
    "print(t.count(1))"
   ]
  },
  {
   "cell_type": "code",
   "execution_count": 115,
   "metadata": {},
   "outputs": [
    {
     "name": "stdout",
     "output_type": "stream",
     "text": [
      "1\n"
     ]
    }
   ],
   "source": [
    "print(t.index(2.5))"
   ]
  },
  {
   "cell_type": "code",
   "execution_count": 117,
   "metadata": {},
   "outputs": [],
   "source": [
    "t1=tuple((4,2,1,5,2))"
   ]
  },
  {
   "cell_type": "code",
   "execution_count": 119,
   "metadata": {},
   "outputs": [],
   "source": [
    "t=t1+t"
   ]
  },
  {
   "cell_type": "code",
   "execution_count": 120,
   "metadata": {},
   "outputs": [
    {
     "name": "stdout",
     "output_type": "stream",
     "text": [
      "(4, 2, 1, 5, 2, 1, 2.5, 'str')\n"
     ]
    }
   ],
   "source": [
    "print(t)"
   ]
  },
  {
   "cell_type": "code",
   "execution_count": 122,
   "metadata": {},
   "outputs": [
    {
     "name": "stdout",
     "output_type": "stream",
     "text": [
      "(4, 2, 1, 5, 2, 4, 2, 1, 5, 2, 4, 2, 1, 5, 2)\n"
     ]
    }
   ],
   "source": [
    "t1=t1*3\n",
    "print(t1)"
   ]
  },
  {
   "cell_type": "code",
   "execution_count": null,
   "metadata": {},
   "outputs": [],
   "source": []
  },
  {
   "cell_type": "code",
   "execution_count": null,
   "metadata": {},
   "outputs": [],
   "source": []
  },
  {
   "cell_type": "code",
   "execution_count": 131,
   "metadata": {},
   "outputs": [],
   "source": [
    "s1=set({ 1,2,4,1,32,5,1,34,51,2,112})\n",
    "s2=set({ 2,4,1,2,5,6,7,3,245,1,2,1})\n",
    "s3=set({ 22,3,1,4,132,5,12,41,5})\n",
    "s4=set({ 66,1,2,4,1,2,4,51,6,2,34})\n",
    "s5=set({ 13,12,51,234,12,3,412})\n",
    "s6=set({ 1,2,41,2,3,41,2,312,34,1})\n",
    "s7=set({ 1,4,2,5,2,56,7,8,4,2})"
   ]
  },
  {
   "cell_type": "code",
   "execution_count": 132,
   "metadata": {},
   "outputs": [
    {
     "name": "stdout",
     "output_type": "stream",
     "text": [
      "{32, 1, 2, 34, 4, 5, 69, 112, 51}\n"
     ]
    }
   ],
   "source": [
    "s1=(s1.union({69}))\n",
    "print(s1)"
   ]
  },
  {
   "cell_type": "code",
   "execution_count": null,
   "metadata": {},
   "outputs": [],
   "source": []
  },
  {
   "cell_type": "code",
   "execution_count": 133,
   "metadata": {},
   "outputs": [
    {
     "name": "stdout",
     "output_type": "stream",
     "text": [
      "{1, 2, 3, 4, 5, 6, 7, 245}\n"
     ]
    }
   ],
   "source": [
    "print(s2)"
   ]
  },
  {
   "cell_type": "code",
   "execution_count": 138,
   "metadata": {},
   "outputs": [],
   "source": [
    "s1=s1.union(s2)"
   ]
  },
  {
   "cell_type": "code",
   "execution_count": 139,
   "metadata": {},
   "outputs": [
    {
     "name": "stdout",
     "output_type": "stream",
     "text": [
      "{32, 1, 2, 34, 4, 5, 69, 3, 6, 7, 112, 51, 245}\n"
     ]
    }
   ],
   "source": [
    "print(s1)"
   ]
  },
  {
   "cell_type": "code",
   "execution_count": 140,
   "metadata": {},
   "outputs": [],
   "source": [
    "s3=s3.intersection(s4)"
   ]
  },
  {
   "cell_type": "code",
   "execution_count": 141,
   "metadata": {},
   "outputs": [
    {
     "name": "stdout",
     "output_type": "stream",
     "text": [
      "{1, 66, 2, 4, 34, 6, 51}\n"
     ]
    }
   ],
   "source": [
    "print(s4)"
   ]
  },
  {
   "cell_type": "code",
   "execution_count": 144,
   "metadata": {},
   "outputs": [
    {
     "name": "stdout",
     "output_type": "stream",
     "text": [
      "{1, 66, 2, 4, 34, 6}\n"
     ]
    }
   ],
   "source": [
    "print(s4.difference(s5))"
   ]
  },
  {
   "cell_type": "code",
   "execution_count": null,
   "metadata": {},
   "outputs": [],
   "source": []
  }
 ],
 "metadata": {
  "kernelspec": {
   "display_name": "Python 3",
   "language": "python",
   "name": "python3"
  },
  "language_info": {
   "codemirror_mode": {
    "name": "ipython",
    "version": 3
   },
   "file_extension": ".py",
   "mimetype": "text/x-python",
   "name": "python",
   "nbconvert_exporter": "python",
   "pygments_lexer": "ipython3",
   "version": "3.7.4"
  }
 },
 "nbformat": 4,
 "nbformat_minor": 2
}
