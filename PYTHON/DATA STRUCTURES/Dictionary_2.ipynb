{
 "cells": [
  {
   "cell_type": "markdown",
   "metadata": {},
   "source": [
    "- get()\n",
    "- keys()\n",
    "- values()\n",
    "- items()\n",
    "- clear()\n",
    "- update()\n",
    "- in & not in\n",
    "- iteration \n",
    "- zip () "
   ]
  },
  {
   "cell_type": "code",
   "execution_count": 2,
   "metadata": {},
   "outputs": [],
   "source": [
    "d=dict ( {'key': True, 'key0': 20.0, 'key1': {'mango': 20, 'guava': 30}, 'key2': [3, 2, 5, 1], 'key3': 'third', 'key4': 10021999} )"
   ]
  },
  {
   "cell_type": "code",
   "execution_count": 6,
   "metadata": {},
   "outputs": [
    {
     "name": "stdout",
     "output_type": "stream",
     "text": [
      "20.0\n",
      "None\n",
      "30\n"
     ]
    }
   ],
   "source": [
    "##advantage of get : doesnt return any error\n",
    "print(d.get(\"key0\"))\n",
    "print(d.get(\"key012\"))\n",
    "print(d.get(\"key1\").get(\"guava\"))"
   ]
  },
  {
   "cell_type": "code",
   "execution_count": null,
   "metadata": {},
   "outputs": [],
   "source": []
  },
  {
   "cell_type": "code",
   "execution_count": 17,
   "metadata": {},
   "outputs": [
    {
     "name": "stdout",
     "output_type": "stream",
     "text": [
      "['key', 'key0', 'key1', 'key2', 'key3', 'key4']\n",
      "dict_keys(['key', 'key0', 'key1', 'key2', 'key3', 'key4', 1])\n",
      "dict_values([True, 20.0, {'mango': 20, 'guava': 30}, [3, 2, 5, 1], 'third', 10021999, 100])\n"
     ]
    }
   ],
   "source": [
    "## this stores them as a list IN THEIR ORIGINAL FORMAT\n",
    "d[1]=100\n",
    "print(l1)\n",
    "print(d.keys())\n",
    "print(d.values())\n",
    "l1=list(d.keys())\n",
    "l2=list(d.values())"
   ]
  },
  {
   "cell_type": "code",
   "execution_count": 19,
   "metadata": {},
   "outputs": [
    {
     "name": "stdout",
     "output_type": "stream",
     "text": [
      "[True, 20.0, {'mango': 20, 'guava': 30}, [3, 2, 5, 1], 'third', 10021999, 100]\n",
      "key1 {'mango': 20, 'guava': 30}\n",
      "<class 'str'> <class 'dict'> <class 'list'>\n",
      "<class 'int'> <class 'int'>\n"
     ]
    }
   ],
   "source": [
    "print(l2)\n",
    "print(l1[2],l2[2])\n",
    "print(type(l1[2]),type(l2[2]),type(l2[3]))\n",
    "print(type(l1[6]),type(l2[6]))\n"
   ]
  },
  {
   "cell_type": "code",
   "execution_count": 43,
   "metadata": {},
   "outputs": [
    {
     "name": "stdout",
     "output_type": "stream",
     "text": [
      "<class 'dict_keys'> <class 'dict_values'>\n"
     ]
    }
   ],
   "source": [
    "print(type(d.keys()) , type(d.values()))"
   ]
  },
  {
   "cell_type": "code",
   "execution_count": null,
   "metadata": {},
   "outputs": [],
   "source": []
  },
  {
   "cell_type": "code",
   "execution_count": 22,
   "metadata": {},
   "outputs": [
    {
     "name": "stdout",
     "output_type": "stream",
     "text": [
      "{'key': True, 'key0': 20.0, 'key1': {'mango': 20, 'guava': 30}, 'key2': [3, 2, 5, 1], 'key3': 'third', 'key4': 10021999, 1: 100, 'family': 4, 'car': 10}\n",
      "{} 0\n"
     ]
    }
   ],
   "source": [
    "d1={ \"family\":4 , \"car\":10}\n",
    "##update ek dictionary mein dusri dict ko add karna / extend karna\n",
    "d.update(d1)\n",
    "print(d)\n",
    "\n",
    "d1.clear()\n",
    "print(d1,len(d1))"
   ]
  },
  {
   "cell_type": "code",
   "execution_count": null,
   "metadata": {},
   "outputs": [],
   "source": []
  },
  {
   "cell_type": "code",
   "execution_count": 32,
   "metadata": {},
   "outputs": [
    {
     "name": "stdout",
     "output_type": "stream",
     "text": [
      "No\n"
     ]
    }
   ],
   "source": [
    "if \"mango\" in d or \"family\" not in d:\n",
    "    print(\"Yes\")\n",
    "else:\n",
    "    print(\"No\")"
   ]
  },
  {
   "cell_type": "code",
   "execution_count": null,
   "metadata": {},
   "outputs": [],
   "source": []
  },
  {
   "cell_type": "code",
   "execution_count": 39,
   "metadata": {},
   "outputs": [
    {
     "name": "stdout",
     "output_type": "stream",
     "text": [
      "key\n",
      "key0\n",
      "key1\n",
      "key2\n",
      "key3\n",
      "key4\n",
      "1\n",
      "family\n",
      "car\n"
     ]
    }
   ],
   "source": [
    "### iteration\n",
    "for i in d:\n",
    "    print(i)"
   ]
  },
  {
   "cell_type": "code",
   "execution_count": 40,
   "metadata": {
    "scrolled": true
   },
   "outputs": [
    {
     "name": "stdout",
     "output_type": "stream",
     "text": [
      "key\n",
      "key0\n",
      "key1\n",
      "key2\n",
      "key3\n",
      "key4\n",
      "1\n",
      "family\n",
      "car\n"
     ]
    }
   ],
   "source": [
    "### iteration\n",
    "for i in d.keys():\n",
    "    print(i)"
   ]
  },
  {
   "cell_type": "code",
   "execution_count": 41,
   "metadata": {},
   "outputs": [
    {
     "name": "stdout",
     "output_type": "stream",
     "text": [
      "True\n",
      "20.0\n",
      "{'mango': 20, 'guava': 30}\n",
      "[3, 2, 5, 1]\n",
      "third\n",
      "10021999\n",
      "100\n",
      "4\n",
      "10\n"
     ]
    }
   ],
   "source": [
    "### iteration\n",
    "for i in d.values():\n",
    "    print(i)"
   ]
  },
  {
   "cell_type": "code",
   "execution_count": null,
   "metadata": {},
   "outputs": [],
   "source": []
  },
  {
   "cell_type": "code",
   "execution_count": null,
   "metadata": {},
   "outputs": [],
   "source": []
  },
  {
   "cell_type": "code",
   "execution_count": 45,
   "metadata": {},
   "outputs": [
    {
     "name": "stdout",
     "output_type": "stream",
     "text": [
      "dict_items([('key', True), ('key0', 20.0), ('key1', {'mango': 20, 'guava': 30}), ('key2', [3, 2, 5, 1]), ('key3', 'third'), ('key4', 10021999), (1, 100), ('family', 4), ('car', 10)])\n"
     ]
    }
   ],
   "source": [
    "### ITEMS = STORES KEY VALUE PAIR AS A TUPLE\n",
    "print(d.items())"
   ]
  },
  {
   "cell_type": "code",
   "execution_count": 52,
   "metadata": {},
   "outputs": [
    {
     "name": "stdout",
     "output_type": "stream",
     "text": [
      "[('key', True), ('key0', 20.0), ('key1', {'mango': 20, 'guava': 30}), ('key2', [3, 2, 5, 1]), ('key3', 'third'), ('key4', 10021999), (1, 100), ('family', 4), ('car', 10)]\n",
      "('key', True) <class 'tuple'> key True\n"
     ]
    }
   ],
   "source": [
    "l=list(d.items())\n",
    "print(l)\n",
    "print(l[0],type(l[0]),l[0][0],l[0][1])"
   ]
  },
  {
   "cell_type": "code",
   "execution_count": null,
   "metadata": {},
   "outputs": [],
   "source": []
  },
  {
   "cell_type": "code",
   "execution_count": null,
   "metadata": {},
   "outputs": [],
   "source": []
  },
  {
   "cell_type": "code",
   "execution_count": 53,
   "metadata": {},
   "outputs": [],
   "source": [
    "###ZIP = linking two list in a dictionary\n",
    "l_keys=[\"one\",\"two\",\"three\",\"four\"]\n",
    "l_values=[1 , \"2\", [1,2,3,4],{\"a\":12, \"b\":1223}]"
   ]
  },
  {
   "cell_type": "code",
   "execution_count": 56,
   "metadata": {},
   "outputs": [
    {
     "name": "stdout",
     "output_type": "stream",
     "text": [
      "{'one': 1, 'two': '2', 'three': [1, 2, 3, 4], 'four': {'a': 12, 'b': 1223}}\n"
     ]
    }
   ],
   "source": [
    "p=dict(zip(l_keys,l_values))\n",
    "print(p)"
   ]
  },
  {
   "cell_type": "code",
   "execution_count": null,
   "metadata": {},
   "outputs": [],
   "source": []
  },
  {
   "cell_type": "code",
   "execution_count": null,
   "metadata": {},
   "outputs": [],
   "source": []
  },
  {
   "cell_type": "code",
   "execution_count": null,
   "metadata": {},
   "outputs": [],
   "source": []
  }
 ],
 "metadata": {
  "kernelspec": {
   "display_name": "Python 3",
   "language": "python",
   "name": "python3"
  },
  "language_info": {
   "codemirror_mode": {
    "name": "ipython",
    "version": 3
   },
   "file_extension": ".py",
   "mimetype": "text/x-python",
   "name": "python",
   "nbconvert_exporter": "python",
   "pygments_lexer": "ipython3",
   "version": "3.7.4"
  }
 },
 "nbformat": 4,
 "nbformat_minor": 2
}
