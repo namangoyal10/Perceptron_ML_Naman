{
 "cells": [
  {
   "cell_type": "code",
   "execution_count": 16,
   "metadata": {},
   "outputs": [
    {
     "name": "stdout",
     "output_type": "stream",
     "text": [
      "{1, 2, 4, 6, 9, 11, 22}\n",
      "{1, 2, 99, 4, 41, 11, 31}\n"
     ]
    }
   ],
   "source": [
    "s1=set([11,2,4,1,2,2,4,6,11,2,9,4,22,1])\n",
    "print(s1)\n",
    "s2=set([ 1, 31,41,11, 2, 4,99])\n",
    "print(s2)\n",
    "s3=set([ 1,14,19,23,17,222,2345,14])"
   ]
  },
  {
   "cell_type": "markdown",
   "metadata": {},
   "source": [
    "- add = +, .add() , .union()\n",
    "- intersection = & , .intersection\n",
    "- deletion = -, .difference()"
   ]
  },
  {
   "cell_type": "code",
   "execution_count": 17,
   "metadata": {},
   "outputs": [
    {
     "name": "stdout",
     "output_type": "stream",
     "text": [
      "{1, 2, 4, 6, 9, 11, 299, 22}\n"
     ]
    }
   ],
   "source": [
    "##s3= s1+s2\n",
    "s1.add(299)\n",
    "print(s1)"
   ]
  },
  {
   "cell_type": "code",
   "execution_count": 30,
   "metadata": {},
   "outputs": [
    {
     "name": "stdout",
     "output_type": "stream",
     "text": [
      "{1, 2, 4, 6, 9, 11, 14, 17, 19, 22, 23, 222, 31, 99, 2345, 41, 299} 17\n",
      "{1, 2, 4, 6, 9, 11, 14, 17, 19, 22, 23, 222, 31, 99, 2345, 41, 299} 17\n"
     ]
    }
   ],
   "source": [
    "s1=s1.union(s2)\n",
    "print(s1 ,len(s1))\n",
    "s1=s1 | s3\n",
    "print(s1,len(s1))"
   ]
  },
  {
   "cell_type": "code",
   "execution_count": null,
   "metadata": {},
   "outputs": [],
   "source": []
  },
  {
   "cell_type": "code",
   "execution_count": null,
   "metadata": {},
   "outputs": [],
   "source": []
  },
  {
   "cell_type": "code",
   "execution_count": 21,
   "metadata": {},
   "outputs": [
    {
     "name": "stdout",
     "output_type": "stream",
     "text": [
      "{1, 2, 11, 4}\n"
     ]
    }
   ],
   "source": [
    "s3=set([11,2,4,1,2,2,4,6,11,2,9,4,22,1])\n",
    "\n",
    "s4=set([ 1, 31,41,11, 2, 4,99])\n",
    "\n",
    "print(s3 & s4)"
   ]
  },
  {
   "cell_type": "code",
   "execution_count": 22,
   "metadata": {},
   "outputs": [
    {
     "name": "stdout",
     "output_type": "stream",
     "text": [
      "{1, 2, 11, 4}\n"
     ]
    }
   ],
   "source": [
    "print( s3.intersection (s4))"
   ]
  },
  {
   "cell_type": "code",
   "execution_count": null,
   "metadata": {},
   "outputs": [],
   "source": []
  },
  {
   "cell_type": "code",
   "execution_count": null,
   "metadata": {},
   "outputs": [],
   "source": []
  },
  {
   "cell_type": "code",
   "execution_count": 29,
   "metadata": {},
   "outputs": [
    {
     "name": "stdout",
     "output_type": "stream",
     "text": [
      "{9, 6, 22}\n",
      "{9, 6, 22}\n"
     ]
    }
   ],
   "source": [
    "print(s3-s4)\n",
    "s5=s3.difference(s4)\n",
    "print(s5)"
   ]
  },
  {
   "cell_type": "code",
   "execution_count": null,
   "metadata": {},
   "outputs": [],
   "source": []
  }
 ],
 "metadata": {
  "kernelspec": {
   "display_name": "Python 3",
   "language": "python",
   "name": "python3"
  },
  "language_info": {
   "codemirror_mode": {
    "name": "ipython",
    "version": 3
   },
   "file_extension": ".py",
   "mimetype": "text/x-python",
   "name": "python",
   "nbconvert_exporter": "python",
   "pygments_lexer": "ipython3",
   "version": "3.7.4"
  }
 },
 "nbformat": 4,
 "nbformat_minor": 2
}
