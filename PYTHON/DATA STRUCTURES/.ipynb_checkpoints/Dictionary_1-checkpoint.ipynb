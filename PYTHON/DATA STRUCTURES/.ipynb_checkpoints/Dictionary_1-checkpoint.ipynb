{
 "cells": [
  {
   "cell_type": "markdown",
   "metadata": {},
   "source": [
    "# Dictionary in python=key value pair\n",
    "Key and value can be of any type string int etc"
   ]
  },
  {
   "cell_type": "code",
   "execution_count": 1,
   "metadata": {},
   "outputs": [],
   "source": [
    "d=dict({ \"mango\":10 , \"apple\":20 , 2:10})"
   ]
  },
  {
   "cell_type": "code",
   "execution_count": 13,
   "metadata": {},
   "outputs": [],
   "source": [
    "d1={ \"lichi\": 100 , 'a':1}"
   ]
  },
  {
   "cell_type": "code",
   "execution_count": null,
   "metadata": {},
   "outputs": [],
   "source": []
  },
  {
   "cell_type": "code",
   "execution_count": 15,
   "metadata": {},
   "outputs": [],
   "source": [
    "### insert a key value pair . if same key is entered again it will update the prev value \n",
    "d[\"key\"]=\"value\""
   ]
  },
  {
   "cell_type": "code",
   "execution_count": 16,
   "metadata": {},
   "outputs": [],
   "source": [
    "d[\"health\"]=0"
   ]
  },
  {
   "cell_type": "code",
   "execution_count": 17,
   "metadata": {},
   "outputs": [],
   "source": [
    "d[\"1002\"]=\"birthday\""
   ]
  },
  {
   "cell_type": "code",
   "execution_count": 18,
   "metadata": {},
   "outputs": [
    {
     "name": "stdout",
     "output_type": "stream",
     "text": [
      "{'mango': 10, 'apple': 20, 2: 10, 'key': 'value', 'health': 0, '1002': 'birthday'}\n"
     ]
    }
   ],
   "source": [
    "print(d)"
   ]
  },
  {
   "cell_type": "markdown",
   "metadata": {},
   "source": [
    "# insertion and deletion"
   ]
  },
  {
   "cell_type": "code",
   "execution_count": 21,
   "metadata": {},
   "outputs": [],
   "source": [
    "### inserting a dict list string int against a key in dictionary\n",
    "d2=dict({\"key0\":True , \"key\":20.000 })"
   ]
  },
  {
   "cell_type": "code",
   "execution_count": 22,
   "metadata": {},
   "outputs": [
    {
     "name": "stdout",
     "output_type": "stream",
     "text": [
      "{'key0': True, 'key': 20.0, 'key1': {'mango': 20, 'guava': 30}, 'key2': [3, 2, 5, 1], 'key3': 'third', 'key4': 10021999}\n"
     ]
    }
   ],
   "source": [
    "d2[\"key1\"]=dict({\"mango\":20 , \"guava\":30})\n",
    "d2[\"key2\"]=list([3,2,5,1])\n",
    "d2[\"key3\"]=\"third\"\n",
    "d2[\"key4\"]=10021999\n",
    "print(d2)"
   ]
  },
  {
   "cell_type": "code",
   "execution_count": null,
   "metadata": {},
   "outputs": [],
   "source": []
  },
  {
   "cell_type": "code",
   "execution_count": 42,
   "metadata": {},
   "outputs": [
    {
     "name": "stdout",
     "output_type": "stream",
     "text": [
      "{'mango': 20, 'guava': 30}\n",
      "20\n",
      "5\n"
     ]
    }
   ],
   "source": [
    "## there is no indexing in dictionary therefore for getting a key we have 2 methods. the next method is in Dic-2\n",
    "print(d2[\"key1\"])\n",
    "print(d2[\"key1\"][\"mango\"])\n",
    "print(d2[\"key2\"][2])"
   ]
  },
  {
   "cell_type": "code",
   "execution_count": null,
   "metadata": {},
   "outputs": [],
   "source": []
  },
  {
   "cell_type": "code",
   "execution_count": 43,
   "metadata": {},
   "outputs": [],
   "source": [
    "### problem  : if  here the value was not present it would have returned an error. we can either use memebership (in) \n",
    "##and if else or  a better approach is :-\n"
   ]
  },
  {
   "cell_type": "code",
   "execution_count": 45,
   "metadata": {},
   "outputs": [],
   "source": [
    "### delete a key value pair\n",
    "d2[\"keyss\"]=123\n",
    "del d2[\"keyss\"]"
   ]
  },
  {
   "cell_type": "code",
   "execution_count": 47,
   "metadata": {},
   "outputs": [],
   "source": [
    "## print(d2[\"keyss\"]) \n",
    "\n",
    "## this gives an error"
   ]
  },
  {
   "cell_type": "code",
   "execution_count": null,
   "metadata": {},
   "outputs": [],
   "source": [
    "\n"
   ]
  },
  {
   "cell_type": "code",
   "execution_count": null,
   "metadata": {},
   "outputs": [],
   "source": []
  },
  {
   "cell_type": "code",
   "execution_count": 53,
   "metadata": {},
   "outputs": [
    {
     "name": "stdout",
     "output_type": "stream",
     "text": [
      "6\n",
      "{'key0': True, 'key': 20.0, 'key1': {'mango': 20, 'guava': 30}, 'key2': [3, 2, 5, 1], 'key3': 'third', 'key4': 10021999}\n",
      "<class 'dict'>\n",
      "<class 'bool'>\n"
     ]
    }
   ],
   "source": [
    "##basic functions\n",
    "print(len(d2))\n",
    "print(d2)\n",
    "print(type(d2))\n",
    "print(type(d2[\"key0\"]))"
   ]
  },
  {
   "cell_type": "code",
   "execution_count": null,
   "metadata": {},
   "outputs": [],
   "source": [
    "\n"
   ]
  },
  {
   "cell_type": "code",
   "execution_count": null,
   "metadata": {},
   "outputs": [],
   "source": []
  }
 ],
 "metadata": {
  "kernelspec": {
   "display_name": "Python 3",
   "language": "python",
   "name": "python3"
  },
  "language_info": {
   "codemirror_mode": {
    "name": "ipython",
    "version": 3
   },
   "file_extension": ".py",
   "mimetype": "text/x-python",
   "name": "python",
   "nbconvert_exporter": "python",
   "pygments_lexer": "ipython3",
   "version": "3.7.4"
  }
 },
 "nbformat": 4,
 "nbformat_minor": 2
}
