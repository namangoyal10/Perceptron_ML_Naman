{
 "cells": [
  {
   "cell_type": "code",
   "execution_count": 1,
   "metadata": {},
   "outputs": [],
   "source": [
    "import numpy as np"
   ]
  },
  {
   "cell_type": "code",
   "execution_count": 2,
   "metadata": {},
   "outputs": [
    {
     "name": "stdout",
     "output_type": "stream",
     "text": [
      "[1 2 3 4 5]\n",
      "<class 'numpy.ndarray'>\n",
      "(5,)\n",
      "4\n",
      "\n",
      "[[1 2 3 4 5]]\n",
      "<class 'numpy.ndarray'>\n",
      "(1, 5)\n",
      "4\n"
     ]
    }
   ],
   "source": [
    "a=np.array([1,2,3,4,5])\n",
    "print(a)\n",
    "print(type(a))\n",
    "print(a.shape)\n",
    "print(a[3])\n",
    "\n",
    "print()\n",
    "\n",
    "a=np.array([[1,2,3,4,5]])\n",
    "print(a)\n",
    "print(type(a))\n",
    "print(a.shape)\n",
    "print(a[0][3])"
   ]
  },
  {
   "cell_type": "code",
   "execution_count": 3,
   "metadata": {},
   "outputs": [
    {
     "name": "stdout",
     "output_type": "stream",
     "text": [
      "[[1]\n",
      " [2]\n",
      " [3]\n",
      " [4]\n",
      " [5]]\n",
      "<class 'numpy.ndarray'>\n",
      "(5, 1)\n"
     ]
    }
   ],
   "source": [
    "b=np.array([ [1],[2],[3],[4],[5] ])\n",
    "print(b)\n",
    "print(type(b))\n",
    "print(b.shape)"
   ]
  },
  {
   "cell_type": "code",
   "execution_count": 4,
   "metadata": {},
   "outputs": [
    {
     "name": "stdout",
     "output_type": "stream",
     "text": [
      "1\n",
      "2\n"
     ]
    }
   ],
   "source": [
    "print(b[0][0])\n",
    "print(b[1][0])"
   ]
  },
  {
   "cell_type": "code",
   "execution_count": null,
   "metadata": {},
   "outputs": [],
   "source": []
  },
  {
   "cell_type": "code",
   "execution_count": 5,
   "metadata": {},
   "outputs": [],
   "source": [
    "m=np.array([[1,2,3,4],[5,6,7,8]])"
   ]
  },
  {
   "cell_type": "code",
   "execution_count": 6,
   "metadata": {},
   "outputs": [
    {
     "name": "stdout",
     "output_type": "stream",
     "text": [
      "4\n",
      "4\n",
      "<class 'numpy.int32'>\n",
      "4 <class 'numpy.int32'>\n",
      "4 <class 'numpy.int64'>\n"
     ]
    }
   ],
   "source": [
    "### acccessing of a single value == as an int32\n",
    "print(m[0][3])\n",
    "print(m[0 , 3])\n",
    "print(type(m[0][3]))\n",
    "x=(m[0][3])\n",
    "print(x,type(x))\n",
    "y=np.int64(x)\n",
    "print(y,type(y))\n"
   ]
  },
  {
   "cell_type": "code",
   "execution_count": 15,
   "metadata": {},
   "outputs": [
    {
     "name": "stdout",
     "output_type": "stream",
     "text": [
      "[2 3 4]\n",
      "[2 3 4]\n",
      "<class 'numpy.ndarray'>\n",
      "(3,) (3,)\n",
      "2\n",
      "<class 'numpy.int32'>\n",
      "2 <class 'numpy.int64'>\n"
     ]
    }
   ],
   "source": [
    "##accesing a vector or linear array (section of 1D )\n",
    "print(m[0][1:4])\n",
    "print(m[0 ,1:4])\n",
    "print(type(m[0][1:4]))\n",
    "p=m[0][1:4]\n",
    "q=m[0 , 1:4]\n",
    "print(p.shape , q.shape)\n",
    "\n",
    "## p is a one-D and accessed using p[]\n",
    "print(p[0])\n",
    "print(type(p[0]))\n",
    "\n",
    "d=np.int64(p[0])\n",
    "print(d,type(d))"
   ]
  },
  {
   "cell_type": "code",
   "execution_count": 13,
   "metadata": {},
   "outputs": [
    {
     "name": "stdout",
     "output_type": "stream",
     "text": [
      "[2 3 4]\n",
      "[[2 3 4]]\n",
      "<class 'numpy.ndarray'> <class 'numpy.ndarray'>\n",
      "(3,) (1, 3)\n",
      "4\n",
      "4\n"
     ]
    }
   ],
   "source": [
    "### Important concept\n",
    "print(m[0 ,1:4])\n",
    "x=m[0 ,1:4]\n",
    "\n",
    "print(m[0:1 ,1:4])\n",
    "y=m[0:1 ,1:4]\n",
    "\n",
    "print(type(x),type(y))\n",
    "print(x.shape,y.shape)\n",
    "\n",
    "print(x[2]) \n",
    "## print(y[2]) is a wrong statement\n",
    "print(y[0][2])"
   ]
  },
  {
   "cell_type": "code",
   "execution_count": 14,
   "metadata": {},
   "outputs": [
    {
     "name": "stdout",
     "output_type": "stream",
     "text": [
      "[[3 4]\n",
      " [7 8]]\n",
      "\n",
      "[]\n",
      "<class 'numpy.ndarray'>\n",
      "[[3 4]\n",
      " [7 8]]\n",
      "(2, 2)\n"
     ]
    }
   ],
   "source": [
    "## accessing a part as 2-d matrix from a 2d matrix\n",
    "\n",
    "print(m[ : , 2:])\n",
    "print()\n",
    "print(m[0 :3 ][ 2: ]) ##doesnot work hehehee\n",
    "t=m[ : , 2:]\n",
    "print(type(t),t,t.shape , sep=\"\\n\")"
   ]
  },
  {
   "cell_type": "code",
   "execution_count": 10,
   "metadata": {},
   "outputs": [
    {
     "name": "stdout",
     "output_type": "stream",
     "text": [
      "[[1 2 3 4]\n",
      " [5 6 7 8]]\n",
      "\n",
      "[]\n",
      "\n",
      "[[4]\n",
      " [8]]\n",
      "[[ 1  2  3 10]\n",
      " [ 5  6  7 10]]\n",
      "[[1 2 3 4]\n",
      " [5 6 7 8]]\n"
     ]
    }
   ],
   "source": [
    "#changing the values\n",
    "n=np.array(m)\n",
    "print(n)\n",
    "\n",
    "print()\n",
    "print(n[ : ][ 3:4 ])\n",
    "\n",
    "print()\n",
    "print(n[ : , 3:4 ])\n",
    "\n",
    "n[ : , 3:4 ]=10\n",
    "print(n)\n",
    "print(m)"
   ]
  },
  {
   "cell_type": "code",
   "execution_count": null,
   "metadata": {},
   "outputs": [],
   "source": []
  },
  {
   "cell_type": "code",
   "execution_count": 11,
   "metadata": {},
   "outputs": [
    {
     "name": "stdout",
     "output_type": "stream",
     "text": [
      "[ 1  2  3 10]\n",
      "<class 'numpy.ndarray'>\n",
      "(4,)\n",
      "[ 5  6  7 10]\n",
      "<class 'numpy.ndarray'>\n",
      "(4,)\n"
     ]
    }
   ],
   "source": [
    "for  i in n:\n",
    "    print(i)\n",
    "    print(type(i))\n",
    "    print(i.shape)"
   ]
  },
  {
   "cell_type": "code",
   "execution_count": null,
   "metadata": {},
   "outputs": [],
   "source": []
  },
  {
   "cell_type": "code",
   "execution_count": 12,
   "metadata": {},
   "outputs": [
    {
     "name": "stdout",
     "output_type": "stream",
     "text": [
      "[[ 1  2  3 50]\n",
      " [70 70 70 50]\n",
      " [ 9 10 11 50]]\n"
     ]
    }
   ],
   "source": [
    "p=np.array([[1,2,3,4],[5,6,7,8],[9,10,11,12]])\n",
    "\n",
    "p[ 1 , : ]=70\n",
    "p[ : ,-1]=50\n",
    "\n",
    "print(p)"
   ]
  },
  {
   "cell_type": "code",
   "execution_count": null,
   "metadata": {},
   "outputs": [],
   "source": []
  }
 ],
 "metadata": {
  "kernelspec": {
   "display_name": "Python 3",
   "language": "python",
   "name": "python3"
  },
  "language_info": {
   "codemirror_mode": {
    "name": "ipython",
    "version": 3
   },
   "file_extension": ".py",
   "mimetype": "text/x-python",
   "name": "python",
   "nbconvert_exporter": "python",
   "pygments_lexer": "ipython3",
   "version": "3.7.4"
  }
 },
 "nbformat": 4,
 "nbformat_minor": 2
}
