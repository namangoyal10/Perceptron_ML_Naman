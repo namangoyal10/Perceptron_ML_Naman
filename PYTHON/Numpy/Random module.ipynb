{
 "cells": [
  {
   "cell_type": "markdown",
   "metadata": {},
   "source": [
    "## Random module : already present in numpy\n",
    "- rand = random values in a given shape\n",
    "- randn = returns samples from standard normal distribution\n",
    "- randint = return random integers in a particular range\n",
    "- random = returns a random float in half open interval [0,1)\n",
    "- choice = generates a random sample from a a given 1 d array\n",
    "- shuffle + seed = shuffles the content of an array\n",
    "\n",
    "alternate ways of importing = from numpy import random as rd"
   ]
  },
  {
   "cell_type": "code",
   "execution_count": 1,
   "metadata": {},
   "outputs": [],
   "source": [
    "import numpy as np"
   ]
  },
  {
   "cell_type": "code",
   "execution_count": 2,
   "metadata": {},
   "outputs": [],
   "source": [
    "from numpy import random as rd"
   ]
  },
  {
   "cell_type": "code",
   "execution_count": null,
   "metadata": {},
   "outputs": [],
   "source": []
  },
  {
   "cell_type": "code",
   "execution_count": 3,
   "metadata": {},
   "outputs": [
    {
     "name": "stdout",
     "output_type": "stream",
     "text": [
      "[ 5  6  7  8  9 10 11 12 13 14]\n"
     ]
    }
   ],
   "source": [
    "a=np.arange(10)+5\n",
    "print(a)"
   ]
  },
  {
   "cell_type": "code",
   "execution_count": 12,
   "metadata": {},
   "outputs": [
    {
     "name": "stdout",
     "output_type": "stream",
     "text": [
      "[11  7  6 10  5 14  8  9 13 12]\n",
      "[ 6  9  5 11 12 13  7 14  8 10]\n"
     ]
    }
   ],
   "source": [
    "\n",
    "rd.shuffle(a)\n",
    "print(a)\n",
    "np.random.shuffle(a)\n",
    "print(a)\n",
    "\n",
    "\n",
    "## not valid :numpy.random.shuffle(a)"
   ]
  },
  {
   "cell_type": "code",
   "execution_count": 5,
   "metadata": {},
   "outputs": [
    {
     "name": "stdout",
     "output_type": "stream",
     "text": [
      "9\n",
      "[13 14]\n"
     ]
    }
   ],
   "source": [
    "element=np.random.choice(a)\n",
    "print(element)\n",
    "\n",
    "element2=np.random.choice(a , size=2)\n",
    "print(element2)"
   ]
  },
  {
   "cell_type": "code",
   "execution_count": null,
   "metadata": {},
   "outputs": [],
   "source": []
  },
  {
   "cell_type": "code",
   "execution_count": 6,
   "metadata": {},
   "outputs": [
    {
     "name": "stdout",
     "output_type": "stream",
     "text": [
      "[[0.45720481 0.43069857 0.93912779]\n",
      " [0.77838924 0.71597052 0.8027575 ]]\n"
     ]
    }
   ],
   "source": [
    "b=np.random.rand(2,3)\n",
    "print(b)"
   ]
  },
  {
   "cell_type": "code",
   "execution_count": null,
   "metadata": {},
   "outputs": [],
   "source": []
  },
  {
   "cell_type": "code",
   "execution_count": 7,
   "metadata": {},
   "outputs": [
    {
     "name": "stdout",
     "output_type": "stream",
     "text": [
      "[[ 0.04026035 -0.90312288  0.17532267  0.19443089]\n",
      " [-0.53524902  0.77735121  0.17133845 -0.44285144]]\n"
     ]
    }
   ],
   "source": [
    "##return values from standard normal distr\n",
    "c=np.random.randn(2,4)\n",
    "print(c)"
   ]
  },
  {
   "cell_type": "code",
   "execution_count": null,
   "metadata": {},
   "outputs": [],
   "source": []
  },
  {
   "cell_type": "code",
   "execution_count": 8,
   "metadata": {},
   "outputs": [
    {
     "name": "stdout",
     "output_type": "stream",
     "text": [
      "[8 6 6]\t<class 'numpy.ndarray'>\t(3,)\n",
      "\n",
      "[[8 9 5]\n",
      " [6 8 9]]\t<class 'numpy.ndarray'>\t(2, 3)\n"
     ]
    }
   ],
   "source": [
    "d=np.random.randint( 5, 10 , 3 )\n",
    "print(d ,type(d),d.shape ,sep= \"\\t\")\n",
    "print()\n",
    "e=np.random.randint( 5, 10 , (2,3) )\n",
    "print(e ,type(e),e.shape,sep= \"\\t\")"
   ]
  },
  {
   "cell_type": "code",
   "execution_count": null,
   "metadata": {},
   "outputs": [],
   "source": []
  },
  {
   "cell_type": "code",
   "execution_count": 9,
   "metadata": {},
   "outputs": [
    {
     "name": "stdout",
     "output_type": "stream",
     "text": [
      "[[0.78331447 0.41253884 0.03417131]\n",
      " [0.62402999 0.66063573 0.29849529]]\n"
     ]
    }
   ],
   "source": [
    "f=np.random.random((2,3))\n",
    "print(f)"
   ]
  },
  {
   "cell_type": "code",
   "execution_count": null,
   "metadata": {},
   "outputs": [],
   "source": []
  },
  {
   "cell_type": "code",
   "execution_count": null,
   "metadata": {},
   "outputs": [],
   "source": []
  }
 ],
 "metadata": {
  "kernelspec": {
   "display_name": "Python 3",
   "language": "python",
   "name": "python3"
  },
  "language_info": {
   "codemirror_mode": {
    "name": "ipython",
    "version": 3
   },
   "file_extension": ".py",
   "mimetype": "text/x-python",
   "name": "python",
   "nbconvert_exporter": "python",
   "pygments_lexer": "ipython3",
   "version": "3.7.4"
  }
 },
 "nbformat": 4,
 "nbformat_minor": 2
}
