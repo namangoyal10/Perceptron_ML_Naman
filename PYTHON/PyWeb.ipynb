{
 "cells": [
  {
   "cell_type": "markdown",
   "metadata": {},
   "source": [
    "# <p style=\"text-align:center;font-size:70px;background-color:#0ad61b;color:white;font-style:italic;\">Python for web</p>\n",
    "\n",
    "![](http://www.blog.skytopper.com/wp-content/uploads/2015/06/Global-computer-network.jpg)\n",
    "\n",
    "This bootcamp is all about interacting with **web** using Python programming language!\n",
    "\n",
    "In this bootcamp, we will learn:\n",
    "\n",
    "- to work with web APIs\n",
    "- to download content from web\n",
    "- web scraping\n",
    "- web automation\n",
    "\n",
    "using simple python scripts!\n",
    "\n",
    "![](https://i.amz.mshcdn.com/mqczOBQlR2uS7uALqB4fkKylDx0=/fit-in/1200x9600/https%3A%2F%2Fblueprint-api-production.s3.amazonaws.com%2Fuploads%2Fcard%2Fimage%2F193985%2Fnewhere.jpg)"
   ]
  },
  {
   "cell_type": "code",
   "execution_count": 1,
   "metadata": {},
   "outputs": [],
   "source": [
    "import math"
   ]
  },
  {
   "cell_type": "code",
   "execution_count": 2,
   "metadata": {},
   "outputs": [],
   "source": [
    "math.acos?"
   ]
  },
  {
   "cell_type": "markdown",
   "metadata": {},
   "source": [
    "# 1. Working with web APIs\n",
    "\n",
    "- **What is API?**<br>\n",
    "    API is a set of routines, protocols, and tools for building software applications. An API specifies how software components should interact. \n",
    "![](https://www.retriever.nl/wp-content/uploads/2016/11/api-321x250.png)\n",
    "-------------\n",
    "\n",
    "- **What is web API?**<br>\n",
    "    Web API is a framework for building HTTP services that can be consumed by a broad range of clients including browsers, mobiles, iphone and tablets.\n",
    "![](http://dselva.co.in/blog/wp-content/uploads/2017/09/Web-APIs.png)\n",
    "-----------------\n",
    "- **Some examples of public web APIs:**\n",
    "    - [Facebook Graph API](https://developers.facebook.com/docs/graph-api)\n",
    "    - [Twitter API](https://dev.twitter.com/rest/public)\n",
    "    - [Google API explorer](https://developers.google.com/apis-explorer/#p/)\n",
    "--------------\n",
    "\n",
    "- **What is REST?**<br>\n",
    "    REST is an architectural style followed by web services, in which, they allow requesting systems to access and manipulate their Web resources using a uniform and predefined set of **stateless operations**.\n",
    "    \n",
    "    >In computing, a stateless protocol is a communications protocol in which no information is retained by either sender or receiver. The sender transmits a packet to the receiver and does not expect an acknowledgment of receipt. There is nothing saved that has to be remembered by the next transaction. The server must be able to completely understand the client request without using any server context or server session state. \n",
    "    \n",
    "   Advantages of REST:\n",
    "   - As the transactions are stateless, we can direct them to any instance of the web service. (As no sessions are involved). Hence, the web service can scale to accommodate load changes.\n",
    "   - Binding to a service through an API is a matter of controlling how the URL is decoded.\n",
    "\n",
    "-----------------\n",
    "- **Types of HTTP requests**\n",
    "    - GET\n",
    "    - POST\n",
    "    - DELETE\n",
    "    - PUT\n",
    "    - PATCH, etc.\n",
    "    \n",
    "![](http://lotsofthing.com/wp-content/uploads/2017/11/rest-api-1.jpg)"
   ]
  },
  {
   "cell_type": "markdown",
   "metadata": {},
   "source": [
    "### HTTP  for humans: [requests](http://docs.python-requests.org/en/master/)\n",
    "\n",
    "<img src=\"http://docs.python-requests.org/en/master/_static/requests-sidebar.png\"  height=200 width=200>\n",
    "\n",
    "\n",
    "- Requests is one of the most downloaded Python packages of all time, pulling in over 7,000,000 downloads every month.All the cool kids are doing it\n",
    "\n",
    "- Recreational use of other HTTP libraries may result in dangerous side-effects, including: security vulnerabilities, verbose code, reinventing the wheel, constantly reading documentation, depression, headaches, or even death. Requests is the only Non-GMO HTTP library for Python, safe for human consumption.\n",
    "\n",
    "- Python HTTP: When in doubt, or when not in doubt, use Requests. Beautiful, simple, Pythonic.\n",
    "\n",
    "***Everybody loves it!***\n",
    "\n",
    "#### Installation\n",
    "\n",
    "```\n",
    "pip install requests\n",
    "```"
   ]
  },
  {
   "cell_type": "markdown",
   "metadata": {},
   "source": [
    "## GET request\n",
    "\n",
    "### Example 1\n",
    "\n",
    "http://graph.facebook.com/4/picture?type=large\n",
    "\n",
    "![](http://graph.facebook.com/4/picture?type=large)\n",
    "\n",
    "![](https://encrypted-tbn0.gstatic.com/images?q=tbn:ANd9GcTJ3ELNuC_coeH9tvLn62fsTMoe-vMVQrsfTrLUOIhsUI69i5QIyg)"
   ]
  },
  {
   "cell_type": "markdown",
   "metadata": {},
   "source": [
    "![](http://graph.facebook.com/100002953986902/picture?type=large)"
   ]
  },
  {
   "cell_type": "markdown",
   "metadata": {},
   "source": [
    "![](http://i.imgur.com/gRvt4lV.png)"
   ]
  },
  {
   "cell_type": "code",
   "execution_count": 3,
   "metadata": {},
   "outputs": [
    {
     "ename": "FileNotFoundError",
     "evalue": "[Errno 2] No such file or directory: 'output.bin'",
     "output_type": "error",
     "traceback": [
      "\u001b[1;31m---------------------------------------------------------------------------\u001b[0m",
      "\u001b[1;31mFileNotFoundError\u001b[0m                         Traceback (most recent call last)",
      "\u001b[1;32m<ipython-input-3-b7f4cf4eb2fa>\u001b[0m in \u001b[0;36m<module>\u001b[1;34m\u001b[0m\n\u001b[1;32m----> 1\u001b[1;33m \u001b[1;32mwith\u001b[0m \u001b[0mopen\u001b[0m\u001b[1;33m(\u001b[0m\u001b[1;34m\"output.bin\"\u001b[0m\u001b[1;33m,\u001b[0m \u001b[1;34m\"rb\"\u001b[0m\u001b[1;33m)\u001b[0m \u001b[1;32mas\u001b[0m \u001b[0mfile\u001b[0m\u001b[1;33m:\u001b[0m\u001b[1;33m\u001b[0m\u001b[0m\n\u001b[0m\u001b[0;32m      2\u001b[0m     \u001b[0mprint\u001b[0m\u001b[1;33m(\u001b[0m\u001b[0mfile\u001b[0m\u001b[1;33m.\u001b[0m\u001b[0mread\u001b[0m\u001b[1;33m(\u001b[0m\u001b[1;33m)\u001b[0m\u001b[1;33m)\u001b[0m\u001b[1;33m\u001b[0m\u001b[0m\n",
      "\u001b[1;31mFileNotFoundError\u001b[0m: [Errno 2] No such file or directory: 'output.bin'"
     ]
    }
   ],
   "source": [
    "with open(\"output.bin\", \"rb\") as file:\n",
    "    print(file.read())"
   ]
  },
  {
   "cell_type": "code",
   "execution_count": 4,
   "metadata": {},
   "outputs": [],
   "source": [
    "import requests"
   ]
  },
  {
   "cell_type": "code",
   "execution_count": 5,
   "metadata": {},
   "outputs": [],
   "source": [
    "url = \"https://reqres.in\""
   ]
  },
  {
   "cell_type": "code",
   "execution_count": 6,
   "metadata": {},
   "outputs": [],
   "source": [
    "all_user_endpoint = \"/api/users/\"\n",
    "r = requests.get(url + all_user_endpoint)"
   ]
  },
  {
   "cell_type": "code",
   "execution_count": 7,
   "metadata": {},
   "outputs": [
    {
     "data": {
      "text/plain": [
       "{'Date': 'Thu, 27 Jun 2019 05:45:52 GMT', 'Content-Type': 'application/json; charset=utf-8', 'Transfer-Encoding': 'chunked', 'Connection': 'keep-alive', 'Set-Cookie': '__cfduid=dc001213f6ee3e7b767f09cad62eb590b1561614352; expires=Fri, 26-Jun-20 05:45:52 GMT; path=/; domain=.reqres.in; HttpOnly; Secure', 'X-Powered-By': 'Express', 'Access-Control-Allow-Origin': '*', 'Etag': 'W/\"21b-fFOA+z2p0qqZtiTcYG5d6jtK5Cs\"', 'Via': '1.1 vegur', 'CF-Cache-Status': 'REVALIDATED', 'Expires': 'Thu, 27 Jun 2019 09:45:52 GMT', 'Cache-Control': 'public, max-age=14400', 'Expect-CT': 'max-age=604800, report-uri=\"https://report-uri.cloudflare.com/cdn-cgi/beacon/expect-ct\"', 'Vary': 'Accept-Encoding', 'Server': 'cloudflare', 'CF-RAY': '4ed51e08dfcc6b6b-LHR', 'Content-Encoding': 'gzip'}"
      ]
     },
     "execution_count": 7,
     "metadata": {},
     "output_type": "execute_result"
    }
   ],
   "source": [
    "r.headers"
   ]
  },
  {
   "cell_type": "code",
   "execution_count": 8,
   "metadata": {},
   "outputs": [],
   "source": [
    "content = r.content"
   ]
  },
  {
   "cell_type": "code",
   "execution_count": 9,
   "metadata": {},
   "outputs": [],
   "source": [
    "content = content.decode(\"UTF-8\")"
   ]
  },
  {
   "cell_type": "code",
   "execution_count": 10,
   "metadata": {},
   "outputs": [
    {
     "data": {
      "text/plain": [
       "str"
      ]
     },
     "execution_count": 10,
     "metadata": {},
     "output_type": "execute_result"
    }
   ],
   "source": [
    "type(content)"
   ]
  },
  {
   "cell_type": "code",
   "execution_count": 11,
   "metadata": {},
   "outputs": [],
   "source": [
    "import json"
   ]
  },
  {
   "cell_type": "code",
   "execution_count": 12,
   "metadata": {},
   "outputs": [],
   "source": [
    "data = json.loads(content)"
   ]
  },
  {
   "cell_type": "code",
   "execution_count": 13,
   "metadata": {},
   "outputs": [
    {
     "data": {
      "text/plain": [
       "{'page': 1,\n",
       " 'per_page': 3,\n",
       " 'total': 12,\n",
       " 'total_pages': 4,\n",
       " 'data': [{'id': 1,\n",
       "   'email': 'george.bluth@reqres.in',\n",
       "   'first_name': 'George',\n",
       "   'last_name': 'Bluth',\n",
       "   'avatar': 'https://s3.amazonaws.com/uifaces/faces/twitter/calebogden/128.jpg'},\n",
       "  {'id': 2,\n",
       "   'email': 'janet.weaver@reqres.in',\n",
       "   'first_name': 'Janet',\n",
       "   'last_name': 'Weaver',\n",
       "   'avatar': 'https://s3.amazonaws.com/uifaces/faces/twitter/josephstein/128.jpg'},\n",
       "  {'id': 3,\n",
       "   'email': 'emma.wong@reqres.in',\n",
       "   'first_name': 'Emma',\n",
       "   'last_name': 'Wong',\n",
       "   'avatar': 'https://s3.amazonaws.com/uifaces/faces/twitter/olegpogodaev/128.jpg'}]}"
      ]
     },
     "execution_count": 13,
     "metadata": {},
     "output_type": "execute_result"
    }
   ],
   "source": [
    "data"
   ]
  },
  {
   "cell_type": "code",
   "execution_count": null,
   "metadata": {},
   "outputs": [],
   "source": []
  },
  {
   "cell_type": "markdown",
   "metadata": {},
   "source": [
    "### Example 2\n",
    "\n",
    "[Google maps geocoding API (Paid)](https://developers.google.com/maps/documentation/geocoding/intro)\n",
    "\n",
    "[Open Street Map](https://nominatim.openstreetmap.org/search/)"
   ]
  },
  {
   "cell_type": "code",
   "execution_count": 14,
   "metadata": {},
   "outputs": [],
   "source": [
    "base_url = \"https://nominatim.openstreetmap.org/search/\""
   ]
  },
  {
   "cell_type": "code",
   "execution_count": 15,
   "metadata": {},
   "outputs": [],
   "source": [
    "parameters = {\n",
    "    \"format\": \"json\",\n",
    "    \"q\": \"coding blocks\",\n",
    "    \"name\": \"jatin\"\n",
    "}"
   ]
  },
  {
   "cell_type": "code",
   "execution_count": 16,
   "metadata": {},
   "outputs": [],
   "source": [
    "r = requests.get(base_url, params=parameters)"
   ]
  },
  {
   "cell_type": "code",
   "execution_count": 17,
   "metadata": {},
   "outputs": [
    {
     "data": {
      "text/plain": [
       "'https://nominatim.openstreetmap.org/search/?format=json&q=coding+blocks&name=jatin'"
      ]
     },
     "execution_count": 17,
     "metadata": {},
     "output_type": "execute_result"
    }
   ],
   "source": [
    "r.url"
   ]
  },
  {
   "cell_type": "code",
   "execution_count": 18,
   "metadata": {},
   "outputs": [],
   "source": [
    "data = json.loads(r.content.decode('utf-8'))"
   ]
  },
  {
   "cell_type": "code",
   "execution_count": 19,
   "metadata": {},
   "outputs": [
    {
     "data": {
      "text/plain": [
       "[{'place_id': 237920251,\n",
       "  'licence': 'Data © OpenStreetMap contributors, ODbL 1.0. https://osm.org/copyright',\n",
       "  'osm_type': 'way',\n",
       "  'osm_id': 349993758,\n",
       "  'boundingbox': ['28.6967764', '28.6969339', '77.1424004', '77.1425482'],\n",
       "  'lat': '28.6968552',\n",
       "  'lon': '77.1424743283951',\n",
       "  'display_name': 'Coding Blocks, Pitampura, 47, Mahatma Gandhi Road, Rohit Kunj, North West Delhi, Delhi, 110034, India',\n",
       "  'class': 'office',\n",
       "  'type': 'educational_institution',\n",
       "  'importance': 0.201}]"
      ]
     },
     "execution_count": 19,
     "metadata": {},
     "output_type": "execute_result"
    }
   ],
   "source": [
    "data"
   ]
  },
  {
   "cell_type": "code",
   "execution_count": 20,
   "metadata": {},
   "outputs": [
    {
     "data": {
      "text/plain": [
       "('28.6968552', '77.1424743283951')"
      ]
     },
     "execution_count": 20,
     "metadata": {},
     "output_type": "execute_result"
    }
   ],
   "source": [
    "data[0]['lat'], data[0]['lon']"
   ]
  },
  {
   "cell_type": "code",
   "execution_count": null,
   "metadata": {},
   "outputs": [],
   "source": []
  },
  {
   "cell_type": "code",
   "execution_count": null,
   "metadata": {},
   "outputs": [],
   "source": []
  },
  {
   "cell_type": "code",
   "execution_count": null,
   "metadata": {},
   "outputs": [],
   "source": []
  },
  {
   "cell_type": "code",
   "execution_count": null,
   "metadata": {},
   "outputs": [],
   "source": []
  },
  {
   "cell_type": "markdown",
   "metadata": {},
   "source": [
    "## POST request\n",
    "\n",
    "![](https://indianpythonista.files.wordpress.com/2016/12/iservice_post_get.png?w=809)"
   ]
  },
  {
   "cell_type": "markdown",
   "metadata": {},
   "source": [
    "### Example 1\n",
    "\n",
    "[Pastebin API](https://pastebin.com/api)"
   ]
  },
  {
   "cell_type": "code",
   "execution_count": 77,
   "metadata": {},
   "outputs": [],
   "source": [
    "key = \"e7d82892722c4597a57091897f2a449f\"\n",
    "\n",
    "base_url = \"https://pastebin.com/api/api_post.php\"\n",
    "\n",
    "data = {\n",
    "    \"api_dev_key\": key,\n",
    "    \"api_option\": \"paste\",\n",
    "    \"api_paste_format\": \"Python\",\n",
    "    \"api_paste_code\": \"\"\"\n",
    "        for i in range(5):\n",
    "            for i in range(5):\n",
    "                print(min(i, j, n-i-1, n-j-1))\n",
    "    \"\"\"\n",
    "}"
   ]
  },
  {
   "cell_type": "code",
   "execution_count": 78,
   "metadata": {},
   "outputs": [],
   "source": [
    "r = requests.post(base_url, data = data)"
   ]
  },
  {
   "cell_type": "code",
   "execution_count": 79,
   "metadata": {},
   "outputs": [
    {
     "data": {
      "text/plain": [
       "b'https://pastebin.com/zhSxpDLR'"
      ]
     },
     "execution_count": 79,
     "metadata": {},
     "output_type": "execute_result"
    }
   ],
   "source": [
    "r.content"
   ]
  },
  {
   "cell_type": "code",
   "execution_count": null,
   "metadata": {},
   "outputs": [],
   "source": []
  },
  {
   "cell_type": "code",
   "execution_count": null,
   "metadata": {},
   "outputs": [],
   "source": []
  },
  {
   "cell_type": "markdown",
   "metadata": {},
   "source": [
    "### Hot or Not"
   ]
  },
  {
   "cell_type": "code",
   "execution_count": 80,
   "metadata": {},
   "outputs": [],
   "source": [
    "base_url_format = \"http://graph.facebook.com/{}/picture?type=large\""
   ]
  },
  {
   "cell_type": "code",
   "execution_count": 81,
   "metadata": {},
   "outputs": [],
   "source": [
    "r = requests.get(base_url_format.format(4))"
   ]
  },
  {
   "cell_type": "code",
   "execution_count": 83,
   "metadata": {},
   "outputs": [],
   "source": [
    "with open(\"zuckerbhai.png\", \"wb\") as file:\n",
    "    file.write(r.content)"
   ]
  },
  {
   "cell_type": "code",
   "execution_count": 85,
   "metadata": {},
   "outputs": [],
   "source": [
    "import os"
   ]
  },
  {
   "cell_type": "code",
   "execution_count": 87,
   "metadata": {},
   "outputs": [],
   "source": [
    "if not 'fb_profiles' in os.listdir():\n",
    "    os.mkdir('fb_profiles')"
   ]
  },
  {
   "cell_type": "code",
   "execution_count": 84,
   "metadata": {},
   "outputs": [
    {
     "name": "stdout",
     "output_type": "stream",
     "text": [
      "done with 4 id\n",
      "done with 5 id\n",
      "done with 6 id\n",
      "done with 7 id\n",
      "done with 8 id\n",
      "done with 9 id\n",
      "done with 10 id\n",
      "done with 11 id\n",
      "done with 12 id\n",
      "done with 13 id\n",
      "done with 14 id\n",
      "done with 15 id\n",
      "done with 16 id\n",
      "done with 17 id\n",
      "done with 18 id\n",
      "done with 19 id\n",
      "done with 20 id\n",
      "done with 21 id\n",
      "done with 22 id\n",
      "done with 23 id\n",
      "done with 24 id\n",
      "done with 25 id\n",
      "done with 26 id\n",
      "done with 27 id\n",
      "done with 28 id\n",
      "done with 29 id\n",
      "done with 30 id\n",
      "done with 31 id\n",
      "done with 32 id\n",
      "done with 33 id\n",
      "done with 34 id\n",
      "done with 35 id\n",
      "done with 36 id\n",
      "done with 37 id\n",
      "done with 38 id\n",
      "done with 39 id\n",
      "done with 40 id\n",
      "done with 41 id\n",
      "done with 42 id\n",
      "done with 43 id\n",
      "done with 44 id\n",
      "done with 45 id\n",
      "done with 46 id\n",
      "done with 47 id\n",
      "done with 48 id\n",
      "done with 49 id\n",
      "done with 50 id\n",
      "done with 51 id\n",
      "done with 52 id\n",
      "done with 53 id\n",
      "done with 54 id\n",
      "done with 55 id\n",
      "done with 56 id\n",
      "done with 57 id\n",
      "done with 58 id\n",
      "done with 59 id\n",
      "done with 60 id\n",
      "done with 61 id\n",
      "done with 62 id\n",
      "done with 63 id\n",
      "done with 64 id\n",
      "done with 65 id\n",
      "done with 66 id\n",
      "done with 67 id\n",
      "done with 68 id\n",
      "done with 69 id\n",
      "done with 70 id\n",
      "done with 71 id\n",
      "done with 72 id\n",
      "done with 73 id\n",
      "done with 74 id\n",
      "done with 75 id\n",
      "done with 76 id\n",
      "done with 77 id\n",
      "done with 78 id\n",
      "done with 79 id\n",
      "done with 80 id\n",
      "done with 81 id\n",
      "done with 82 id\n",
      "done with 83 id\n",
      "done with 84 id\n",
      "done with 85 id\n",
      "done with 86 id\n",
      "done with 87 id\n",
      "done with 88 id\n",
      "done with 89 id\n",
      "done with 90 id\n",
      "done with 91 id\n",
      "done with 92 id\n",
      "done with 93 id\n",
      "done with 94 id\n",
      "done with 95 id\n",
      "done with 96 id\n",
      "done with 97 id\n",
      "done with 98 id\n",
      "done with 99 id\n"
     ]
    }
   ],
   "source": [
    "for i in range(4, 100):\n",
    "    gen_url = base_url_format.format(i)\n",
    "    r = requests.get(gen_url)\n",
    "    with open(\"fb_profiles/{}_image.png\".format(i), \"wb\") as file:\n",
    "        file.write(r.content)\n",
    "    print(\"done with {} id\".format(i))"
   ]
  },
  {
   "cell_type": "code",
   "execution_count": null,
   "metadata": {},
   "outputs": [],
   "source": []
  },
  {
   "cell_type": "code",
   "execution_count": null,
   "metadata": {},
   "outputs": [],
   "source": []
  },
  {
   "cell_type": "markdown",
   "metadata": {},
   "source": [
    "# 2. Downloading files\n",
    "\n",
    "![](https://pics.onsizzle.com/downloading-98-downloading-99-downloading-failed-11367153.png)\n",
    "\n",
    "Downloading large files in chunks!\n",
    "\n",
    "http://www.greenteapress.com/thinkpython/thinkpython.pdf\n",
    "\n",
    "```python\n",
    "chunk_size = 256\n",
    "r = requests.get(url, stream=True)\n",
    "\n",
    "with open(\"python.pdf\", \"wb\") as f:\n",
    "    for chunk in r.iter_content(chunk_size=chunk_size):\n",
    "        f.write(chunk)\n",
    "```"
   ]
  },
  {
   "cell_type": "code",
   "execution_count": 117,
   "metadata": {},
   "outputs": [],
   "source": [
    "import requests"
   ]
  },
  {
   "cell_type": "code",
   "execution_count": 118,
   "metadata": {},
   "outputs": [],
   "source": [
    "import tqdm"
   ]
  },
  {
   "cell_type": "code",
   "execution_count": 119,
   "metadata": {},
   "outputs": [],
   "source": [
    "url=(\"http://www.cartographicperspectives.org/index.php/journal/article/view/cp43-complete-issue/577\")"
   ]
  },
  {
   "cell_type": "code",
   "execution_count": 120,
   "metadata": {},
   "outputs": [],
   "source": [
    "chunk_size=256"
   ]
  },
  {
   "cell_type": "code",
   "execution_count": 121,
   "metadata": {},
   "outputs": [],
   "source": [
    "r=requests.get(url,stream=True)"
   ]
  },
  {
   "cell_type": "code",
   "execution_count": null,
   "metadata": {},
   "outputs": [],
   "source": []
  },
  {
   "cell_type": "code",
   "execution_count": null,
   "metadata": {},
   "outputs": [],
   "source": []
  },
  {
   "cell_type": "code",
   "execution_count": 132,
   "metadata": {},
   "outputs": [],
   "source": [
    "import requests"
   ]
  },
  {
   "cell_type": "code",
   "execution_count": 133,
   "metadata": {},
   "outputs": [],
   "source": [
    "import tqdm"
   ]
  },
  {
   "cell_type": "code",
   "execution_count": 134,
   "metadata": {},
   "outputs": [],
   "source": [
    "import math"
   ]
  },
  {
   "cell_type": "code",
   "execution_count": 135,
   "metadata": {},
   "outputs": [],
   "source": [
    "url1=(\"https://cb.lk/4w1Q1\")"
   ]
  },
  {
   "cell_type": "code",
   "execution_count": 136,
   "metadata": {},
   "outputs": [],
   "source": [
    "chunk=256"
   ]
  },
  {
   "cell_type": "code",
   "execution_count": 137,
   "metadata": {},
   "outputs": [],
   "source": [
    "r=requests.get(url1,stream=True)"
   ]
  },
  {
   "cell_type": "code",
   "execution_count": 138,
   "metadata": {},
   "outputs": [
    {
     "data": {
      "text/plain": [
       "{'Date': 'Thu, 03 Jan 2019 04:28:48 GMT', 'Server': 'Apache', 'Last-Modified': 'Mon, 22 Feb 2016 17:23:24 GMT', 'ETag': '\"cbc7d-52c5f17101b00\"', 'Accept-Ranges': 'bytes', 'Content-Length': '834685', 'Content-Type': 'application/pdf', 'Connection': 'keep-alive'}"
      ]
     },
     "execution_count": 138,
     "metadata": {},
     "output_type": "execute_result"
    }
   ],
   "source": [
    "r.headers"
   ]
  },
  {
   "cell_type": "code",
   "execution_count": 139,
   "metadata": {},
   "outputs": [
    {
     "data": {
      "text/plain": [
       "'Thu, 03 Jan 2019 04:28:48 GMT'"
      ]
     },
     "execution_count": 139,
     "metadata": {},
     "output_type": "execute_result"
    }
   ],
   "source": [
    "r.headers['Date']"
   ]
  },
  {
   "cell_type": "code",
   "execution_count": 96,
   "metadata": {},
   "outputs": [],
   "source": [
    "# with open(\"lafbw.pdf\",\"wb\")as file:\n",
    "#     file.write(r.content)"
   ]
  },
  {
   "cell_type": "code",
   "execution_count": null,
   "metadata": {},
   "outputs": [],
   "source": []
  },
  {
   "cell_type": "code",
   "execution_count": null,
   "metadata": {},
   "outputs": [],
   "source": []
  },
  {
   "cell_type": "raw",
   "metadata": {},
   "source": []
  },
  {
   "cell_type": "code",
   "execution_count": 140,
   "metadata": {},
   "outputs": [],
   "source": [
    "n=math.ceil(int(r.headers['Content-Length'])/chunk)"
   ]
  },
  {
   "cell_type": "code",
   "execution_count": 142,
   "metadata": {},
   "outputs": [
    {
     "name": "stderr",
     "output_type": "stream",
     "text": [
      "\n",
      "  0%|                                                                                     | 0.0/815.25 [00:00<?, ?KB/s]\n",
      " 17%|████████████                                                            | 136.25/815.25 [00:00<00:00, 1233.73KB/s]\n",
      " 28%|███████████████████▊                                                    | 224.75/815.25 [00:00<00:00, 1097.70KB/s]\n",
      " 38%|███████████████████████████▊                                              | 306.0/815.25 [00:00<00:00, 986.76KB/s]\n",
      " 49%|███████████████████████████████████▉                                      | 396.5/815.25 [00:00<00:00, 941.07KB/s]\n",
      " 60%|████████████████████████████████████████████▌                             | 491.0/815.25 [00:00<00:00, 925.24KB/s]\n",
      " 71%|████████████████████████████████████████████████████▊                     | 581.5/815.25 [00:00<00:00, 916.76KB/s]\n",
      " 83%|████████████████████████████████████████████████████████████▏            | 672.75/815.25 [00:00<00:00, 903.38KB/s]\n",
      " 94%|█████████████████████████████████████████████████████████████████████▌    | 766.5/815.25 [00:00<00:00, 870.50KB/s]\n",
      "100%|█████████████████████████████████████████████████████████████████████████| 815.25/815.25 [00:00<00:00, 911.36KB/s]"
     ]
    }
   ],
   "source": [
    "with open(\"lar.pdf\",\"wb\") as file:\n",
    "    for chunki in tqdm.tqdm(r.iter_content(chunk_size=chunk),total=n,unit=\"KB\",unit_scale=(256/1024)):\n",
    "        file.write(chunki)"
   ]
  },
  {
   "cell_type": "code",
   "execution_count": null,
   "metadata": {},
   "outputs": [],
   "source": []
  },
  {
   "cell_type": "code",
   "execution_count": null,
   "metadata": {},
   "outputs": [],
   "source": [
    "chunk_size="
   ]
  },
  {
   "cell_type": "code",
   "execution_count": null,
   "metadata": {},
   "outputs": [],
   "source": []
  },
  {
   "cell_type": "code",
   "execution_count": null,
   "metadata": {},
   "outputs": [],
   "source": []
  },
  {
   "cell_type": "markdown",
   "metadata": {},
   "source": [
    "# 3. Web scraping\n",
    "\n",
    "![](https://image.slidesharecdn.com/scrapingtotherescue-160713133749/95/getting-started-with-web-scraping-in-python-9-638.jpg?cb=1468417631)\n"
   ]
  },
  {
   "cell_type": "markdown",
   "metadata": {},
   "source": [
    "## [Beautiful Soup](https://www.crummy.com/software/BeautifulSoup/bs4/doc/)\n",
    "\n",
    ">Beautiful Soup is a Python library for pulling data out of HTML and XML files. It works with your favorite parser to provide idiomatic ways of navigating, searching, and modifying the parse tree. It commonly saves programmers hours or days of work.\n",
    "\n",
    "### Installation\n",
    "\n",
    "```\n",
    "pip install bs4\n",
    "```\n",
    "\n",
    "**Bonus:**\n",
    "```\n",
    "pip install html5lib\n",
    "```"
   ]
  },
  {
   "cell_type": "markdown",
   "metadata": {},
   "source": [
    "https://www.values.com/inspirational-quotes"
   ]
  },
  {
   "cell_type": "code",
   "execution_count": 37,
   "metadata": {},
   "outputs": [],
   "source": [
    "from bs4 import BeautifulSoup"
   ]
  },
  {
   "cell_type": "code",
   "execution_count": 8,
   "metadata": {},
   "outputs": [
    {
     "ename": "FileNotFoundError",
     "evalue": "[Errno 2] No such file or directory: 'index.html'",
     "output_type": "error",
     "traceback": [
      "\u001b[1;31m---------------------------------------------------------------------------\u001b[0m",
      "\u001b[1;31mFileNotFoundError\u001b[0m                         Traceback (most recent call last)",
      "\u001b[1;32m<ipython-input-8-34680bc3484c>\u001b[0m in \u001b[0;36m<module>\u001b[1;34m\u001b[0m\n\u001b[0;32m      1\u001b[0m \u001b[0mcontent\u001b[0m\u001b[1;33m=\u001b[0m\u001b[1;34m''\u001b[0m\u001b[1;33m\u001b[0m\u001b[1;33m\u001b[0m\u001b[0m\n\u001b[1;32m----> 2\u001b[1;33m \u001b[1;32mwith\u001b[0m \u001b[0mopen\u001b[0m\u001b[1;33m(\u001b[0m\u001b[1;34m\"index.html\"\u001b[0m\u001b[1;33m,\u001b[0m\u001b[1;34m\"r+\"\u001b[0m\u001b[1;33m)\u001b[0m\u001b[1;32mas\u001b[0m \u001b[0mfile\u001b[0m\u001b[1;33m:\u001b[0m\u001b[1;33m\u001b[0m\u001b[1;33m\u001b[0m\u001b[0m\n\u001b[0m\u001b[0;32m      3\u001b[0m     \u001b[0mcontent\u001b[0m\u001b[1;33m=\u001b[0m\u001b[0mfile\u001b[0m\u001b[1;33m.\u001b[0m\u001b[0mread\u001b[0m\u001b[1;33m(\u001b[0m\u001b[1;33m)\u001b[0m\u001b[1;33m\u001b[0m\u001b[1;33m\u001b[0m\u001b[0m\n",
      "\u001b[1;31mFileNotFoundError\u001b[0m: [Errno 2] No such file or directory: 'index.html'"
     ]
    }
   ],
   "source": [
    "content=''\n",
    "with open(\"index.html\",\"r+\")as file:\n",
    "    content=file.read()"
   ]
  },
  {
   "cell_type": "code",
   "execution_count": 9,
   "metadata": {},
   "outputs": [],
   "source": [
    "soup=BeautifulSoup(\"td\")"
   ]
  },
  {
   "cell_type": "code",
   "execution_count": 38,
   "metadata": {},
   "outputs": [],
   "source": [
    "url=(\"https://www.passiton.com/inspirational-quotes\")\n"
   ]
  },
  {
   "cell_type": "code",
   "execution_count": 39,
   "metadata": {},
   "outputs": [],
   "source": [
    "import requests"
   ]
  },
  {
   "cell_type": "code",
   "execution_count": 40,
   "metadata": {},
   "outputs": [],
   "source": [
    "r=requests.get(url)"
   ]
  },
  {
   "cell_type": "code",
   "execution_count": 41,
   "metadata": {},
   "outputs": [],
   "source": [
    "content=r.content.decode(\"utf-8\")"
   ]
  },
  {
   "cell_type": "code",
   "execution_count": 42,
   "metadata": {},
   "outputs": [
    {
     "data": {
      "text/plain": [
       "'<!DOCTYPE html>\\n<html dir=\"ltr\" lang=\"en-US\">\\n<head>\\n    <meta http-equiv=\"content-type\" content=\"text/html; charset=utf-8\" />\\n    <link href=\"https://fonts.googleapis.com/css?family=Roboto:900|Lato:300,400,400italic,600,700|Raleway:300,400,500,600,700|Crete+Round:400italic|Zilla+Slab\" rel=\"stylesheet\" type=\"text/css\" />\\n    <link rel=\"stylesheet\" media=\"all\" href=\"/assets/application-f7c42ac1a26bc766307e42ff5df71b58.css\" />\\n\\n    <meta charset=\"utf-8\" />\\n    <meta name=\"viewport\" content=\"width=device-width, initial-scale=1\" />\\n    <!--[if lt IE 9]><script src=\"http://css3-mediaqueries-js.googlecode.com/svn/trunk/css3-mediaqueries.js\"></script><![endif]-->\\n    <title>Inspirational Quotes - Motivational Quotes - Leadership Quotes | PassItOn.com</title>\\n    <meta name=\"description\" content=\"Find the perfect quotation from our hand-picked collection of inspiring quotes by hundreds of authors.\" />\\n    <meta name=\"csrf-param\" content=\"authenticity_token\" />\\n<meta name=\"csrf-token\" content=\"LsZTPUNGVbU1eTKduMcjyyFitKz4TEunQFqnJI+2tnfa9fdhtBR9MptBEQNOTaJnndCArfwRnCw47VBlk6dxlw==\" />\\n\\n    <script>\\n        (function(i,s,o,g,r,a,m){i[\\'GoogleAnalyticsObject\\']=r;i[r]=i[r]||function(){\\n        (i[r].q=i[r].q||[]).push(arguments)},i[r].l=1*new Date();a=s.createElement(o),\\n        m=s.getElementsByTagName(o)[0];a.async=1;a.src=g;m.parentNode.insertBefore(a,m)\\n        })(window,document,\\'script\\',\\'//www.google-analytics.com/analytics.js\\',\\'ga\\');\\n        ga(\\'create\\', \\'UA-1179606-29\\', \\'auto\\');\\n        ga(\\'require\\', \\'displayfeatures\\');\\n        ga(\\'send\\', \\'pageview\\');\\n    </script>\\n\\n    <script>\\n      window.fbAsyncInit = function() {\\n        FB.init({\\n          appId      : \\'483774921971842\\',\\n          cookie     : true,\\n          xfbml      : true,\\n          version    : \\'3.0\\'\\n        });\\n\\n        FB.AppEvents.logPageView();\\n\\n      };\\n\\n      (function(d, s, id){\\n         var js, fjs = d.getElementsByTagName(s)[0];\\n         if (d.getElementById(id)) {return;}\\n         js = d.createElement(s); js.id = id;\\n         js.src = \"https://connect.facebook.net/en_US/sdk.js\";\\n         fjs.parentNode.insertBefore(js, fjs);\\n       }(document, \\'script\\', \\'facebook-jssdk\\'));\\n    </script>\\n\\n    <meta property=\"og:site_name\" content=\"passiton.com\">\\n    <meta property=\"og:title\" content=\"Inspirational Quotes - Motivational Quotes - Leadership Quotes\" />\\n    <meta property=\"og:type\" content=\"website\" />\\n    <meta property=\"og:image\" content=\"https://www.passiton.com/passiton.jpg\" />\\n    <meta property=\"og:url\" content=\"https://www.passiton.com/inspirational-quotes\" />\\n    <meta property=\"og:description\" content=\"Find the perfect quotation from our hand-picked collection of inspiring quotes by hundreds of authors.\" />\\n    <meta property=\"fb:app_id\" content=\"483774921971842\" />\\n\\n    <meta name=\"twitter:card\" content=\"summary_large_image\" />\\n    <meta name=\"twitter:site\" content=\"@passiton\" />\\n    <meta name=\"twitter:creator\" content=\"@passiton\">\\n    <meta name=\"twitter:title\" content=\"Inspirational Quotes - Motivational Quotes - Leadership Quotes\" />\\n    <meta name=\"twitter:description\" content=\"Find the perfect quotation from our hand-picked collection of inspiring quotes by hundreds of authors.\" />\\n    <meta name=\"twitter:image\" content=\"https://www.passiton.com/passiton.jpg\" />\\n    <meta name=\"twitter:url\" content=\"https://www.passiton.com/inspirational-quotes\" />\\n\\n    <meta itemprop=\"name\" content=\"passiton.com\">\\n    <meta itemprop=\"description\" content=\"Find the perfect quotation from our hand-picked collection of inspiring quotes by hundreds of authors.\">\\n    <meta itemprop=\"image\" content=\"https://www.passiton.com/passiton.jpg\">\\n\\n    <link rel=\"apple-touch-icon\" sizes=\"180x180\" href=\"/apple-touch-icon.png\">\\n    <link rel=\"icon\" type=\"image/png\" sizes=\"32x32\" href=\"/favicon-32x32.png\">\\n    <link rel=\"icon\" type=\"image/png\" sizes=\"16x16\" href=\"/favicon-16x16.png\">\\n    <link rel=\"mask-icon\" href=\"/passiton_arrow.svg\" color=\"#C8102E\">\\n    <link rel=\"manifest\" href=\"/manifest.json\">\\n    <link rel=\"mask-icon\" href=\"/safari-pinned-tab.svg\" color=\"#5bbad5\">\\n    <meta name=\"apple-mobile-web-app-title\" content=\"passiton\">\\n    <meta name=\"application-name\" content=\"passiton\">\\n    <meta name=\"theme-color\" content=\"#f1f1f1\">\\n\\n    \\n</head>\\n<body class=\"stretched no-transition quotes_index\">\\n\\n    <div id=\"wrapper\" class=\"clearfix\">\\n\\n        <header id=\"header\" class=\"full-header dark\" data-sticky-class=\"dark\">\\n\\n            <div id=\"header-wrap\">\\n\\n                <div class=\"container clearfix\">\\n\\n                    <div id=\"primary-menu-trigger\"><i class=\"icon-reorder\"></i></div>\\n\\n                    <div id=\"logo\">\\n                        <a href=\"/\" class=\"standard-logo\" data-dark-logo=\"/assets/logo-dark-7b51f8d9634d3b1a21937f284fa87e90.png\"><img src=\"/assets/logo-7b51f8d9634d3b1a21937f284fa87e90.png\" alt=\"passiton.com\"></a>\\n                        <a href=\"/\" class=\"retina-logo\" data-dark-logo=\"/assets/logo-dark@2x-489985db9fac6d33cd09d160857bedd4.png\"><img src=\"/assets/logo@2x-489985db9fac6d33cd09d160857bedd4.png\" alt=\"passiton.com\"></a>\\n                    </div>\\n\\n                    <nav id=\"primary-menu\" class=\"\">\\n\\n                        <ul>\\n                            <li class=\"current\"><a href=\"/inspirational-quotes\">quotes</a></li>\\n                            <li class=\"\"><a href=\"/inspirational-stories-tv-spots\">videos</a></li>\\n\\n                            <li class=\"\"><a href=\"/inspirational-sayings-billboards\"><i class=\\'icon-caret-down\\'></i> billboards</a>\\n                                <ul>\\n                                    <li class=\"\"><a href=\"/inspirational-sayings-billboards\">official billboards</a></li>\\n                                    <li class=\"\"><a href=\"/your-billboards/create\">create your own billboard</a></li>\\n                                </ul>\\n                            </li>\\n\\n                            <li class=\"\"><a href=\"/radio\">radio ads</a></li>\\n                            <li class=\"\"><a href=\"/who-we-are\">about us</a></li>\\n                            <li class=\"\"><a href=\"/contact-us\">contact</a></li>\\n                            <li class=\"\"><a class=\"dropdown-toggle\" href=\"\"><i class=\\'icon-caret-down\\'></i> language</a>\\n                                <ul class=\\'dark\\'>\\n                                    <li class=\\'dark\\'><a target=\"_blank\" href=\"https://www.pasala.org/\">Español</a></li>\\n                                    <li class=\\'dark\\'><a target=\"_blank\" href=\"https://www.umavidamelhor.org/\">Português</a></li>\\n                                    <li class=\\'dark\\'><a target=\"_blank\" href=\"https://values.cn.com/\">中文</a></li>\\n                                </ul>\\n                            </li>\\n                        </ul>\\n\\n                        <div id=\"top-search\">\\n                            <a href=\"#\" id=\"top-search-trigger\"><i class=\"icon-search3\"></i><i class=\"icon-line-cross\"></i></a>\\n                            <form action=\"/search\" method=\"get\">\\n                                <input type=\"text\" name=\"q\" class=\"form-control\" value=\"\" placeholder=\"search\">\\n                            </form>\\n                        </div>\\n\\n                    </nav>\\n\\n                </div>\\n\\n            </div>\\n\\n        </header>\\n\\n        \\n<section id=\"content\">\\n\\n\\t<div class=\"content-wrap\">\\n\\n\\t\\t<div class=\"container clearfix\">\\n\\n\\t\\t\\t<div class=\\'center_wrapper\\'>\\n\\n\\t\\t\\t\\t<div class=\\'row\\'>\\n\\n\\t<div class=\\'col-sm-12\\'>\\n\\n\\t\\t<div class=\\'inbox_inspiration text-left\\'>\\n\\n\\t\\t\\t<div class=\\'row\\'>\\n\\n\\t\\t\\t\\t<div class=\\'col-sm-4\\'>\\n\\n\\t\\t\\t\\t\\t<h5>Subscribe to our FREE<br />inspirational quote emails!</h5>\\n\\n\\t\\t\\t\\t\\t<form novalidate=\"novalidate\" class=\"simple_form new_user\" id=\"new_user\" action=\"/users\" accept-charset=\"UTF-8\" method=\"post\"><input name=\"utf8\" type=\"hidden\" value=\"&#x2713;\" /><input type=\"hidden\" name=\"authenticity_token\" value=\"1IUa8b63ZiBC5ipKbN+INsxV/0HNEc8HYwRep1guYOogtr6tSeVOp+zeCdSaVQmacOfLQMlMGIwbs6nmRD+nCg==\" />\\n\\n\\t\\t\\t\\t\\t\\t<div class=\"row\">\\n\\t\\t\\t\\t\\t\\t\\t<div class=\"col-sm-8\">\\n\\t\\t\\t\\t\\t\\t\\t\\t<div class=\"input email optional user_email\"><input class=\"string email optional sm-form-control sm-form-control-grey\" style=\"height: 32px;\" placeholder=\"Type your email address\" type=\"email\" name=\"user[email]\" id=\"user_email\" /></div>\\n\\t\\t\\t\\t\\t\\t\\t</div>\\n\\t\\t\\t\\t\\t\\t\\t<div class=\"col-sm-4\">\\n\\t\\t\\t\\t\\t\\t\\t\\t<input type=\"submit\" name=\"commit\" value=\"Subscribe\" class=\"btn btn btn-default btn-red noradius btn-hero\" data-disable-with=\"Sending...\" />\\n\\t\\t\\t\\t\\t\\t\\t</div>\\n\\t\\t\\t\\t\\t\\t</div>\\n\\n</form>\\n\\t\\t\\t\\t</div>\\n\\n\\t\\t\\t\\t<div class=\\'col-sm-8\\'>\\n\\n\\t\\t\\t\\t\\t<div class=\\'row\\'>\\n\\t\\t\\t\\t\\t\\t<div class=\\'col-sm-4 bumper\\'>\\n\\t\\t\\t\\t\\t\\t\\t<div class=\"cycle-slideshow\" data-cycle-fx=flipHorz data-cycle-timeout=7000>\\n\\t\\t\\t\\t\\t\\t\\t\\t<img class=\"img-responsive\" src=\"https://quotes.values.com/quote_artwork/3763/medium/20170116_monday_quote.jpg\" alt=\"20170116 monday quote\" />\\n\\t\\t\\t\\t\\t\\t\\t\\t<img class=\"img-responsive\" src=\"https://quotes.values.com/quote_artwork/7347/medium/friday_quote.jpg\" alt=\"Friday quote\" />\\n\\t\\t\\t\\t\\t\\t\\t\\t<img class=\"img-responsive\" src=\"https://quotes.values.com/quote_artwork/5014/medium/20170303_friday_quote.jpg\" alt=\"20170303 friday quote\" />\\n\\t\\t\\t\\t\\t\\t\\t</div>\\n\\t\\t\\t\\t\\t\\t</div>\\n\\t\\t\\t\\t\\t\\t<div class=\\'col-sm-4 bumper\\'>\\n\\t\\t\\t\\t\\t\\t\\t<div class=\"cycle-slideshow\" data-cycle-fx=flipHorz data-cycle-timeout=6800>\\n\\t\\t\\t\\t\\t\\t\\t\\t<img class=\"img-responsive\" src=\"https://quotes.values.com/quote_artwork/7579/medium/20161213_tuesday_quote_new.jpg\" alt=\"20161213 tuesday quote new\" />\\n\\t\\t\\t\\t\\t\\t\\t\\t<img class=\"img-responsive\" src=\"https://quotes.values.com/quote_artwork/7313/medium/monday_quote.jpg\" alt=\"Monday quote\" />\\n\\t\\t\\t\\t\\t\\t\\t\\t<img class=\"img-responsive\" src=\"https://quotes.values.com/quote_artwork/7302/medium/friday_quote.jpg\" alt=\"Friday quote\" />\\n\\t\\t\\t\\t\\t\\t\\t</div>\\n\\t\\t\\t\\t\\t\\t</div>\\n\\t\\t\\t\\t\\t\\t<div class=\\'col-sm-4 bumper\\'>\\n\\t\\t\\t\\t\\t\\t\\t<div class=\"cycle-slideshow\" data-cycle-fx=flipHorz data-cycle-timeout=6600>\\n\\t\\t\\t\\t\\t\\t\\t\\t<img class=\"img-responsive\" src=\"https://quotes.values.com/quote_artwork/6741/medium/20160906_tuesday_quote.jpg\" alt=\"20160906 tuesday quote\" />\\n\\t\\t\\t\\t\\t\\t\\t\\t<img class=\"img-responsive\" src=\"https://quotes.values.com/quote_artwork/7280/medium/wednesday_quote.jpg\" alt=\"Wednesday quote\" />\\n\\t\\t\\t\\t\\t\\t\\t\\t<img class=\"img-responsive\" src=\"https://quotes.values.com/quote_artwork/7279/medium/tuesday_quote.jpg\" alt=\"Tuesday quote\" />\\n\\t\\t\\t\\t\\t\\t\\t</div>\\n\\t\\t\\t\\t\\t\\t</div>\\n\\t\\t\\t\\t\\t</div>\\n\\n\\t\\t\\t\\t</div>\\n\\n\\t\\t\\t</div>\\n\\n\\t\\t</div>\\n\\n\\t</div>\\n\\n</div>\\n\\n\\t\\t\\t\\t<div class=\\'row\\'>\\n\\n\\t\\t\\t\\t\\t<div class=\\'col-sm-6 col-sm-offset-3\\'>\\n\\n\\t\\t\\t\\t\\t\\t<form id=\"\" action=\"/inspirational-quotes\" role=\"form\" method=\"get\" class=\"nobottommargin\">\\n\\t\\t\\t\\t\\t\\t\\t<div class=\"input-group divcenter\">\\n\\t\\t\\t\\t\\t\\t\\t\\t<input type=\"text\" name=\"q\" class=\"form-control\" placeholder=\"Search quotes...\">\\n\\t\\t\\t\\t\\t\\t\\t\\t<span class=\"input-group-btn\">\\n\\t\\t\\t\\t\\t\\t\\t\\t\\t<button class=\"btn btn-default\" type=\"submit\">search</button>\\n\\t\\t\\t\\t\\t\\t\\t\\t</span>\\n\\t\\t\\t\\t\\t\\t\\t</div>\\n\\t\\t\\t\\t\\t\\t</form>\\n\\n\\t\\t\\t\\t\\t\\t<hr />\\n\\n\\t\\t\\t\\t\\t</div>\\n\\n\\t\\t\\t\\t</div>\\n\\n\\t\\t\\t</div>\\n\\n\\t\\t\\t<div class=\"clear\"></div>\\n\\n\\t\\t\\t<div id=\"portfolio\" class=\"portfolio grid-container portfolio-4 portfolio-masonry clearfix\">\\n\\t\\t\\t\\t<article class=\"portfolio-item quotation optimism\">\\n    <div class=\"portfolio-image\">\\n        <a href=\"/inspirational-quotes/7858-what-a-wonderful-thought-it-is-that-some-of-the\"><img alt=\"What a wonderful thought it is that some of the best days of our lives haven&#39;t even happened yet. #&lt;Author:0x007f22399dad98&gt;\" class=\"hover\" src=\"https://quotes.values.com/quote_artwork/7858/medium/20190101_tuesday_quote_alternate.jpg?1546208533\" /></a>\\n    </div>\\n</article>\\n<article class=\"portfolio-item quotation optimism\">\\n    <div class=\"portfolio-image\">\\n        <a href=\"/inspirational-quotes/3998-the-future-belongs-to-those-who-believe-in-the\"><img alt=\"The future belongs to those who believe in the beauty of their dreams. #&lt;Author:0x007f223b3e4658&gt;\" class=\"hover\" src=\"https://quotes.values.com/quote_artwork/3998/medium/20181231_monday_quote_alternate.jpg?1546208733\" /></a>\\n    </div>\\n</article>\\n<article class=\"portfolio-item quotation love\">\\n    <div class=\"portfolio-image\">\\n        <a href=\"/inspirational-quotes/7682-love-is-not-only-something-you-feel-it-is\"><img alt=\"Love is not only something you feel, it is something you do. #&lt;Author:0x007f223a2b1de0&gt;\" class=\"hover\" src=\"https://quotes.values.com/quote_artwork/7682/medium/20181228_friday_quote.jpg?1545417482\" /></a>\\n    </div>\\n</article>\\n<article class=\"portfolio-item quotation love\">\\n    <div class=\"portfolio-image\">\\n        <a href=\"/inspirational-quotes/7593-your-circumstance-doesn-t-make-life\"><img alt=\"Your circumstance doesn’t make life extraordinary. Love does. #&lt;Author:0x007f223ab1b8c8&gt;\" class=\"hover\" src=\"https://quotes.values.com/quote_artwork/7593/medium/20181227_thursday_quote.jpg?1545417444\" /></a>\\n    </div>\\n</article>\\n<article class=\"portfolio-item quotation love\">\\n    <div class=\"portfolio-image\">\\n        <a href=\"/inspirational-quotes/6900-let-us-see-what-love-can-do\"><img alt=\"Let us see what love can do. #&lt;Author:0x007f222c962760&gt;\" class=\"hover\" src=\"https://quotes.values.com/quote_artwork/6900/medium/20181226_wednesday_quote.jpg?1545417393\" /></a>\\n    </div>\\n</article>\\n<article class=\"portfolio-item quotation love\">\\n    <div class=\"portfolio-image\">\\n        <a href=\"/inspirational-quotes/6909-and-the-grinch-with-his-grinch-feet-ice-cold\"><img alt=\"And the Grinch, with his Grinch-feet ice cold in the snow, stood puzzling and puzzling, how could it be so? It came without ribbons. It came without tags. It came without packages, boxes or bags. And he puzzled and puzzled &#39;till his puzzler was sore. Then the Grinch thought of something he hadn&#39;t before. What if Christmas, he thought, doesn&#39;t come from a store? What if Christmas, perhaps, means a little bit more? #&lt;Author:0x007f223a3ac4c0&gt;\" class=\"hover\" src=\"https://quotes.values.com/quote_artwork/6909/medium/20181225_tuesday_quote.jpg?1545417358\" /></a>\\n    </div>\\n</article>\\n<article class=\"portfolio-item quotation love\">\\n    <div class=\"portfolio-image\">\\n        <a href=\"/inspirational-quotes/3548-the-love-in-your-heart-wasnt-put-there-to-stay\"><img alt=\"The love in your heart wasn&#39;t put there to stay. Love isn&#39;t love &#39;til you give it away. #&lt;Author:0x007f223b27b230&gt;\" class=\"hover\" src=\"https://quotes.values.com/quote_artwork/3548/medium/20181224_monday_quote.jpg?1545417323\" /></a>\\n    </div>\\n</article>\\n<article class=\"portfolio-item quotation family\">\\n    <div class=\"portfolio-image\">\\n        <a href=\"/inspirational-quotes/4770-what-greater-thing-is-there-for-human-souls\"><img alt=\"What greater thing is there for human souls than to feel that they are joined for life - to be with each other in silent unspeakable memories. #&lt;Author:0x007f223ad97f20&gt;\" class=\"hover\" src=\"https://quotes.values.com/quote_artwork/4770/medium/20181221_friday_quote.jpg?1544814559\" /></a>\\n    </div>\\n</article>\\n<article class=\"portfolio-item quotation family\">\\n    <div class=\"portfolio-image\">\\n        <a href=\"/inspirational-quotes/7853-my-family-is-my-life-and-everything-else-comes\"><img alt=\"My family is my life, and everything else comes second as far as what&#39;s important to me. #&lt;Author:0x007f223afb2440&gt;\" class=\"hover\" src=\"https://quotes.values.com/quote_artwork/7853/medium/20181220_thursday_quote.jpg?1545070947\" /></a>\\n    </div>\\n</article>\\n<article class=\"portfolio-item quotation family\">\\n    <div class=\"portfolio-image\">\\n        <a href=\"/inspirational-quotes/7183-having-somewhere-to-go-is-home-having-someone\"><img alt=\"Having somewhere to go is home, having someone to love is family, having both is blessing. #&lt;Author:0x007f222ec4d9c8&gt;\" class=\"hover\" src=\"https://quotes.values.com/quote_artwork/7183/medium/20181219_wednesday_quote.jpg?1544814499\" /></a>\\n    </div>\\n</article>\\n<article class=\"portfolio-item quotation family\">\\n    <div class=\"portfolio-image\">\\n        <a href=\"/inspirational-quotes/7852-family-and-friends-are-hidden-treasures-seek\"><img alt=\"Family and friends are hidden treasures, seek them and enjoy their riches. #&lt;Author:0x007f223bd95c10&gt;\" class=\"hover\" src=\"https://quotes.values.com/quote_artwork/7852/medium/20181218_tuesday_quote.jpg?1544814470\" /></a>\\n    </div>\\n</article>\\n<article class=\"portfolio-item quotation family\">\\n    <div class=\"portfolio-image\">\\n        <a href=\"/inspirational-quotes/7182-the-bond-that-links-your-true-family-is-not-one\"><img alt=\"The bond that links your true family is not one of blood, but of respect and joy in each other&#39;s life. Rarely do members of one family grow up under the same roof. #&lt;Author:0x007f223b5bcfe8&gt;\" class=\"hover\" src=\"https://quotes.values.com/quote_artwork/7182/medium/20181217_monday_quote.jpg?1544814443\" /></a>\\n    </div>\\n</article>\\n<article class=\"portfolio-item quotation giving back\">\\n    <div class=\"portfolio-image\">\\n        <a href=\"/inspirational-quotes/7077-the-best-way-to-find-yourself-is-to-lose\"><img alt=\"The best way to find yourself is to lose yourself in the service of others. #&lt;Author:0x007f223bf7bea8&gt;\" class=\"hover\" src=\"https://quotes.values.com/quote_artwork/7077/medium/20181214_friday_quote_alternate.jpg?1544207576\" /></a>\\n    </div>\\n</article>\\n<article class=\"portfolio-item quotation giving back\">\\n    <div class=\"portfolio-image\">\\n        <a href=\"/inspirational-quotes/3685-lifes-most-urgent-question-is-what-are-you\"><img alt=\"Life&#39;s most urgent question is: What are you doing for others? #&lt;Author:0x007f222c0ded50&gt;\" class=\"hover\" src=\"https://quotes.values.com/quote_artwork/3685/medium/20181213_thursday_quote.jpg?1544207538\" /></a>\\n    </div>\\n</article>\\n<article class=\"portfolio-item quotation giving back\">\\n    <div class=\"portfolio-image\">\\n        <a href=\"/inspirational-quotes/4540-life-is-a-gift-and-it-offers-us-the-privilege\"><img alt=\"Life is a gift, and it offers us the privilege, opportunity, and responsibility to give something back by becoming more. #&lt;Author:0x007f222c6cc230&gt;\" class=\"hover\" src=\"https://quotes.values.com/quote_artwork/4540/medium/20181212_wednesday_quote.jpg?1544207503\" /></a>\\n    </div>\\n</article>\\n<article class=\"portfolio-item quotation giving back\">\\n    <div class=\"portfolio-image\">\\n        <a href=\"/inspirational-quotes/7240-we-make-a-living-by-what-we-get-we-make-a-life\"><img alt=\"We make a living by what we get. We make a life by what we give. #&lt;Author:0x007f222e9b1548&gt;\" class=\"hover\" src=\"https://quotes.values.com/quote_artwork/7240/medium/20181211_tuesday_quote_alternate.jpg?1544207471\" /></a>\\n    </div>\\n</article>\\n\\n\\t\\t\\t</div>\\n\\n\\t\\t</div>\\n\\n\\t</div>\\n\\n    <div class=\\'center_wrapper\\'>\\n\\t\\t<div class=\"pagination-centered\" id=\"infinite-scrolling\">\\n        \\t<ul class=\"pagination\"><li class=\"prev previous_page unavailable\"><a href=\"#\">&laquo;</a></li> <li class=\"current\"><a href=\"/inspirational-quotes?page=1\">1</a></li> <li><a rel=\"next\" href=\"/inspirational-quotes?page=2\">2</a></li> <li><a href=\"/inspirational-quotes?page=3\">3</a></li> <li><a href=\"/inspirational-quotes?page=4\">4</a></li> <li><a href=\"/inspirational-quotes?page=5\">5</a></li> <li class=\"unavailable\"><a href=\"#\"><span class=\"gap\">&hellip;</span></a></li> <li><a href=\"/inspirational-quotes?page=221\">221</a></li> <li class=\"next next_page \"><a rel=\"next\" href=\"/inspirational-quotes?page=2\">&raquo;</a></li></ul>\\n\\t    </div>\\n\\t</div>\\n\\n</section>\\n\\n        <footer id=\"footer\" class=\\'dark\\'>\\n\\n            <div class=\"container clearfix\">\\n\\n                <div class=\\'row\\'>\\n\\n                    <div class=\"col-sm-3\">\\n                        <ul class=\\'footer_nav_links\\'>\\n                            <li><a href=\"/inspirational-quotes\">Inspirational Quotations</a></li>\\n                            <li><a href=\"/inspirational-stories-tv-spots\">Pass It On Videos</a></li>\\n                            <li><a href=\"/inspirational-sayings-billboards\">Billboards</a></li>\\n                            <li><a href=\"/radio\">Radio Ads</a></li>\\n                            <li><a href=\"/inspirational-audio-stories\">Podcasts</a></li>\\n                            <li><a href=\"/pass-it-on-ecards\">Ecards</a></li>\\n                            <li><a href=\"/pass-it-on-downloads\">Downloads</a></li>\\n                        </ul>\\n                    </div>\\n\\n                    <div class=\"col-sm-3\">\\n                        <ul class=\\'footer_nav_links\\'>\\n                            <li><a href=\"/your-inspirational-stories\">Your Value Stories</a></li>\\n                            <li><a href=\"/your-inspirational-stories/submit\">What Value Defines You?</a></li>\\n                            <li><a href=\"/your-everyday-heroes\">Your Hero Stories</a></li>\\n                            <li><a href=\"/your-everyday-heroes/submit\">Tell Us About Your Hero</a></li>\\n                            <li><a href=\"/your-billboards\">Create Your Own Billboard</a></li>\\n                            <li><a href=\"/users/subscribe\">Subscribe to Daily Quotes</a></li>\\n                            <li><a href=\"/poster-requests/new\">Free Posters &amp; DVD for Schools</a></li>\\n                        </ul>\\n                    </div>\\n\\n                    <div class=\"col-sm-3\">\\n                        <ul class=\\'footer_nav_links\\'>\\n                            <li><a href=\"/who-we-are\">About Us</a></li>\\n                            <li><a href=\"/who-we-are#faqs\">FAQs</a></li>\\n                            <li><a href=\"/contact-us\">Contact Us</a></li>\\n                            <li><a href=\"/who-we-are#awards\">Foundation Recognition</a></li>\\n                            <li><a href=\"/who-we-are#media\">For Media Companies</a></li>\\n                            <li><a href=\"/terms-of-use\">Terms of Use</a> & <a href=\"/privacy-policy\">Privacy Policy</a></li>\\n                            <li style=\\'color: #1a1a1a;\\'>en</li>\\n                        </ul>\\n\\n                        <div class=\\'clearfix\\'></div>\\n\\n                    </div>\\n\\n                    <div class=\"col-sm-3\">\\n                        <a href=\"/\"><img style=\"margin-bottom: 20px;\" src=\"/assets/passiton_footer_logo-096b4c04a71fdd79573aea3579388f88.png\" alt=\"Passiton footer logo\" width=\"200\" height=\"26\" /></a><br />\\n\\n                        <ul class=\\'passiton-share-icons\\'>\\n                            <li><a href=\"https://www.facebook.com/valuescom\" class=\"social-icon si-small si-rounded si-facebook\"><i class=\"icon-facebook\"></i></a></li>\\n                            <li><a href=\"https://twitter.com/valuescom\" class=\"social-icon si-small si-rounded si-twitter\"><i class=\"icon-twitter\"></i></a></li>\\n                            <li><a href=\"https://www.instagram.com/passiton_com/\" class=\"social-icon si-small si-rounded si-instagram\"><i class=\"icon-instagram\"></i></a></li>\\n                            <li><a href=\"https://www.youtube.com/c/PassItOncom\" class=\"social-icon si-small si-rounded si-youtube\"><i class=\"icon-youtube-play\"></i></a></li>\\n                            <li><a href=\"https://www.pinterest.com/passiton/\" class=\"social-icon si-small si-rounded si-pinterest\"><i class=\"icon-pinterest\"></i></a></li>\\n                        </ul>\\n                    </div>\\n\\n                </div>\\n\\n            </div>\\n\\n        </footer>\\n\\n    </div>\\n\\n    <div id=\"gotoTop\" class=\"icon-angle-up\"></div>\\n\\n    <script src=\"/assets/application-739eb79af205cb6d65cef9be8c483acb.js\"></script>\\n    \\n\\n</body>\\n</html>'"
      ]
     },
     "execution_count": 42,
     "metadata": {},
     "output_type": "execute_result"
    }
   ],
   "source": [
    "content"
   ]
  },
  {
   "cell_type": "code",
   "execution_count": 43,
   "metadata": {},
   "outputs": [],
   "source": [
    "soup=BeautifulSoup(content)"
   ]
  },
  {
   "cell_type": "code",
   "execution_count": 44,
   "metadata": {},
   "outputs": [
    {
     "data": {
      "text/plain": [
       "<!DOCTYPE html>\n",
       "<html dir=\"ltr\" lang=\"en-US\"><head>\n",
       "    <meta content=\"text/html; charset=utf-8\" http-equiv=\"content-type\"/>\n",
       "    <link href=\"https://fonts.googleapis.com/css?family=Roboto:900|Lato:300,400,400italic,600,700|Raleway:300,400,500,600,700|Crete+Round:400italic|Zilla+Slab\" rel=\"stylesheet\" type=\"text/css\"/>\n",
       "    <link href=\"/assets/application-f7c42ac1a26bc766307e42ff5df71b58.css\" media=\"all\" rel=\"stylesheet\"/>\n",
       "\n",
       "    <meta charset=\"utf-8\"/>\n",
       "    <meta content=\"width=device-width, initial-scale=1\" name=\"viewport\"/>\n",
       "    <!--[if lt IE 9]><script src=\"http://css3-mediaqueries-js.googlecode.com/svn/trunk/css3-mediaqueries.js\"></script><![endif]-->\n",
       "    <title>Inspirational Quotes - Motivational Quotes - Leadership Quotes | PassItOn.com</title>\n",
       "    <meta content=\"Find the perfect quotation from our hand-picked collection of inspiring quotes by hundreds of authors.\" name=\"description\"/>\n",
       "    <meta content=\"authenticity_token\" name=\"csrf-param\"/>\n",
       "<meta content=\"LsZTPUNGVbU1eTKduMcjyyFitKz4TEunQFqnJI+2tnfa9fdhtBR9MptBEQNOTaJnndCArfwRnCw47VBlk6dxlw==\" name=\"csrf-token\"/>\n",
       "\n",
       "    <script>\n",
       "        (function(i,s,o,g,r,a,m){i['GoogleAnalyticsObject']=r;i[r]=i[r]||function(){\n",
       "        (i[r].q=i[r].q||[]).push(arguments)},i[r].l=1*new Date();a=s.createElement(o),\n",
       "        m=s.getElementsByTagName(o)[0];a.async=1;a.src=g;m.parentNode.insertBefore(a,m)\n",
       "        })(window,document,'script','//www.google-analytics.com/analytics.js','ga');\n",
       "        ga('create', 'UA-1179606-29', 'auto');\n",
       "        ga('require', 'displayfeatures');\n",
       "        ga('send', 'pageview');\n",
       "    </script>\n",
       "\n",
       "    <script>\n",
       "      window.fbAsyncInit = function() {\n",
       "        FB.init({\n",
       "          appId      : '483774921971842',\n",
       "          cookie     : true,\n",
       "          xfbml      : true,\n",
       "          version    : '3.0'\n",
       "        });\n",
       "\n",
       "        FB.AppEvents.logPageView();\n",
       "\n",
       "      };\n",
       "\n",
       "      (function(d, s, id){\n",
       "         var js, fjs = d.getElementsByTagName(s)[0];\n",
       "         if (d.getElementById(id)) {return;}\n",
       "         js = d.createElement(s); js.id = id;\n",
       "         js.src = \"https://connect.facebook.net/en_US/sdk.js\";\n",
       "         fjs.parentNode.insertBefore(js, fjs);\n",
       "       }(document, 'script', 'facebook-jssdk'));\n",
       "    </script>\n",
       "\n",
       "    <meta content=\"passiton.com\" property=\"og:site_name\"/>\n",
       "    <meta content=\"Inspirational Quotes - Motivational Quotes - Leadership Quotes\" property=\"og:title\"/>\n",
       "    <meta content=\"website\" property=\"og:type\"/>\n",
       "    <meta content=\"https://www.passiton.com/passiton.jpg\" property=\"og:image\"/>\n",
       "    <meta content=\"https://www.passiton.com/inspirational-quotes\" property=\"og:url\"/>\n",
       "    <meta content=\"Find the perfect quotation from our hand-picked collection of inspiring quotes by hundreds of authors.\" property=\"og:description\"/>\n",
       "    <meta content=\"483774921971842\" property=\"fb:app_id\"/>\n",
       "\n",
       "    <meta content=\"summary_large_image\" name=\"twitter:card\"/>\n",
       "    <meta content=\"@passiton\" name=\"twitter:site\"/>\n",
       "    <meta content=\"@passiton\" name=\"twitter:creator\"/>\n",
       "    <meta content=\"Inspirational Quotes - Motivational Quotes - Leadership Quotes\" name=\"twitter:title\"/>\n",
       "    <meta content=\"Find the perfect quotation from our hand-picked collection of inspiring quotes by hundreds of authors.\" name=\"twitter:description\"/>\n",
       "    <meta content=\"https://www.passiton.com/passiton.jpg\" name=\"twitter:image\"/>\n",
       "    <meta content=\"https://www.passiton.com/inspirational-quotes\" name=\"twitter:url\"/>\n",
       "\n",
       "    <meta content=\"passiton.com\" itemprop=\"name\"/>\n",
       "    <meta content=\"Find the perfect quotation from our hand-picked collection of inspiring quotes by hundreds of authors.\" itemprop=\"description\"/>\n",
       "    <meta content=\"https://www.passiton.com/passiton.jpg\" itemprop=\"image\"/>\n",
       "\n",
       "    <link href=\"/apple-touch-icon.png\" rel=\"apple-touch-icon\" sizes=\"180x180\"/>\n",
       "    <link href=\"/favicon-32x32.png\" rel=\"icon\" sizes=\"32x32\" type=\"image/png\"/>\n",
       "    <link href=\"/favicon-16x16.png\" rel=\"icon\" sizes=\"16x16\" type=\"image/png\"/>\n",
       "    <link color=\"#C8102E\" href=\"/passiton_arrow.svg\" rel=\"mask-icon\"/>\n",
       "    <link href=\"/manifest.json\" rel=\"manifest\"/>\n",
       "    <link color=\"#5bbad5\" href=\"/safari-pinned-tab.svg\" rel=\"mask-icon\"/>\n",
       "    <meta content=\"passiton\" name=\"apple-mobile-web-app-title\"/>\n",
       "    <meta content=\"passiton\" name=\"application-name\"/>\n",
       "    <meta content=\"#f1f1f1\" name=\"theme-color\"/>\n",
       "\n",
       "    \n",
       "</head>\n",
       "<body class=\"stretched no-transition quotes_index\">\n",
       "\n",
       "    <div class=\"clearfix\" id=\"wrapper\">\n",
       "\n",
       "        <header class=\"full-header dark\" data-sticky-class=\"dark\" id=\"header\">\n",
       "\n",
       "            <div id=\"header-wrap\">\n",
       "\n",
       "                <div class=\"container clearfix\">\n",
       "\n",
       "                    <div id=\"primary-menu-trigger\"><i class=\"icon-reorder\"></i></div>\n",
       "\n",
       "                    <div id=\"logo\">\n",
       "                        <a class=\"standard-logo\" data-dark-logo=\"/assets/logo-dark-7b51f8d9634d3b1a21937f284fa87e90.png\" href=\"/\"><img alt=\"passiton.com\" src=\"/assets/logo-7b51f8d9634d3b1a21937f284fa87e90.png\"/></a>\n",
       "                        <a class=\"retina-logo\" data-dark-logo=\"/assets/logo-dark@2x-489985db9fac6d33cd09d160857bedd4.png\" href=\"/\"><img alt=\"passiton.com\" src=\"/assets/logo@2x-489985db9fac6d33cd09d160857bedd4.png\"/></a>\n",
       "                    </div>\n",
       "\n",
       "                    <nav class=\"\" id=\"primary-menu\">\n",
       "\n",
       "                        <ul>\n",
       "                            <li class=\"current\"><a href=\"/inspirational-quotes\">quotes</a></li>\n",
       "                            <li class=\"\"><a href=\"/inspirational-stories-tv-spots\">videos</a></li>\n",
       "\n",
       "                            <li class=\"\"><a href=\"/inspirational-sayings-billboards\"><i class=\"icon-caret-down\"></i> billboards</a>\n",
       "                                <ul>\n",
       "                                    <li class=\"\"><a href=\"/inspirational-sayings-billboards\">official billboards</a></li>\n",
       "                                    <li class=\"\"><a href=\"/your-billboards/create\">create your own billboard</a></li>\n",
       "                                </ul>\n",
       "                            </li>\n",
       "\n",
       "                            <li class=\"\"><a href=\"/radio\">radio ads</a></li>\n",
       "                            <li class=\"\"><a href=\"/who-we-are\">about us</a></li>\n",
       "                            <li class=\"\"><a href=\"/contact-us\">contact</a></li>\n",
       "                            <li class=\"\"><a class=\"dropdown-toggle\" href=\"\"><i class=\"icon-caret-down\"></i> language</a>\n",
       "                                <ul class=\"dark\">\n",
       "                                    <li class=\"dark\"><a href=\"https://www.pasala.org/\" target=\"_blank\">Español</a></li>\n",
       "                                    <li class=\"dark\"><a href=\"https://www.umavidamelhor.org/\" target=\"_blank\">Português</a></li>\n",
       "                                    <li class=\"dark\"><a href=\"https://values.cn.com/\" target=\"_blank\">中文</a></li>\n",
       "                                </ul>\n",
       "                            </li>\n",
       "                        </ul>\n",
       "\n",
       "                        <div id=\"top-search\">\n",
       "                            <a href=\"#\" id=\"top-search-trigger\"><i class=\"icon-search3\"></i><i class=\"icon-line-cross\"></i></a>\n",
       "                            <form action=\"/search\" method=\"get\">\n",
       "                                <input class=\"form-control\" name=\"q\" placeholder=\"search\" type=\"text\" value=\"\"/>\n",
       "                            </form>\n",
       "                        </div>\n",
       "\n",
       "                    </nav>\n",
       "\n",
       "                </div>\n",
       "\n",
       "            </div>\n",
       "\n",
       "        </header>\n",
       "\n",
       "        \n",
       "<section id=\"content\">\n",
       "\n",
       "\t<div class=\"content-wrap\">\n",
       "\n",
       "\t\t<div class=\"container clearfix\">\n",
       "\n",
       "\t\t\t<div class=\"center_wrapper\">\n",
       "\n",
       "\t\t\t\t<div class=\"row\">\n",
       "\n",
       "\t<div class=\"col-sm-12\">\n",
       "\n",
       "\t\t<div class=\"inbox_inspiration text-left\">\n",
       "\n",
       "\t\t\t<div class=\"row\">\n",
       "\n",
       "\t\t\t\t<div class=\"col-sm-4\">\n",
       "\n",
       "\t\t\t\t\t<h5>Subscribe to our FREE<br/>inspirational quote emails!</h5>\n",
       "\n",
       "\t\t\t\t\t<form accept-charset=\"UTF-8\" action=\"/users\" class=\"simple_form new_user\" id=\"new_user\" method=\"post\" novalidate=\"novalidate\"><input name=\"utf8\" type=\"hidden\" value=\"✓\"/><input name=\"authenticity_token\" type=\"hidden\" value=\"1IUa8b63ZiBC5ipKbN+INsxV/0HNEc8HYwRep1guYOogtr6tSeVOp+zeCdSaVQmacOfLQMlMGIwbs6nmRD+nCg==\"/>\n",
       "\n",
       "\t\t\t\t\t\t<div class=\"row\">\n",
       "\t\t\t\t\t\t\t<div class=\"col-sm-8\">\n",
       "\t\t\t\t\t\t\t\t<div class=\"input email optional user_email\"><input class=\"string email optional sm-form-control sm-form-control-grey\" id=\"user_email\" name=\"user[email]\" placeholder=\"Type your email address\" style=\"height: 32px;\" type=\"email\"/></div>\n",
       "\t\t\t\t\t\t\t</div>\n",
       "\t\t\t\t\t\t\t<div class=\"col-sm-4\">\n",
       "\t\t\t\t\t\t\t\t<input class=\"btn btn btn-default btn-red noradius btn-hero\" data-disable-with=\"Sending...\" name=\"commit\" type=\"submit\" value=\"Subscribe\"/>\n",
       "\t\t\t\t\t\t\t</div>\n",
       "\t\t\t\t\t\t</div>\n",
       "\n",
       "</form>\n",
       "\t\t\t\t</div>\n",
       "\n",
       "\t\t\t\t<div class=\"col-sm-8\">\n",
       "\n",
       "\t\t\t\t\t<div class=\"row\">\n",
       "\t\t\t\t\t\t<div class=\"col-sm-4 bumper\">\n",
       "\t\t\t\t\t\t\t<div class=\"cycle-slideshow\" data-cycle-fx=\"flipHorz\" data-cycle-timeout=\"7000\">\n",
       "\t\t\t\t\t\t\t\t<img alt=\"20170116 monday quote\" class=\"img-responsive\" src=\"https://quotes.values.com/quote_artwork/3763/medium/20170116_monday_quote.jpg\"/>\n",
       "\t\t\t\t\t\t\t\t<img alt=\"Friday quote\" class=\"img-responsive\" src=\"https://quotes.values.com/quote_artwork/7347/medium/friday_quote.jpg\"/>\n",
       "\t\t\t\t\t\t\t\t<img alt=\"20170303 friday quote\" class=\"img-responsive\" src=\"https://quotes.values.com/quote_artwork/5014/medium/20170303_friday_quote.jpg\"/>\n",
       "\t\t\t\t\t\t\t</div>\n",
       "\t\t\t\t\t\t</div>\n",
       "\t\t\t\t\t\t<div class=\"col-sm-4 bumper\">\n",
       "\t\t\t\t\t\t\t<div class=\"cycle-slideshow\" data-cycle-fx=\"flipHorz\" data-cycle-timeout=\"6800\">\n",
       "\t\t\t\t\t\t\t\t<img alt=\"20161213 tuesday quote new\" class=\"img-responsive\" src=\"https://quotes.values.com/quote_artwork/7579/medium/20161213_tuesday_quote_new.jpg\"/>\n",
       "\t\t\t\t\t\t\t\t<img alt=\"Monday quote\" class=\"img-responsive\" src=\"https://quotes.values.com/quote_artwork/7313/medium/monday_quote.jpg\"/>\n",
       "\t\t\t\t\t\t\t\t<img alt=\"Friday quote\" class=\"img-responsive\" src=\"https://quotes.values.com/quote_artwork/7302/medium/friday_quote.jpg\"/>\n",
       "\t\t\t\t\t\t\t</div>\n",
       "\t\t\t\t\t\t</div>\n",
       "\t\t\t\t\t\t<div class=\"col-sm-4 bumper\">\n",
       "\t\t\t\t\t\t\t<div class=\"cycle-slideshow\" data-cycle-fx=\"flipHorz\" data-cycle-timeout=\"6600\">\n",
       "\t\t\t\t\t\t\t\t<img alt=\"20160906 tuesday quote\" class=\"img-responsive\" src=\"https://quotes.values.com/quote_artwork/6741/medium/20160906_tuesday_quote.jpg\"/>\n",
       "\t\t\t\t\t\t\t\t<img alt=\"Wednesday quote\" class=\"img-responsive\" src=\"https://quotes.values.com/quote_artwork/7280/medium/wednesday_quote.jpg\"/>\n",
       "\t\t\t\t\t\t\t\t<img alt=\"Tuesday quote\" class=\"img-responsive\" src=\"https://quotes.values.com/quote_artwork/7279/medium/tuesday_quote.jpg\"/>\n",
       "\t\t\t\t\t\t\t</div>\n",
       "\t\t\t\t\t\t</div>\n",
       "\t\t\t\t\t</div>\n",
       "\n",
       "\t\t\t\t</div>\n",
       "\n",
       "\t\t\t</div>\n",
       "\n",
       "\t\t</div>\n",
       "\n",
       "\t</div>\n",
       "\n",
       "</div>\n",
       "\n",
       "\t\t\t\t<div class=\"row\">\n",
       "\n",
       "\t\t\t\t\t<div class=\"col-sm-6 col-sm-offset-3\">\n",
       "\n",
       "\t\t\t\t\t\t<form action=\"/inspirational-quotes\" class=\"nobottommargin\" id=\"\" method=\"get\" role=\"form\">\n",
       "\t\t\t\t\t\t\t<div class=\"input-group divcenter\">\n",
       "\t\t\t\t\t\t\t\t<input class=\"form-control\" name=\"q\" placeholder=\"Search quotes...\" type=\"text\"/>\n",
       "\t\t\t\t\t\t\t\t<span class=\"input-group-btn\">\n",
       "\t\t\t\t\t\t\t\t\t<button class=\"btn btn-default\" type=\"submit\">search</button>\n",
       "\t\t\t\t\t\t\t\t</span>\n",
       "\t\t\t\t\t\t\t</div>\n",
       "\t\t\t\t\t\t</form>\n",
       "\n",
       "\t\t\t\t\t\t<hr/>\n",
       "\n",
       "\t\t\t\t\t</div>\n",
       "\n",
       "\t\t\t\t</div>\n",
       "\n",
       "\t\t\t</div>\n",
       "\n",
       "\t\t\t<div class=\"clear\"></div>\n",
       "\n",
       "\t\t\t<div class=\"portfolio grid-container portfolio-4 portfolio-masonry clearfix\" id=\"portfolio\">\n",
       "\t\t\t\t<article class=\"portfolio-item quotation optimism\">\n",
       "    <div class=\"portfolio-image\">\n",
       "        <a href=\"/inspirational-quotes/7858-what-a-wonderful-thought-it-is-that-some-of-the\"><img alt=\"What a wonderful thought it is that some of the best days of our lives haven't even happened yet. #&lt;Author:0x007f22399dad98&gt;\" class=\"hover\" src=\"https://quotes.values.com/quote_artwork/7858/medium/20190101_tuesday_quote_alternate.jpg?1546208533\"/></a>\n",
       "    </div>\n",
       "</article>\n",
       "<article class=\"portfolio-item quotation optimism\">\n",
       "    <div class=\"portfolio-image\">\n",
       "        <a href=\"/inspirational-quotes/3998-the-future-belongs-to-those-who-believe-in-the\"><img alt=\"The future belongs to those who believe in the beauty of their dreams. #&lt;Author:0x007f223b3e4658&gt;\" class=\"hover\" src=\"https://quotes.values.com/quote_artwork/3998/medium/20181231_monday_quote_alternate.jpg?1546208733\"/></a>\n",
       "    </div>\n",
       "</article>\n",
       "<article class=\"portfolio-item quotation love\">\n",
       "    <div class=\"portfolio-image\">\n",
       "        <a href=\"/inspirational-quotes/7682-love-is-not-only-something-you-feel-it-is\"><img alt=\"Love is not only something you feel, it is something you do. #&lt;Author:0x007f223a2b1de0&gt;\" class=\"hover\" src=\"https://quotes.values.com/quote_artwork/7682/medium/20181228_friday_quote.jpg?1545417482\"/></a>\n",
       "    </div>\n",
       "</article>\n",
       "<article class=\"portfolio-item quotation love\">\n",
       "    <div class=\"portfolio-image\">\n",
       "        <a href=\"/inspirational-quotes/7593-your-circumstance-doesn-t-make-life\"><img alt=\"Your circumstance doesn’t make life extraordinary. Love does. #&lt;Author:0x007f223ab1b8c8&gt;\" class=\"hover\" src=\"https://quotes.values.com/quote_artwork/7593/medium/20181227_thursday_quote.jpg?1545417444\"/></a>\n",
       "    </div>\n",
       "</article>\n",
       "<article class=\"portfolio-item quotation love\">\n",
       "    <div class=\"portfolio-image\">\n",
       "        <a href=\"/inspirational-quotes/6900-let-us-see-what-love-can-do\"><img alt=\"Let us see what love can do. #&lt;Author:0x007f222c962760&gt;\" class=\"hover\" src=\"https://quotes.values.com/quote_artwork/6900/medium/20181226_wednesday_quote.jpg?1545417393\"/></a>\n",
       "    </div>\n",
       "</article>\n",
       "<article class=\"portfolio-item quotation love\">\n",
       "    <div class=\"portfolio-image\">\n",
       "        <a href=\"/inspirational-quotes/6909-and-the-grinch-with-his-grinch-feet-ice-cold\"><img alt=\"And the Grinch, with his Grinch-feet ice cold in the snow, stood puzzling and puzzling, how could it be so? It came without ribbons. It came without tags. It came without packages, boxes or bags. And he puzzled and puzzled 'till his puzzler was sore. Then the Grinch thought of something he hadn't before. What if Christmas, he thought, doesn't come from a store? What if Christmas, perhaps, means a little bit more? #&lt;Author:0x007f223a3ac4c0&gt;\" class=\"hover\" src=\"https://quotes.values.com/quote_artwork/6909/medium/20181225_tuesday_quote.jpg?1545417358\"/></a>\n",
       "    </div>\n",
       "</article>\n",
       "<article class=\"portfolio-item quotation love\">\n",
       "    <div class=\"portfolio-image\">\n",
       "        <a href=\"/inspirational-quotes/3548-the-love-in-your-heart-wasnt-put-there-to-stay\"><img alt=\"The love in your heart wasn't put there to stay. Love isn't love 'til you give it away. #&lt;Author:0x007f223b27b230&gt;\" class=\"hover\" src=\"https://quotes.values.com/quote_artwork/3548/medium/20181224_monday_quote.jpg?1545417323\"/></a>\n",
       "    </div>\n",
       "</article>\n",
       "<article class=\"portfolio-item quotation family\">\n",
       "    <div class=\"portfolio-image\">\n",
       "        <a href=\"/inspirational-quotes/4770-what-greater-thing-is-there-for-human-souls\"><img alt=\"What greater thing is there for human souls than to feel that they are joined for life - to be with each other in silent unspeakable memories. #&lt;Author:0x007f223ad97f20&gt;\" class=\"hover\" src=\"https://quotes.values.com/quote_artwork/4770/medium/20181221_friday_quote.jpg?1544814559\"/></a>\n",
       "    </div>\n",
       "</article>\n",
       "<article class=\"portfolio-item quotation family\">\n",
       "    <div class=\"portfolio-image\">\n",
       "        <a href=\"/inspirational-quotes/7853-my-family-is-my-life-and-everything-else-comes\"><img alt=\"My family is my life, and everything else comes second as far as what's important to me. #&lt;Author:0x007f223afb2440&gt;\" class=\"hover\" src=\"https://quotes.values.com/quote_artwork/7853/medium/20181220_thursday_quote.jpg?1545070947\"/></a>\n",
       "    </div>\n",
       "</article>\n",
       "<article class=\"portfolio-item quotation family\">\n",
       "    <div class=\"portfolio-image\">\n",
       "        <a href=\"/inspirational-quotes/7183-having-somewhere-to-go-is-home-having-someone\"><img alt=\"Having somewhere to go is home, having someone to love is family, having both is blessing. #&lt;Author:0x007f222ec4d9c8&gt;\" class=\"hover\" src=\"https://quotes.values.com/quote_artwork/7183/medium/20181219_wednesday_quote.jpg?1544814499\"/></a>\n",
       "    </div>\n",
       "</article>\n",
       "<article class=\"portfolio-item quotation family\">\n",
       "    <div class=\"portfolio-image\">\n",
       "        <a href=\"/inspirational-quotes/7852-family-and-friends-are-hidden-treasures-seek\"><img alt=\"Family and friends are hidden treasures, seek them and enjoy their riches. #&lt;Author:0x007f223bd95c10&gt;\" class=\"hover\" src=\"https://quotes.values.com/quote_artwork/7852/medium/20181218_tuesday_quote.jpg?1544814470\"/></a>\n",
       "    </div>\n",
       "</article>\n",
       "<article class=\"portfolio-item quotation family\">\n",
       "    <div class=\"portfolio-image\">\n",
       "        <a href=\"/inspirational-quotes/7182-the-bond-that-links-your-true-family-is-not-one\"><img alt=\"The bond that links your true family is not one of blood, but of respect and joy in each other's life. Rarely do members of one family grow up under the same roof. #&lt;Author:0x007f223b5bcfe8&gt;\" class=\"hover\" src=\"https://quotes.values.com/quote_artwork/7182/medium/20181217_monday_quote.jpg?1544814443\"/></a>\n",
       "    </div>\n",
       "</article>\n",
       "<article class=\"portfolio-item quotation giving back\">\n",
       "    <div class=\"portfolio-image\">\n",
       "        <a href=\"/inspirational-quotes/7077-the-best-way-to-find-yourself-is-to-lose\"><img alt=\"The best way to find yourself is to lose yourself in the service of others. #&lt;Author:0x007f223bf7bea8&gt;\" class=\"hover\" src=\"https://quotes.values.com/quote_artwork/7077/medium/20181214_friday_quote_alternate.jpg?1544207576\"/></a>\n",
       "    </div>\n",
       "</article>\n",
       "<article class=\"portfolio-item quotation giving back\">\n",
       "    <div class=\"portfolio-image\">\n",
       "        <a href=\"/inspirational-quotes/3685-lifes-most-urgent-question-is-what-are-you\"><img alt=\"Life's most urgent question is: What are you doing for others? #&lt;Author:0x007f222c0ded50&gt;\" class=\"hover\" src=\"https://quotes.values.com/quote_artwork/3685/medium/20181213_thursday_quote.jpg?1544207538\"/></a>\n",
       "    </div>\n",
       "</article>\n",
       "<article class=\"portfolio-item quotation giving back\">\n",
       "    <div class=\"portfolio-image\">\n",
       "        <a href=\"/inspirational-quotes/4540-life-is-a-gift-and-it-offers-us-the-privilege\"><img alt=\"Life is a gift, and it offers us the privilege, opportunity, and responsibility to give something back by becoming more. #&lt;Author:0x007f222c6cc230&gt;\" class=\"hover\" src=\"https://quotes.values.com/quote_artwork/4540/medium/20181212_wednesday_quote.jpg?1544207503\"/></a>\n",
       "    </div>\n",
       "</article>\n",
       "<article class=\"portfolio-item quotation giving back\">\n",
       "    <div class=\"portfolio-image\">\n",
       "        <a href=\"/inspirational-quotes/7240-we-make-a-living-by-what-we-get-we-make-a-life\"><img alt=\"We make a living by what we get. We make a life by what we give. #&lt;Author:0x007f222e9b1548&gt;\" class=\"hover\" src=\"https://quotes.values.com/quote_artwork/7240/medium/20181211_tuesday_quote_alternate.jpg?1544207471\"/></a>\n",
       "    </div>\n",
       "</article>\n",
       "\n",
       "\t\t\t</div>\n",
       "\n",
       "\t\t</div>\n",
       "\n",
       "\t</div>\n",
       "\n",
       "    <div class=\"center_wrapper\">\n",
       "\t\t<div class=\"pagination-centered\" id=\"infinite-scrolling\">\n",
       "        \t<ul class=\"pagination\"><li class=\"prev previous_page unavailable\"><a href=\"#\">«</a></li> <li class=\"current\"><a href=\"/inspirational-quotes?page=1\">1</a></li> <li><a href=\"/inspirational-quotes?page=2\" rel=\"next\">2</a></li> <li><a href=\"/inspirational-quotes?page=3\">3</a></li> <li><a href=\"/inspirational-quotes?page=4\">4</a></li> <li><a href=\"/inspirational-quotes?page=5\">5</a></li> <li class=\"unavailable\"><a href=\"#\"><span class=\"gap\">…</span></a></li> <li><a href=\"/inspirational-quotes?page=221\">221</a></li> <li class=\"next next_page\"><a href=\"/inspirational-quotes?page=2\" rel=\"next\">»</a></li></ul>\n",
       "\t    </div>\n",
       "\t</div>\n",
       "\n",
       "</section>\n",
       "\n",
       "        <footer class=\"dark\" id=\"footer\">\n",
       "\n",
       "            <div class=\"container clearfix\">\n",
       "\n",
       "                <div class=\"row\">\n",
       "\n",
       "                    <div class=\"col-sm-3\">\n",
       "                        <ul class=\"footer_nav_links\">\n",
       "                            <li><a href=\"/inspirational-quotes\">Inspirational Quotations</a></li>\n",
       "                            <li><a href=\"/inspirational-stories-tv-spots\">Pass It On Videos</a></li>\n",
       "                            <li><a href=\"/inspirational-sayings-billboards\">Billboards</a></li>\n",
       "                            <li><a href=\"/radio\">Radio Ads</a></li>\n",
       "                            <li><a href=\"/inspirational-audio-stories\">Podcasts</a></li>\n",
       "                            <li><a href=\"/pass-it-on-ecards\">Ecards</a></li>\n",
       "                            <li><a href=\"/pass-it-on-downloads\">Downloads</a></li>\n",
       "                        </ul>\n",
       "                    </div>\n",
       "\n",
       "                    <div class=\"col-sm-3\">\n",
       "                        <ul class=\"footer_nav_links\">\n",
       "                            <li><a href=\"/your-inspirational-stories\">Your Value Stories</a></li>\n",
       "                            <li><a href=\"/your-inspirational-stories/submit\">What Value Defines You?</a></li>\n",
       "                            <li><a href=\"/your-everyday-heroes\">Your Hero Stories</a></li>\n",
       "                            <li><a href=\"/your-everyday-heroes/submit\">Tell Us About Your Hero</a></li>\n",
       "                            <li><a href=\"/your-billboards\">Create Your Own Billboard</a></li>\n",
       "                            <li><a href=\"/users/subscribe\">Subscribe to Daily Quotes</a></li>\n",
       "                            <li><a href=\"/poster-requests/new\">Free Posters &amp; DVD for Schools</a></li>\n",
       "                        </ul>\n",
       "                    </div>\n",
       "\n",
       "                    <div class=\"col-sm-3\">\n",
       "                        <ul class=\"footer_nav_links\">\n",
       "                            <li><a href=\"/who-we-are\">About Us</a></li>\n",
       "                            <li><a href=\"/who-we-are#faqs\">FAQs</a></li>\n",
       "                            <li><a href=\"/contact-us\">Contact Us</a></li>\n",
       "                            <li><a href=\"/who-we-are#awards\">Foundation Recognition</a></li>\n",
       "                            <li><a href=\"/who-we-are#media\">For Media Companies</a></li>\n",
       "                            <li><a href=\"/terms-of-use\">Terms of Use</a> &amp; <a href=\"/privacy-policy\">Privacy Policy</a></li>\n",
       "                            <li style=\"color: #1a1a1a;\">en</li>\n",
       "                        </ul>\n",
       "\n",
       "                        <div class=\"clearfix\"></div>\n",
       "\n",
       "                    </div>\n",
       "\n",
       "                    <div class=\"col-sm-3\">\n",
       "                        <a href=\"/\"><img alt=\"Passiton footer logo\" height=\"26\" src=\"/assets/passiton_footer_logo-096b4c04a71fdd79573aea3579388f88.png\" style=\"margin-bottom: 20px;\" width=\"200\"/></a><br/>\n",
       "\n",
       "                        <ul class=\"passiton-share-icons\">\n",
       "                            <li><a class=\"social-icon si-small si-rounded si-facebook\" href=\"https://www.facebook.com/valuescom\"><i class=\"icon-facebook\"></i></a></li>\n",
       "                            <li><a class=\"social-icon si-small si-rounded si-twitter\" href=\"https://twitter.com/valuescom\"><i class=\"icon-twitter\"></i></a></li>\n",
       "                            <li><a class=\"social-icon si-small si-rounded si-instagram\" href=\"https://www.instagram.com/passiton_com/\"><i class=\"icon-instagram\"></i></a></li>\n",
       "                            <li><a class=\"social-icon si-small si-rounded si-youtube\" href=\"https://www.youtube.com/c/PassItOncom\"><i class=\"icon-youtube-play\"></i></a></li>\n",
       "                            <li><a class=\"social-icon si-small si-rounded si-pinterest\" href=\"https://www.pinterest.com/passiton/\"><i class=\"icon-pinterest\"></i></a></li>\n",
       "                        </ul>\n",
       "                    </div>\n",
       "\n",
       "                </div>\n",
       "\n",
       "            </div>\n",
       "\n",
       "        </footer>\n",
       "\n",
       "    </div>\n",
       "\n",
       "    <div class=\"icon-angle-up\" id=\"gotoTop\"></div>\n",
       "\n",
       "    <script src=\"/assets/application-739eb79af205cb6d65cef9be8c483acb.js\"></script>\n",
       "    \n",
       "\n",
       "\n",
       "</body></html>"
      ]
     },
     "execution_count": 44,
     "metadata": {},
     "output_type": "execute_result"
    }
   ],
   "source": [
    "soup"
   ]
  },
  {
   "cell_type": "code",
   "execution_count": 16,
   "metadata": {},
   "outputs": [],
   "source": [
    "articles=soup.findAll('article')"
   ]
  },
  {
   "cell_type": "code",
   "execution_count": 17,
   "metadata": {},
   "outputs": [
    {
     "data": {
      "text/plain": [
       "<article class=\"portfolio-item quotation optimism\">\n",
       "    <div class=\"portfolio-image\">\n",
       "        <a href=\"/inspirational-quotes/7858-what-a-wonderful-thought-it-is-that-some-of-the\"><img alt=\"What a wonderful thought it is that some of the best days of our lives haven't even happened yet. #&lt;Author:0x007f2240266998&gt;\" class=\"hover\" src=\"https://quotes.values.com/quote_artwork/7858/medium/20190101_tuesday_quote_alternate.jpg?1546208533\"/></a>\n",
       "    </div>\n",
       "</article>"
      ]
     },
     "execution_count": 17,
     "metadata": {},
     "output_type": "execute_result"
    }
   ],
   "source": [
    "articles[0]"
   ]
  },
  {
   "cell_type": "code",
   "execution_count": 18,
   "metadata": {},
   "outputs": [
    {
     "data": {
      "text/plain": [
       "\"What a wonderful thought it is that some of the best days of our lives haven't even happened yet. #<Author:0x007f2240266998>\""
      ]
     },
     "execution_count": 18,
     "metadata": {},
     "output_type": "execute_result"
    }
   ],
   "source": [
    "articles[0].find('img')['alt']"
   ]
  },
  {
   "cell_type": "code",
   "execution_count": 19,
   "metadata": {},
   "outputs": [
    {
     "name": "stdout",
     "output_type": "stream",
     "text": [
      "0 => What a wonderful thought it is that some of the best days of our lives haven't even happened yet. #<Author:0x007f2240266998>\n",
      "1 => The future belongs to those who believe in the beauty of their dreams. #<Author:0x007f223f1d2fa0>\n",
      "2 => Love is not only something you feel, it is something you do. #<Author:0x007f223db8d5b0>\n",
      "3 => Your circumstance doesn’t make life extraordinary. Love does. #<Author:0x007f223f360e58>\n",
      "4 => Let us see what love can do. #<Author:0x007f223ceb48c0>\n",
      "5 => And the Grinch, with his Grinch-feet ice cold in the snow, stood puzzling and puzzling, how could it be so? It came without ribbons. It came without tags. It came without packages, boxes or bags. And he puzzled and puzzled 'till his puzzler was sore. Then the Grinch thought of something he hadn't before. What if Christmas, he thought, doesn't come from a store? What if Christmas, perhaps, means a little bit more? #<Author:0x007f223c9ff8c0>\n",
      "6 => The love in your heart wasn't put there to stay. Love isn't love 'til you give it away. #<Author:0x007f223fc37c48>\n",
      "7 => What greater thing is there for human souls than to feel that they are joined for life - to be with each other in silent unspeakable memories. #<Author:0x007f2240015db0>\n",
      "8 => My family is my life, and everything else comes second as far as what's important to me. #<Author:0x007f223d7acfe0>\n",
      "9 => Having somewhere to go is home, having someone to love is family, having both is blessing. #<Author:0x007f223f4cd408>\n",
      "10 => Family and friends are hidden treasures, seek them and enjoy their riches. #<Author:0x007f223cbe2818>\n",
      "11 => The bond that links your true family is not one of blood, but of respect and joy in each other's life. Rarely do members of one family grow up under the same roof. #<Author:0x007f223cac79b0>\n",
      "12 => The best way to find yourself is to lose yourself in the service of others. #<Author:0x007f223cd26878>\n",
      "13 => Life's most urgent question is: What are you doing for others? #<Author:0x007f223d5248b8>\n",
      "14 => Life is a gift, and it offers us the privilege, opportunity, and responsibility to give something back by becoming more. #<Author:0x007f223ec3aef8>\n",
      "15 => We make a living by what we get. We make a life by what we give. #<Author:0x007f223ce14050>\n"
     ]
    }
   ],
   "source": [
    "d={}\n",
    "for i,article in enumerate(articles):\n",
    "    d[i]=article.find('img')['alt']\n",
    "    print(i, \"=>\", article.find('img')['alt'])"
   ]
  },
  {
   "cell_type": "code",
   "execution_count": 25,
   "metadata": {},
   "outputs": [
    {
     "data": {
      "text/plain": [
       "{0: \"What a wonderful thought it is that some of the best days of our lives haven't even happened yet. #<Author:0x007f2240266998>\",\n",
       " 1: 'The future belongs to those who believe in the beauty of their dreams. #<Author:0x007f223f1d2fa0>',\n",
       " 2: 'Love is not only something you feel, it is something you do. #<Author:0x007f223db8d5b0>',\n",
       " 3: 'Your circumstance doesn’t make life extraordinary. Love does. #<Author:0x007f223f360e58>',\n",
       " 4: 'Let us see what love can do. #<Author:0x007f223ceb48c0>',\n",
       " 5: \"And the Grinch, with his Grinch-feet ice cold in the snow, stood puzzling and puzzling, how could it be so? It came without ribbons. It came without tags. It came without packages, boxes or bags. And he puzzled and puzzled 'till his puzzler was sore. Then the Grinch thought of something he hadn't before. What if Christmas, he thought, doesn't come from a store? What if Christmas, perhaps, means a little bit more? #<Author:0x007f223c9ff8c0>\",\n",
       " 6: \"The love in your heart wasn't put there to stay. Love isn't love 'til you give it away. #<Author:0x007f223fc37c48>\",\n",
       " 7: 'What greater thing is there for human souls than to feel that they are joined for life - to be with each other in silent unspeakable memories. #<Author:0x007f2240015db0>',\n",
       " 8: \"My family is my life, and everything else comes second as far as what's important to me. #<Author:0x007f223d7acfe0>\",\n",
       " 9: 'Having somewhere to go is home, having someone to love is family, having both is blessing. #<Author:0x007f223f4cd408>',\n",
       " 10: 'Family and friends are hidden treasures, seek them and enjoy their riches. #<Author:0x007f223cbe2818>',\n",
       " 11: \"The bond that links your true family is not one of blood, but of respect and joy in each other's life. Rarely do members of one family grow up under the same roof. #<Author:0x007f223cac79b0>\",\n",
       " 12: 'The best way to find yourself is to lose yourself in the service of others. #<Author:0x007f223cd26878>',\n",
       " 13: \"Life's most urgent question is: What are you doing for others? #<Author:0x007f223d5248b8>\",\n",
       " 14: 'Life is a gift, and it offers us the privilege, opportunity, and responsibility to give something back by becoming more. #<Author:0x007f223ec3aef8>',\n",
       " 15: 'We make a living by what we get. We make a life by what we give. #<Author:0x007f223ce14050>'}"
      ]
     },
     "execution_count": 25,
     "metadata": {},
     "output_type": "execute_result"
    }
   ],
   "source": [
    "d"
   ]
  },
  {
   "cell_type": "code",
   "execution_count": 26,
   "metadata": {},
   "outputs": [],
   "source": [
    "# import json"
   ]
  },
  {
   "cell_type": "code",
   "execution_count": 27,
   "metadata": {},
   "outputs": [],
   "source": [
    "# filet=json.dump(d,'filrt')"
   ]
  },
  {
   "cell_type": "code",
   "execution_count": 28,
   "metadata": {},
   "outputs": [],
   "source": [
    "import os"
   ]
  },
  {
   "cell_type": "code",
   "execution_count": 29,
   "metadata": {},
   "outputs": [
    {
     "ename": "NameError",
     "evalue": "name 'filet' is not defined",
     "output_type": "error",
     "traceback": [
      "\u001b[1;31m---------------------------------------------------------------------------\u001b[0m",
      "\u001b[1;31mNameError\u001b[0m                                 Traceback (most recent call last)",
      "\u001b[1;32m<ipython-input-29-73ce3621c58f>\u001b[0m in \u001b[0;36m<module>\u001b[1;34m\u001b[0m\n\u001b[1;32m----> 1\u001b[1;33m \u001b[0mfilet\u001b[0m\u001b[1;33m\u001b[0m\u001b[1;33m\u001b[0m\u001b[0m\n\u001b[0m",
      "\u001b[1;31mNameError\u001b[0m: name 'filet' is not defined"
     ]
    }
   ],
   "source": [
    "filet"
   ]
  },
  {
   "cell_type": "code",
   "execution_count": 46,
   "metadata": {},
   "outputs": [],
   "source": [
    "if not 'moti' in os.listdir():\n",
    "    os.mkdir('moti')"
   ]
  },
  {
   "cell_type": "code",
   "execution_count": 47,
   "metadata": {},
   "outputs": [],
   "source": [
    "import json"
   ]
  },
  {
   "cell_type": "code",
   "execution_count": 48,
   "metadata": {},
   "outputs": [],
   "source": [
    "with open(\"jst1.json\",\"w+\")as file:\n",
    "    json.dump(d,file)"
   ]
  },
  {
   "cell_type": "code",
   "execution_count": 34,
   "metadata": {},
   "outputs": [],
   "source": [
    "# import os"
   ]
  },
  {
   "cell_type": "code",
   "execution_count": 35,
   "metadata": {},
   "outputs": [],
   "source": [
    "# if not 'moti' in os.listdir():\n",
    "#     os.mkdir('moti')"
   ]
  },
  {
   "cell_type": "code",
   "execution_count": 36,
   "metadata": {},
   "outputs": [],
   "source": [
    "for i,article in enumerate(articles):\n",
    "    img_url=article.find('img')['src']\n",
    "    r=requests.get(img_url)\n",
    "    with open(\"moti/{}.jpg\".format(i),\"wb\")as file:\n",
    "        file.write(r.content)"
   ]
  },
  {
   "cell_type": "code",
   "execution_count": null,
   "metadata": {},
   "outputs": [],
   "source": []
  },
  {
   "cell_type": "code",
   "execution_count": null,
   "metadata": {},
   "outputs": [],
   "source": []
  },
  {
   "cell_type": "code",
   "execution_count": 41,
   "metadata": {},
   "outputs": [],
   "source": [
    "articles=soup.find_all('div',attr={\"class\":\"portfolio-image\"})"
   ]
  },
  {
   "cell_type": "code",
   "execution_count": null,
   "metadata": {},
   "outputs": [],
   "source": []
  },
  {
   "cell_type": "code",
   "execution_count": null,
   "metadata": {},
   "outputs": [],
   "source": []
  },
  {
   "cell_type": "markdown",
   "metadata": {},
   "source": [
    "![](http://www.entropywebscraping.com/wp-content/uploads/2017/02/Screenshot-from-2017-02-01-10-23-00.png)"
   ]
  },
  {
   "cell_type": "markdown",
   "metadata": {},
   "source": [
    "# 4. Web automation\n",
    " \n",
    " ![](https://images.contentful.com/qs7jgwzogkzr/6HeUbprAsMYek2Keqi0WYo/d8ad7cf2f15e706ead76e00a53859cc7/testing-automation-alternatives.jpg)\n",
    " \n",
    " **Task:** Automatically submit the code for a [problem](https://www.codechef.com/problems/TEST) on [codechef](https://www.codechef.com/).\n",
    " \n",
    " ### [Selenium](http://selenium-python.readthedocs.io/) : Web automation and testing\n",
    " \n",
    " ![](https://udemy-images.udemy.com/course/750x422/482754_7146_4.jpg)\n",
    " \n",
    " \n",
    " #### Installation\n",
    " \n",
    " - To install python bindings for selenium:\n",
    "     ```\n",
    "     pip install selenium\n",
    "     ```\n",
    "     \n",
    " - To install webdriver:\n",
    " \n",
    "     http://selenium-python.readthedocs.io/installation.html#drivers\n",
    "     \n",
    "     [How to put webdriver in PATH?](https://stackoverflow.com/questions/40208051/selenium-using-python-geckodriver-executable-needs-to-be-in-path)\n",
    " \n",
    " #### To start a browser session\n",
    " ```python\n",
    " from selenium import webdriver\n",
    " browser = webdriver.Chrome()\n",
    " ```\n",
    " \n",
    " #### To open a webpage\n",
    " ```python\n",
    " browser.get('https://www.codechef.com')\n",
    " ```\n",
    " \n",
    " #### To select an element by its id\n",
    " ```python\n",
    " browser.find_element_by_id(<id>)\n",
    " ```\n",
    " \n",
    " #### Input value in element\n",
    " ```python\n",
    " element.send_keys()\n",
    " ```\n",
    " \n",
    " #### Click on an element\n",
    " ```python\n",
    " element.click()\n",
    " ```"
   ]
  },
  {
   "cell_type": "code",
   "execution_count": null,
   "metadata": {},
   "outputs": [],
   "source": []
  },
  {
   "cell_type": "code",
   "execution_count": null,
   "metadata": {},
   "outputs": [],
   "source": []
  },
  {
   "cell_type": "markdown",
   "metadata": {},
   "source": [
    "![](https://i.imgflip.com/poxkz.jpg)"
   ]
  },
  {
   "cell_type": "markdown",
   "metadata": {},
   "source": [
    "## Resourses:\n",
    "\n",
    "- Python packages:\n",
    "\n",
    "    - [requests](http://docs.python-requests.org/en/master/)\n",
    "\n",
    "    - [bs4](https://www.crummy.com/software/BeautifulSoup/bs4/doc/)\n",
    "    \n",
    "    - [html5lib](https://html5lib.readthedocs.io/en/latest/)\n",
    " \n",
    "\n",
    "- Articles:\n",
    "\n",
    "    - https://indianpythonista.wordpress.com/2016/12/10/get-and-post-requests-using-python/\n",
    "\n",
    "    - https://indianpythonista.wordpress.com/2016/10/18/requests-http-for-pythonistas/\n",
    "\n",
    "    - https://indianpythonista.wordpress.com/2016/12/10/downloading-files-from-web-using-python/\n",
    "\n",
    "    - https://indianpythonista.wordpress.com/2016/12/10/implementing-web-scraping-in-python-with-beautiful-soup/\n",
    "\n",
    "\n",
    "- Videos:\n",
    "\n",
    "    - File downloader: https://www.youtube.com/watch?v=Xhw2l-hzoKk\n",
    "    - Web scraping: https://www.youtube.com/watch?v=lIkd_jt28i0&t=557s"
   ]
  }
 ],
 "metadata": {
  "kernelspec": {
   "display_name": "Python 3",
   "language": "python",
   "name": "python3"
  },
  "language_info": {
   "codemirror_mode": {
    "name": "ipython",
    "version": 3
   },
   "file_extension": ".py",
   "mimetype": "text/x-python",
   "name": "python",
   "nbconvert_exporter": "python",
   "pygments_lexer": "ipython3",
   "version": "3.7.1"
  }
 },
 "nbformat": 4,
 "nbformat_minor": 2
}
