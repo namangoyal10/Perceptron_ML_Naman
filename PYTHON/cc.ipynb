{
 "cells": [
  {
   "cell_type": "code",
   "execution_count": 21,
   "metadata": {},
   "outputs": [],
   "source": [
    "import numpy as np"
   ]
  },
  {
   "cell_type": "code",
   "execution_count": 22,
   "metadata": {},
   "outputs": [
    {
     "name": "stdout",
     "output_type": "stream",
     "text": [
      "3 2\n"
     ]
    }
   ],
   "source": [
    "p = [int(x) for x in input().split()]"
   ]
  },
  {
   "cell_type": "code",
   "execution_count": 23,
   "metadata": {},
   "outputs": [
    {
     "name": "stdout",
     "output_type": "stream",
     "text": [
      "0 3 4 \n",
      "2 4\n"
     ]
    }
   ],
   "source": [
    "x = [int(x) for x in input().split()]\n",
    "y = [int(x) for x in input().split()]\n"
   ]
  },
  {
   "cell_type": "code",
   "execution_count": 24,
   "metadata": {},
   "outputs": [
    {
     "data": {
      "text/plain": [
       "array([[0, 0, 3, 0],\n",
       "       [0, 0, 3, 0],\n",
       "       [0, 0, 4, 0],\n",
       "       [0, 0, 4, 0],\n",
       "       [3, 0, 4, 0],\n",
       "       [3, 0, 4, 0]])"
      ]
     },
     "execution_count": 24,
     "metadata": {},
     "output_type": "execute_result"
    }
   ],
   "source": [
    "lx = []\n",
    "for i in range(p[0]):\n",
    "    for j in range(i+1,p[0]):\n",
    "        lx.append( np.array( [(x[i],0 ,x[j],0)] ) ) \n",
    "lx = np.array(lx)\n",
    "lx = np.concatenate(lx , axis=0)\n",
    "lx = lx.repeat(len(y) ,axis=0)\n",
    "lx    "
   ]
  },
  {
   "cell_type": "code",
   "execution_count": 25,
   "metadata": {},
   "outputs": [
    {
     "data": {
      "text/plain": [
       "array([[0, 2],\n",
       "       [0, 4],\n",
       "       [0, 2],\n",
       "       [0, 4],\n",
       "       [0, 2],\n",
       "       [0, 4]])"
      ]
     },
     "execution_count": 25,
     "metadata": {},
     "output_type": "execute_result"
    }
   ],
   "source": [
    "y1 = y*len(x)\n",
    "ly = np.array(y1)\n",
    "ly =np.reshape(ly , (ly.shape[0],1))\n",
    "ly1 = np.zeros_like(y1)\n",
    "ly1 =np.reshape(ly1 , (ly1.shape[0],1))\n",
    "ly = np.concatenate((ly1,ly) , axis = 1)\n",
    "ly"
   ]
  },
  {
   "cell_type": "code",
   "execution_count": 26,
   "metadata": {},
   "outputs": [
    {
     "data": {
      "text/plain": [
       "array([[0, 0, 3, 0, 0, 2],\n",
       "       [0, 0, 3, 0, 0, 4],\n",
       "       [0, 0, 4, 0, 0, 2],\n",
       "       [0, 0, 4, 0, 0, 4],\n",
       "       [3, 0, 4, 0, 0, 2],\n",
       "       [3, 0, 4, 0, 0, 4]])"
      ]
     },
     "execution_count": 26,
     "metadata": {},
     "output_type": "execute_result"
    }
   ],
   "source": [
    "X = np.concatenate((lx,ly), axis=1)\n",
    "X"
   ]
  },
  {
   "cell_type": "code",
   "execution_count": null,
   "metadata": {},
   "outputs": [],
   "source": []
  },
  {
   "cell_type": "code",
   "execution_count": 33,
   "metadata": {},
   "outputs": [],
   "source": [
    "def givemeans3(p1,p2,p3):\n",
    "    b= ((p3-p1)**2).sum()\n",
    "    p= ((p3-p2)**2).sum()\n",
    "    h= ((p2-p1)**2).sum()\n",
    "    \n",
    "    \n",
    "    if h == p+b:\n",
    "        print(p,b,h)\n",
    "        return 1\n",
    "    else:\n",
    "        return 0"
   ]
  },
  {
   "cell_type": "code",
   "execution_count": 34,
   "metadata": {},
   "outputs": [
    {
     "name": "stdout",
     "output_type": "stream",
     "text": [
      "0\n",
      "0\n",
      "4 9 13\n",
      "1\n",
      "0\n",
      "0\n",
      "16 9 25\n",
      "1\n",
      "0\n",
      "0\n",
      "4 16 20\n",
      "1\n",
      "0\n",
      "0\n",
      "16 16 32\n",
      "1\n",
      "0\n",
      "0\n",
      "0\n",
      "0\n",
      "0\n",
      "0\n"
     ]
    }
   ],
   "source": [
    "for i in X:\n",
    "    p1 = np.array([ i[0] , i[1] ])\n",
    "    p2 = np.array([ i[2] , i[3] ])\n",
    "    p3 = np.array([ i[4] , i[5] ])\n",
    "    print(givemeans3(p1,p2,p3))\n",
    "    \n",
    "    p2 = np.array([ i[0] , i[1] ])\n",
    "    p3 = np.array([ i[2] , i[3] ])\n",
    "    p1 = np.array([ i[4] , i[5] ])\n",
    "    print(givemeans3(p1,p2,p3))\n",
    "\n",
    "    p3 = np.array([ i[0] , i[1] ])\n",
    "    p1 = np.array([ i[2] , i[3] ])\n",
    "    p2 = np.array([ i[4] , i[5] ])    \n",
    "    print(givemeans3(p1,p2,p3))"
   ]
  },
  {
   "cell_type": "code",
   "execution_count": 35,
   "metadata": {},
   "outputs": [
    {
     "data": {
      "text/plain": [
       "array([[0, 2, 0, 4],\n",
       "       [0, 2, 0, 4],\n",
       "       [0, 2, 0, 4]])"
      ]
     },
     "execution_count": 35,
     "metadata": {},
     "output_type": "execute_result"
    }
   ],
   "source": [
    "ly = []\n",
    "for i in range(p[1]):\n",
    "    for j in range(i+1,p[1]):\n",
    "        ly.append( np.array( [(0,y[i],0 ,y[j])] ) ) \n",
    "ly = np.array(ly)\n",
    "ly = np.concatenate(ly , axis=0)\n",
    "ly = ly.repeat(len(x) ,axis=0)\n",
    "ly"
   ]
  },
  {
   "cell_type": "code",
   "execution_count": 43,
   "metadata": {},
   "outputs": [
    {
     "name": "stdout",
     "output_type": "stream",
     "text": [
      "[0, 3, 4]\n"
     ]
    },
    {
     "data": {
      "text/plain": [
       "array([[0, 0],\n",
       "       [3, 0],\n",
       "       [4, 0]])"
      ]
     },
     "execution_count": 43,
     "metadata": {},
     "output_type": "execute_result"
    }
   ],
   "source": [
    "x1 = x*int( len(ly) / len(x)) \n",
    "print(x1)\n",
    "lx = np.array(x1)\n",
    "lx =np.reshape(lx , (lx.shape[0],1))\n",
    "lx1 = np.zeros_like(x1)\n",
    "lx1 =np.reshape(lx1 , (lx1.shape[0],1))\n",
    "lx = np.concatenate((lx,lx1) , axis = 1)\n",
    "lx"
   ]
  },
  {
   "cell_type": "code",
   "execution_count": 44,
   "metadata": {},
   "outputs": [
    {
     "data": {
      "text/plain": [
       "array([[0, 0, 0, 2, 0, 4],\n",
       "       [3, 0, 0, 2, 0, 4],\n",
       "       [4, 0, 0, 2, 0, 4]])"
      ]
     },
     "execution_count": 44,
     "metadata": {},
     "output_type": "execute_result"
    }
   ],
   "source": [
    "Y = np.concatenate((lx,ly), axis=1)\n",
    "Y"
   ]
  },
  {
   "cell_type": "code",
   "execution_count": 46,
   "metadata": {},
   "outputs": [
    {
     "data": {
      "text/plain": [
       "array([[0, 0, 3, 0, 0, 2],\n",
       "       [0, 0, 3, 0, 0, 4],\n",
       "       [0, 0, 4, 0, 0, 2],\n",
       "       [0, 0, 4, 0, 0, 4],\n",
       "       [3, 0, 4, 0, 0, 2],\n",
       "       [3, 0, 4, 0, 0, 4],\n",
       "       [0, 0, 0, 2, 0, 4],\n",
       "       [3, 0, 0, 2, 0, 4],\n",
       "       [4, 0, 0, 2, 0, 4]])"
      ]
     },
     "execution_count": 46,
     "metadata": {},
     "output_type": "execute_result"
    }
   ],
   "source": [
    "X = np.concatenate((X,Y) ,axis = 0)\n",
    "X"
   ]
  },
  {
   "cell_type": "code",
   "execution_count": 45,
   "metadata": {},
   "outputs": [
    {
     "name": "stdout",
     "output_type": "stream",
     "text": [
      "0\n",
      "0\n",
      "0\n",
      "0\n",
      "0\n",
      "0\n",
      "0\n",
      "0\n",
      "0\n"
     ]
    }
   ],
   "source": [
    "for i in Y:\n",
    "    p1 = np.array([ i[0] , i[1] ])\n",
    "    p2 = np.array([ i[2] , i[3] ])\n",
    "    p3 = np.array([ i[4] , i[5] ])\n",
    "    print(givemeans3(p1,p2,p3))\n",
    "    \n",
    "    p2 = np.array([ i[0] , i[1] ])\n",
    "    p3 = np.array([ i[2] , i[3] ])\n",
    "    p1 = np.array([ i[4] , i[5] ])\n",
    "    print(givemeans3(p1,p2,p3))\n",
    "\n",
    "    p3 = np.array([ i[0] , i[1] ])\n",
    "    p1 = np.array([ i[2] , i[3] ])\n",
    "    p2 = np.array([ i[4] , i[5] ])    \n",
    "    print(givemeans3(p1,p2,p3))"
   ]
  },
  {
   "cell_type": "code",
   "execution_count": null,
   "metadata": {},
   "outputs": [],
   "source": []
  }
 ],
 "metadata": {
  "kernelspec": {
   "display_name": "Python 3",
   "language": "python",
   "name": "python3"
  },
  "language_info": {
   "codemirror_mode": {
    "name": "ipython",
    "version": 3
   },
   "file_extension": ".py",
   "mimetype": "text/x-python",
   "name": "python",
   "nbconvert_exporter": "python",
   "pygments_lexer": "ipython3",
   "version": "3.7.4"
  }
 },
 "nbformat": 4,
 "nbformat_minor": 2
}
