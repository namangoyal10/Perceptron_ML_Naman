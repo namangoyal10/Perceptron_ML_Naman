{
 "cells": [
  {
   "cell_type": "code",
   "execution_count": 4,
   "metadata": {},
   "outputs": [],
   "source": [
    "for i in range(1,10):\n",
    "      pass\n",
    "    ##donot do anything\n",
    "    "
   ]
  },
  {
   "cell_type": "code",
   "execution_count": 9,
   "metadata": {},
   "outputs": [
    {
     "name": "stdout",
     "output_type": "stream",
     "text": [
      "1\n",
      "this is a pass block\n",
      "2\n",
      "3\n",
      "this is a pass block\n",
      "4\n",
      "5\n",
      "this is a pass block\n",
      "6\n",
      "7\n",
      "this is a pass block\n",
      "8\n",
      "9\n"
     ]
    }
   ],
   "source": [
    "for i in range (1,10):\n",
    "    if(i%2==0):\n",
    "        pass\n",
    "        print(\"this is a pass block\")\n",
    "    print(i)"
   ]
  },
  {
   "cell_type": "code",
   "execution_count": 15,
   "metadata": {},
   "outputs": [
    {
     "name": "stdout",
     "output_type": "stream",
     "text": [
      "hello 5\n",
      "hello 5\n",
      "loop is over 9\n"
     ]
    }
   ],
   "source": [
    "for i in range (10):\n",
    "    if(i==5):\n",
    "        print(\"hello\",i)\n",
    "        pass\n",
    "        print(\"hello\",i)\n",
    "print(\"loop is over %d\"%i)"
   ]
  },
  {
   "cell_type": "markdown",
   "metadata": {},
   "source": [
    "# break and continue : -\n"
   ]
  },
  {
   "cell_type": "code",
   "execution_count": 26,
   "metadata": {},
   "outputs": [
    {
     "name": "stdout",
     "output_type": "stream",
     "text": [
      "0\n",
      "1\n",
      "2\n",
      "3\n",
      "4\n"
     ]
    }
   ],
   "source": [
    "for i in range(10):\n",
    "    if (i == 5):\n",
    "        break\n",
    "    print(i)"
   ]
  },
  {
   "cell_type": "code",
   "execution_count": 28,
   "metadata": {},
   "outputs": [
    {
     "name": "stdout",
     "output_type": "stream",
     "text": [
      "0\n",
      "1\n",
      "2\n",
      "3\n",
      "4\n",
      "6\n",
      "7\n",
      "8\n",
      "9\n"
     ]
    }
   ],
   "source": [
    "for i in range (10):\n",
    "    if(i==5):\n",
    "        continue\n",
    "        print(\"we did continue\")\n",
    "    print(i)"
   ]
  },
  {
   "cell_type": "code",
   "execution_count": 36,
   "metadata": {},
   "outputs": [
    {
     "name": "stdout",
     "output_type": "stream",
     "text": [
      "0 0 \t\n",
      "0 1 \t\n",
      "0 2 \t\n",
      "1 0 \t\n",
      "1 1 \t\n",
      "1 2 \t\n",
      "3 0 \t\n",
      "3 1 \t\n",
      "3 2 \t\n",
      "loop is over\n"
     ]
    }
   ],
   "source": [
    "##break in outer loop\n",
    "for i in range (4):\n",
    "    for j in range (3):\n",
    "        if(i==2):\n",
    "            break\n",
    "        print(i,j , \"\\t\")\n",
    "print (\"loop is over\")"
   ]
  },
  {
   "cell_type": "code",
   "execution_count": 33,
   "metadata": {},
   "outputs": [
    {
     "name": "stdout",
     "output_type": "stream",
     "text": [
      "0 0 \t\n",
      "0 1 \t\n",
      "0 2 \t\n",
      "1 0 \t\n",
      "1 1 \t\n",
      "1 2 \t\n",
      "3 0 \t\n",
      "3 1 \t\n",
      "3 2 \t\n",
      "loop is over\n"
     ]
    }
   ],
   "source": [
    "##continue in outer loop\n",
    "for i in range (4):\n",
    "    for j in range (3):\n",
    "        if(i==2):\n",
    "            continue\n",
    "        print(i,j , \"\\t\")\n",
    "print (\"loop is over\")"
   ]
  },
  {
   "cell_type": "code",
   "execution_count": 37,
   "metadata": {},
   "outputs": [
    {
     "name": "stdout",
     "output_type": "stream",
     "text": [
      "0 0 \t\n",
      "0 1 \t\n",
      "1 0 \t\n",
      "1 1 \t\n",
      "2 0 \t\n",
      "2 1 \t\n",
      "3 0 \t\n",
      "3 1 \t\n",
      "loop is over\n"
     ]
    }
   ],
   "source": [
    "##break in inner loop\n",
    "for i in range (4):\n",
    "    for j in range (4):\n",
    "        if(j==2):\n",
    "            break\n",
    "        print(i,j , \"\\t\")\n",
    "print (\"loop is over\")"
   ]
  },
  {
   "cell_type": "code",
   "execution_count": 38,
   "metadata": {},
   "outputs": [
    {
     "name": "stdout",
     "output_type": "stream",
     "text": [
      "0 0 \t\n",
      "0 1 \t\n",
      "0 3 \t\n",
      "1 0 \t\n",
      "1 1 \t\n",
      "1 3 \t\n",
      "2 0 \t\n",
      "2 1 \t\n",
      "2 3 \t\n",
      "3 0 \t\n",
      "3 1 \t\n",
      "3 3 \t\n",
      "loop is over\n"
     ]
    }
   ],
   "source": [
    "##continue in inner loop\n",
    "\n",
    "for i in range (4):\n",
    "    for j in range (4):\n",
    "        if(j==2):\n",
    "            continue\n",
    "        print(i,j , \"\\t\")\n",
    "print (\"loop is over\")"
   ]
  },
  {
   "cell_type": "markdown",
   "metadata": {},
   "source": [
    "### continue in outer loop is same as break in outer loop if nested loops\n"
   ]
  },
  {
   "cell_type": "code",
   "execution_count": null,
   "metadata": {},
   "outputs": [],
   "source": []
  }
 ],
 "metadata": {
  "kernelspec": {
   "display_name": "Python 3",
   "language": "python",
   "name": "python3"
  },
  "language_info": {
   "codemirror_mode": {
    "name": "ipython",
    "version": 3
   },
   "file_extension": ".py",
   "mimetype": "text/x-python",
   "name": "python",
   "nbconvert_exporter": "python",
   "pygments_lexer": "ipython3",
   "version": "3.7.4"
  }
 },
 "nbformat": 4,
 "nbformat_minor": 2
}
