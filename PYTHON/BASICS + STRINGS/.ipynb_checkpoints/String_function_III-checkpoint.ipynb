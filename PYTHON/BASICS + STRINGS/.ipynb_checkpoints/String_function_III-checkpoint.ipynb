{
 "cells": [
  {
   "cell_type": "markdown",
   "metadata": {},
   "source": [
    "# String input_split_convertToInteger"
   ]
  },
  {
   "cell_type": "code",
   "execution_count": 9,
   "metadata": {},
   "outputs": [
    {
     "name": "stdout",
     "output_type": "stream",
     "text": [
      "10 23 244 19\n",
      "1 2 4 5 7\n"
     ]
    }
   ],
   "source": [
    "numbers=input()\n",
    "number1=input().split()"
   ]
  },
  {
   "cell_type": "code",
   "execution_count": 11,
   "metadata": {},
   "outputs": [
    {
     "name": "stdout",
     "output_type": "stream",
     "text": [
      "10 23 244 19\n",
      "['1', '2', '4', '5', '7']\n",
      "<class 'str'> <class 'list'>\n"
     ]
    }
   ],
   "source": [
    "print(numbers)\n",
    "print(number1)\n",
    "print(type(numbers) ,type(number1))"
   ]
  },
  {
   "cell_type": "code",
   "execution_count": 12,
   "metadata": {},
   "outputs": [
    {
     "name": "stdout",
     "output_type": "stream",
     "text": [
      "12 11 10 9 8 7 \n"
     ]
    }
   ],
   "source": [
    "number2=[inp for inp in input().split()]"
   ]
  },
  {
   "cell_type": "code",
   "execution_count": 13,
   "metadata": {},
   "outputs": [
    {
     "name": "stdout",
     "output_type": "stream",
     "text": [
      "['12', '11', '10', '9', '8', '7']\n",
      "<class 'list'>\n"
     ]
    }
   ],
   "source": [
    "print(number2)\n",
    "print(type(number2))"
   ]
  },
  {
   "cell_type": "code",
   "execution_count": 17,
   "metadata": {},
   "outputs": [
    {
     "name": "stdout",
     "output_type": "stream",
     "text": [
      "10 12 14 16\n"
     ]
    }
   ],
   "source": [
    "number3=[int(inp) for inp in input().split()]\n"
   ]
  },
  {
   "cell_type": "code",
   "execution_count": 19,
   "metadata": {},
   "outputs": [
    {
     "name": "stdout",
     "output_type": "stream",
     "text": [
      "[10, 12, 14, 16]\n",
      "<class 'list'>\n",
      "<class 'int'>\n"
     ]
    }
   ],
   "source": [
    "print(number3)\n",
    "print(type(number3))\n",
    "print(type(number3[0]))"
   ]
  },
  {
   "cell_type": "markdown",
   "metadata": {},
   "source": [
    "## string to list char wise\n"
   ]
  },
  {
   "cell_type": "code",
   "execution_count": 2,
   "metadata": {},
   "outputs": [
    {
     "name": "stdout",
     "output_type": "stream",
     "text": [
      "['N', 'A', 'M', 'A', 'N']\n"
     ]
    }
   ],
   "source": [
    "lx=list(\"NAMAN\")\n",
    "print(lx)"
   ]
  },
  {
   "cell_type": "code",
   "execution_count": null,
   "metadata": {},
   "outputs": [],
   "source": []
  },
  {
   "cell_type": "markdown",
   "metadata": {},
   "source": [
    "## startswith in a str"
   ]
  },
  {
   "cell_type": "code",
   "execution_count": 1,
   "metadata": {},
   "outputs": [
    {
     "name": "stdout",
     "output_type": "stream",
     "text": [
      "['naman_color', 'naman_game', 'naman_btech', 'color', ' btech']\n",
      "naman_color\n",
      "naman_game\n",
      "naman_btech\n"
     ]
    }
   ],
   "source": [
    "l=list([\"naman_color\", \"naman_game\" ,\"naman_btech\", \"color\", \" btech\" ])\n",
    "print(l)\n",
    "\n",
    "for i in l :\n",
    "    if i.startswith(\"naman\"):\n",
    "        print(i)"
   ]
  },
  {
   "cell_type": "code",
   "execution_count": null,
   "metadata": {},
   "outputs": [],
   "source": []
  },
  {
   "cell_type": "code",
   "execution_count": null,
   "metadata": {},
   "outputs": [],
   "source": []
  }
 ],
 "metadata": {
  "kernelspec": {
   "display_name": "Python 3",
   "language": "python",
   "name": "python3"
  },
  "language_info": {
   "codemirror_mode": {
    "name": "ipython",
    "version": 3
   },
   "file_extension": ".py",
   "mimetype": "text/x-python",
   "name": "python",
   "nbconvert_exporter": "python",
   "pygments_lexer": "ipython3",
   "version": "3.7.4"
  }
 },
 "nbformat": 4,
 "nbformat_minor": 2
}
