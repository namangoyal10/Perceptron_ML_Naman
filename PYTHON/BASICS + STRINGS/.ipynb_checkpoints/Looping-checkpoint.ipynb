{
 "cells": [
  {
   "cell_type": "markdown",
   "metadata": {},
   "source": [
    "## LOOPING"
   ]
  },
  {
   "cell_type": "markdown",
   "metadata": {},
   "source": [
    "### while loop\n"
   ]
  },
  {
   "cell_type": "code",
   "execution_count": 7,
   "metadata": {},
   "outputs": [
    {
     "name": "stdout",
     "output_type": "stream",
     "text": [
      " this is 1\n",
      " this is 2\n",
      " this is 3\n",
      " this is 4\n",
      " this is 5\n",
      " this is 6\n",
      " this is 7\n",
      " this is 8\n",
      " this is 9\n",
      " this is 10\n"
     ]
    }
   ],
   "source": [
    "i=1\n",
    "n=10\n",
    "while i<=n:\n",
    "    print(\" this is %d\"%i)\n",
    "    i+=1\n",
    "    "
   ]
  },
  {
   "cell_type": "code",
   "execution_count": 21,
   "metadata": {},
   "outputs": [
    {
     "name": "stdout",
     "output_type": "stream",
     "text": [
      " this is 1\n",
      " this is 2\n",
      " this is 3\n",
      " this is 4\n",
      " this is 5\n",
      " this is 6\n",
      " this is 7\n",
      " this is 8\n",
      " this is 9\n",
      " this is 10\n",
      "11\n"
     ]
    }
   ],
   "source": [
    "i=1\n",
    "while i<=n:\n",
    "    print(\" this is\",i)\n",
    "    i+=1\n",
    "print(i)"
   ]
  },
  {
   "cell_type": "markdown",
   "metadata": {},
   "source": [
    "### for loop"
   ]
  },
  {
   "cell_type": "code",
   "execution_count": 2,
   "metadata": {},
   "outputs": [
    {
     "name": "stdout",
     "output_type": "stream",
     "text": [
      "1,2,3,4,5,6,7,8,9,10,\n",
      " 10\n"
     ]
    }
   ],
   "source": [
    "i=1\n",
    "for i in range (1,11):\n",
    "    print(\"%d\"%i , end=',')\n",
    "print(\"\\n\",i)\n"
   ]
  },
  {
   "cell_type": "code",
   "execution_count": 1,
   "metadata": {},
   "outputs": [
    {
     "name": "stdout",
     "output_type": "stream",
     "text": [
      "1\n",
      "3\n",
      "5\n",
      "7\n",
      "9\n",
      "loop is over \t 9\n"
     ]
    }
   ],
   "source": [
    "for i in range (1,10,2):\n",
    "    print(i)\n",
    "    \n",
    "print(\"loop is over \\t\" , i)"
   ]
  },
  {
   "cell_type": "code",
   "execution_count": 3,
   "metadata": {},
   "outputs": [
    {
     "name": "stdout",
     "output_type": "stream",
     "text": [
      "1\n",
      "4\n",
      "7\n",
      "loop is over \t 7\n"
     ]
    }
   ],
   "source": [
    "\n",
    "for i in range (1,10,3):\n",
    "    print(i)\n",
    "    \n",
    "print(\"loop is over \\t\" , i)"
   ]
  },
  {
   "cell_type": "code",
   "execution_count": 15,
   "metadata": {},
   "outputs": [
    {
     "name": "stdout",
     "output_type": "stream",
     "text": [
      "1 5 9 13 loop is over \t 13\n",
      "loop is over \t 13\n"
     ]
    }
   ],
   "source": [
    "for i in range (1,16,4):\n",
    "    print(i ,end = ' ')\n",
    "print(\"loop is over \\t\" , i)\n",
    "print(\"loop is over \\t\" , i)"
   ]
  },
  {
   "cell_type": "code",
   "execution_count": 23,
   "metadata": {},
   "outputs": [
    {
     "name": "stdout",
     "output_type": "stream",
     "text": [
      "10\n",
      "3628800\n"
     ]
    }
   ],
   "source": [
    "## factotial\n",
    "ans=1\n",
    "n=int(input())\n",
    "for i in range( 1,n+1 ):\n",
    "    ans*=i\n",
    "print(ans)"
   ]
  },
  {
   "cell_type": "code",
   "execution_count": 4,
   "metadata": {},
   "outputs": [
    {
     "name": "stdout",
     "output_type": "stream",
     "text": [
      "10 7 4 \n",
      "loop is over  4\n"
     ]
    }
   ],
   "source": [
    "### Reverse loop\n",
    "for i in range (10,1,-3):\n",
    "    print(i ,end =\" \")\n",
    "\n",
    "print(\"\\nloop is over \" , i)"
   ]
  },
  {
   "cell_type": "code",
   "execution_count": 6,
   "metadata": {},
   "outputs": [
    {
     "name": "stdout",
     "output_type": "stream",
     "text": [
      "\n",
      "1 0\n",
      "\n",
      "2 0\n",
      "2 1\n",
      "\n",
      "3 0\n",
      "3 1\n",
      "3 2\n",
      "\n"
     ]
    }
   ],
   "source": [
    "n=4\n",
    "\n",
    "for i in range (n):\n",
    "    for j in range (i):\n",
    "        #print(j , end=\" \")\n",
    "        print(i,j)\n",
    "    print()"
   ]
  },
  {
   "cell_type": "markdown",
   "metadata": {},
   "source": [
    "## Important concept below"
   ]
  },
  {
   "cell_type": "code",
   "execution_count": 15,
   "metadata": {},
   "outputs": [
    {
     "name": "stdout",
     "output_type": "stream",
     "text": [
      "5 5 5 5 5 \n",
      "5 4 4 4 5 \n",
      "5 4 3 4 5 \n",
      "5 4 4 4 5 \n",
      "5 5 5 5 5 \n"
     ]
    }
   ],
   "source": [
    "n=5\n",
    "\n",
    "for x in range (n):\n",
    "    for y in range (n):\n",
    "        print(max (x+1 , y+1 , n-x , n-y) ,end=' ')\n",
    "    print()"
   ]
  },
  {
   "cell_type": "code",
   "execution_count": null,
   "metadata": {},
   "outputs": [],
   "source": []
  }
 ],
 "metadata": {
  "kernelspec": {
   "display_name": "Python 3",
   "language": "python",
   "name": "python3"
  },
  "language_info": {
   "codemirror_mode": {
    "name": "ipython",
    "version": 3
   },
   "file_extension": ".py",
   "mimetype": "text/x-python",
   "name": "python",
   "nbconvert_exporter": "python",
   "pygments_lexer": "ipython3",
   "version": "3.7.4"
  }
 },
 "nbformat": 4,
 "nbformat_minor": 2
}
