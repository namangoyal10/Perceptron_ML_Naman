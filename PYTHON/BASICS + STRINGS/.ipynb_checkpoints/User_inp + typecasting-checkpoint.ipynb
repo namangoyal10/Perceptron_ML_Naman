{
 "cells": [
  {
   "cell_type": "code",
   "execution_count": 1,
   "metadata": {},
   "outputs": [
    {
     "name": "stdout",
     "output_type": "stream",
     "text": [
      "NAMAN\n",
      "hello NAMAN\n"
     ]
    }
   ],
   "source": [
    "name=input()\n",
    "print(\"hello \"+name)"
   ]
  },
  {
   "cell_type": "code",
   "execution_count": 2,
   "metadata": {},
   "outputs": [
    {
     "name": "stdout",
     "output_type": "stream",
     "text": [
      "<class 'str'>\n"
     ]
    }
   ],
   "source": [
    "print(type(name))"
   ]
  },
  {
   "cell_type": "code",
   "execution_count": 2,
   "metadata": {},
   "outputs": [
    {
     "name": "stdout",
     "output_type": "stream",
     "text": [
      "20\n",
      "20\n",
      "<class 'str'>\n"
     ]
    }
   ],
   "source": [
    "##Input is a form of string inp\n",
    "age=input()\n",
    "print(age)\n",
    "print(type(age))"
   ]
  },
  {
   "cell_type": "code",
   "execution_count": 4,
   "metadata": {},
   "outputs": [
    {
     "name": "stdout",
     "output_type": "stream",
     "text": [
      "20 20\n",
      "<class 'int'> <class 'str'>\n",
      "22\n",
      "22 <class 'int'>\n"
     ]
    }
   ],
   "source": [
    "### Typecasting\n",
    "my_age=int(age) \n",
    "print(my_age , age)\n",
    "print(type(my_age) , type(age)) \n",
    "\n",
    "### Input in form of int\n",
    "salary=int(input())\n",
    "print(salary ,type(salary))\n"
   ]
  },
  {
   "cell_type": "code",
   "execution_count": null,
   "metadata": {},
   "outputs": [],
   "source": []
  }
 ],
 "metadata": {
  "kernelspec": {
   "display_name": "Python 3",
   "language": "python",
   "name": "python3"
  },
  "language_info": {
   "codemirror_mode": {
    "name": "ipython",
    "version": 3
   },
   "file_extension": ".py",
   "mimetype": "text/x-python",
   "name": "python",
   "nbconvert_exporter": "python",
   "pygments_lexer": "ipython3",
   "version": "3.7.4"
  }
 },
 "nbformat": 4,
 "nbformat_minor": 2
}
