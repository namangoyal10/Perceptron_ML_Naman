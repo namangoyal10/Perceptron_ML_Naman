{
 "cells": [
  {
   "cell_type": "markdown",
   "metadata": {},
   "source": [
    "# Strings to list - Wordwise & Linewise"
   ]
  },
  {
   "cell_type": "code",
   "execution_count": 16,
   "metadata": {},
   "outputs": [
    {
     "name": "stdout",
     "output_type": "stream",
     "text": [
      "this is my para string\n",
      "i am coding in python\n",
      "still learning\n"
     ]
    }
   ],
   "source": [
    "para =  \"\"\"this is my para string\n",
    "i am coding in python\n",
    "still learning\"\"\"\n",
    "print(para)"
   ]
  },
  {
   "cell_type": "code",
   "execution_count": 17,
   "metadata": {},
   "outputs": [
    {
     "name": "stdout",
     "output_type": "stream",
     "text": [
      "['this', 'is', 'my', 'para', 'string', 'i', 'am', 'coding', 'in', 'python', 'still', 'learning']\n",
      "my\n"
     ]
    }
   ],
   "source": [
    "words=para.split()\n",
    "print(words)\n",
    "print(words[2])"
   ]
  },
  {
   "cell_type": "code",
   "execution_count": 18,
   "metadata": {},
   "outputs": [
    {
     "name": "stdout",
     "output_type": "stream",
     "text": [
      "<class 'str'>\n",
      "<class 'list'>\n",
      "<class 'str'>\n"
     ]
    }
   ],
   "source": [
    "print(type(para))\n",
    "print(type(words))\n",
    "print(type(words[0]))"
   ]
  },
  {
   "cell_type": "code",
   "execution_count": 19,
   "metadata": {},
   "outputs": [
    {
     "name": "stdout",
     "output_type": "stream",
     "text": [
      "['this is my para string', 'i am coding in python', 'still learning']\n",
      "<class 'list'>\n",
      "<class 'str'>\n"
     ]
    }
   ],
   "source": [
    "line=para.splitlines()\n",
    "print(line)\n",
    "print(type(line))\n",
    "print(type(line[1]))"
   ]
  },
  {
   "cell_type": "markdown",
   "metadata": {},
   "source": [
    "# String to uppercase and lowercase"
   ]
  },
  {
   "cell_type": "code",
   "execution_count": 42,
   "metadata": {},
   "outputs": [
    {
     "name": "stdout",
     "output_type": "stream",
     "text": [
      "NAMAN\n",
      "naman\n",
      "NAMAN\n",
      "naman\n"
     ]
    }
   ],
   "source": [
    "name=\"naman\"\n",
    "print(name.upper())\n",
    "print(name)\n",
    "name=name.upper()\n",
    "print(name)\n",
    "print(name.lower())"
   ]
  },
  {
   "cell_type": "markdown",
   "metadata": {},
   "source": [
    "## String strip whitespaces"
   ]
  },
  {
   "cell_type": "code",
   "execution_count": 40,
   "metadata": {},
   "outputs": [
    {
     "name": "stdout",
     "output_type": "stream",
     "text": [
      "11\n",
      "   hello   \n",
      "hello   \n",
      "8\n",
      "hello\n",
      "5\n"
     ]
    }
   ],
   "source": [
    "str1=\"   hello   \"\n",
    "str2=str1\n",
    "print(len(str1) , str1 , sep=\"\\n\")\n",
    "str1=str1.lstrip()\n",
    "print(str1,len(str1) , sep=\"\\n\")\n",
    "str1=str1.rstrip()\n",
    "print(str1,len(str1) , sep=\"\\n\")"
   ]
  },
  {
   "cell_type": "code",
   "execution_count": 41,
   "metadata": {},
   "outputs": [
    {
     "name": "stdout",
     "output_type": "stream",
     "text": [
      "   hello   \n",
      "11\n",
      "5\n",
      "hello\n"
     ]
    }
   ],
   "source": [
    "print(str2)\n",
    "print(len(str2))\n",
    "str2=str2.strip()\n",
    "print(len(str2))\n",
    "print(str1)"
   ]
  },
  {
   "cell_type": "markdown",
   "metadata": {},
   "source": [
    "### to check if string contains only whitespace"
   ]
  },
  {
   "cell_type": "code",
   "execution_count": 65,
   "metadata": {},
   "outputs": [
    {
     "name": "stdout",
     "output_type": "stream",
     "text": [
      "False\n",
      "True\n"
     ]
    }
   ],
   "source": [
    "m1=\"abc1243\"\n",
    "m2=\"    \"\n",
    "print(m1.isspace())\n",
    "print(m2.isspace())"
   ]
  },
  {
   "cell_type": "markdown",
   "metadata": {},
   "source": [
    "###  check if the string is only upper case or only lower case"
   ]
  },
  {
   "cell_type": "code",
   "execution_count": 60,
   "metadata": {},
   "outputs": [],
   "source": [
    "pa=\"NAMAN\"\n",
    "pb=\"goyal\"\n",
    "pc=\"NamAN\""
   ]
  },
  {
   "cell_type": "code",
   "execution_count": 61,
   "metadata": {},
   "outputs": [
    {
     "name": "stdout",
     "output_type": "stream",
     "text": [
      "True naman\n",
      "False True\n"
     ]
    }
   ],
   "source": [
    "print(pa.isupper() , pa.lower())\n",
    "print(pb.isupper() , pb.islower())"
   ]
  },
  {
   "cell_type": "code",
   "execution_count": 62,
   "metadata": {},
   "outputs": [
    {
     "name": "stdout",
     "output_type": "stream",
     "text": [
      "False False\n"
     ]
    }
   ],
   "source": [
    "print(pc.isupper() , pc.islower())"
   ]
  },
  {
   "cell_type": "markdown",
   "metadata": {},
   "source": [
    "# if string contains only digits or characters(alpha)"
   ]
  },
  {
   "cell_type": "code",
   "execution_count": 53,
   "metadata": {},
   "outputs": [
    {
     "name": "stdout",
     "output_type": "stream",
     "text": [
      "False\n",
      "True\n"
     ]
    }
   ],
   "source": [
    "a=\"9.23112\"\n",
    "print(a.isdigit())\n",
    "b=\"99283\"\n",
    "print(b.isdigit())"
   ]
  },
  {
   "cell_type": "code",
   "execution_count": 54,
   "metadata": {},
   "outputs": [
    {
     "name": "stdout",
     "output_type": "stream",
     "text": [
      "False\n",
      "False\n",
      "False\n",
      "True\n"
     ]
    }
   ],
   "source": [
    "c=\" H. NO IS 928\"\n",
    "print(c.isalpha())\n",
    "c=\" H. NO IS two\"\n",
    "print(c.isalpha())\n",
    "c=\" H NO IS two\"\n",
    "print(c.isalpha())\n",
    "#no spaces and no special char like . , : etc\n",
    "c=\"HNOIStwo\"\n",
    "print(c.isalpha())"
   ]
  },
  {
   "cell_type": "code",
   "execution_count": 55,
   "metadata": {},
   "outputs": [
    {
     "name": "stdout",
     "output_type": "stream",
     "text": [
      "False\n",
      "False\n",
      "True\n"
     ]
    }
   ],
   "source": [
    "#alpha numeric : only alphabets and no\n",
    "d=\"123abc@\"\n",
    "print(d.isalnum())\n",
    "d=\"123abc.\"\n",
    "print(d.isalnum())\n",
    "d=\"123abc\"\n",
    "print(d.isalnum())"
   ]
  },
  {
   "cell_type": "code",
   "execution_count": null,
   "metadata": {},
   "outputs": [],
   "source": []
  }
 ],
 "metadata": {
  "kernelspec": {
   "display_name": "Python 3",
   "language": "python",
   "name": "python3"
  },
  "language_info": {
   "codemirror_mode": {
    "name": "ipython",
    "version": 3
   },
   "file_extension": ".py",
   "mimetype": "text/x-python",
   "name": "python",
   "nbconvert_exporter": "python",
   "pygments_lexer": "ipython3",
   "version": "3.7.4"
  }
 },
 "nbformat": 4,
 "nbformat_minor": 2
}
