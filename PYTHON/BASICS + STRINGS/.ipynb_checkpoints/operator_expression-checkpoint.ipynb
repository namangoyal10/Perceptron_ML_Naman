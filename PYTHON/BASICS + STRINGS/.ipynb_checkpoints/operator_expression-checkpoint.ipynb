{
 "cells": [
  {
   "cell_type": "code",
   "execution_count": 3,
   "metadata": {},
   "outputs": [],
   "source": [
    "#  \n",
    "# +\n",
    "# -\n",
    "# /\n",
    "# *\n",
    "# %\n",
    "# // floor division\n",
    "# ** power of\n",
    "# "
   ]
  },
  {
   "cell_type": "code",
   "execution_count": null,
   "metadata": {},
   "outputs": [],
   "source": [
    "# ==\n",
    "# <=\n",
    "# >=\n",
    "# !=\n",
    "# >\n",
    "# <"
   ]
  },
  {
   "cell_type": "code",
   "execution_count": 22,
   "metadata": {},
   "outputs": [
    {
     "name": "stdout",
     "output_type": "stream",
     "text": [
      "0.6666666666666666\n",
      "<class 'float'>\n",
      "1.0\n",
      "<class 'float'>\n"
     ]
    }
   ],
   "source": [
    "a=2/3\n",
    "print(a)\n",
    "print(type(a))\n",
    "a=3/3\n",
    "print(a)\n",
    "print(type(a))"
   ]
  },
  {
   "cell_type": "code",
   "execution_count": 21,
   "metadata": {},
   "outputs": [
    {
     "name": "stdout",
     "output_type": "stream",
     "text": [
      "<class 'int'>\n",
      "4.0 <class 'float'>\n",
      "9.5 <class 'float'>\n",
      "9 <class 'int'>\n"
     ]
    }
   ],
   "source": [
    "a=3\n",
    "print(type(a))\n",
    "a += 2\n",
    "a *= 4\n",
    "a /= 10\n",
    "a **=2\n",
    "print(a, type(a))\n",
    "\n",
    "a=19/2\n",
    "print(a, type(a))\n",
    "a =19//2\n",
    "print(a, type(a))"
   ]
  },
  {
   "cell_type": "code",
   "execution_count": 30,
   "metadata": {},
   "outputs": [
    {
     "name": "stdout",
     "output_type": "stream",
     "text": [
      "True\n",
      "False\n"
     ]
    },
    {
     "data": {
      "text/plain": [
       "True"
      ]
     },
     "execution_count": 30,
     "metadata": {},
     "output_type": "execute_result"
    }
   ],
   "source": [
    "a=10\n",
    "print(a!=6)\n",
    "print(a==1)\n",
    "\n",
    "a<5\n",
    "a<11\n",
    "#only one output works if i dont write the below statement\n",
    "\n",
    "#print(a!=3)\n"
   ]
  },
  {
   "cell_type": "code",
   "execution_count": 37,
   "metadata": {},
   "outputs": [
    {
     "name": "stdout",
     "output_type": "stream",
     "text": [
      " i am not going out\n"
     ]
    }
   ],
   "source": [
    "a=30\n",
    "weather=\"rainy\"\n",
    "if not weather  == \"sunny\" and not a<40 :\n",
    "    print(\"i am going out\")\n",
    "else:\n",
    "    print(\" i am not going out\")\n",
    "    "
   ]
  },
  {
   "cell_type": "code",
   "execution_count": 2,
   "metadata": {},
   "outputs": [
    {
     "name": "stdout",
     "output_type": "stream",
     "text": [
      "3.6\n"
     ]
    },
    {
     "data": {
      "text/plain": [
       "3"
      ]
     },
     "execution_count": 2,
     "metadata": {},
     "output_type": "execute_result"
    }
   ],
   "source": [
    "print(18/5)\n",
    "18//5"
   ]
  },
  {
   "cell_type": "code",
   "execution_count": 3,
   "metadata": {},
   "outputs": [
    {
     "data": {
      "text/plain": [
       "6.0"
      ]
     },
     "execution_count": 3,
     "metadata": {},
     "output_type": "execute_result"
    }
   ],
   "source": [
    "18/3"
   ]
  },
  {
   "cell_type": "code",
   "execution_count": null,
   "metadata": {},
   "outputs": [],
   "source": []
  }
 ],
 "metadata": {
  "kernelspec": {
   "display_name": "Python 3",
   "language": "python",
   "name": "python3"
  },
  "language_info": {
   "codemirror_mode": {
    "name": "ipython",
    "version": 3
   },
   "file_extension": ".py",
   "mimetype": "text/x-python",
   "name": "python",
   "nbconvert_exporter": "python",
   "pygments_lexer": "ipython3",
   "version": "3.7.4"
  }
 },
 "nbformat": 4,
 "nbformat_minor": 2
}
