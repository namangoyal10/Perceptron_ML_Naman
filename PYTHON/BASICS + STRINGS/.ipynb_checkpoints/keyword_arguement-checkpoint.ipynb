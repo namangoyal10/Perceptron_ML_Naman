{
 "cells": [
  {
   "cell_type": "code",
   "execution_count": 2,
   "metadata": {},
   "outputs": [
    {
     "name": "stdout",
     "output_type": "stream",
     "text": [
      "my name is naman and age is 20\n",
      "\n",
      "my name is goyal and age is 21\n"
     ]
    }
   ],
   "source": [
    "def myFunct(name,age,income):\n",
    "    print(\"my name is {} and age is {}\" .format(name,age))\n",
    "    \n",
    "myFunct(\"naman\",20,10000000)\n",
    "print()\n",
    "myFunct(income=20000000,name=\"goyal\",age=21)"
   ]
  },
  {
   "cell_type": "code",
   "execution_count": null,
   "metadata": {},
   "outputs": [],
   "source": []
  }
 ],
 "metadata": {
  "kernelspec": {
   "display_name": "Python 3",
   "language": "python",
   "name": "python3"
  },
  "language_info": {
   "codemirror_mode": {
    "name": "ipython",
    "version": 3
   },
   "file_extension": ".py",
   "mimetype": "text/x-python",
   "name": "python",
   "nbconvert_exporter": "python",
   "pygments_lexer": "ipython3",
   "version": "3.7.4"
  }
 },
 "nbformat": 4,
 "nbformat_minor": 2
}
