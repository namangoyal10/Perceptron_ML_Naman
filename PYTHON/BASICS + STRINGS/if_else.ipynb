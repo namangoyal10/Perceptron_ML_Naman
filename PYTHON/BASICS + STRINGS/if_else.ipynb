{
 "cells": [
  {
   "cell_type": "code",
   "execution_count": 1,
   "metadata": {},
   "outputs": [],
   "source": [
    "a=20\n",
    "b=80"
   ]
  },
  {
   "cell_type": "code",
   "execution_count": 2,
   "metadata": {},
   "outputs": [
    {
     "name": "stdout",
     "output_type": "stream",
     "text": [
      " i am in 2\n"
     ]
    }
   ],
   "source": [
    "if a<10:\n",
    "    print(\" i am in 1\")\n",
    "elif a>10 and a<30:\n",
    "    print(\" i am in 2\")\n",
    "elif a>15 and a<40:\n",
    "    print(\" i am in 3\")\n",
    "else:\n",
    "    print(\" i am in 4\")"
   ]
  },
  {
   "cell_type": "code",
   "execution_count": 3,
   "metadata": {},
   "outputs": [
    {
     "name": "stdout",
     "output_type": "stream",
     "text": [
      " i am in 2\n",
      " i am in 3\n"
     ]
    }
   ],
   "source": [
    "if a<10:\n",
    "    print(\" i am in 1\")\n",
    "if a>10 and a<30:\n",
    "    print(\" i am in 2\")\n",
    "if a>15 and a<40:\n",
    "    print(\" i am in 3\")\n",
    "else:\n",
    "    print(\" i am in 4\")"
   ]
  },
  {
   "cell_type": "code",
   "execution_count": 5,
   "metadata": {},
   "outputs": [
    {
     "name": "stdout",
     "output_type": "stream",
     "text": [
      "320\n",
      "320.0\n",
      "<class 'float'>\n"
     ]
    }
   ],
   "source": [
    "x=float(input())\n",
    "print(x)\n",
    "print(type(x))"
   ]
  },
  {
   "cell_type": "code",
   "execution_count": 4,
   "metadata": {},
   "outputs": [
    {
     "name": "stdout",
     "output_type": "stream",
     "text": [
      "<class 'type'>\n"
     ]
    }
   ],
   "source": [
    "print(type(int))"
   ]
  },
  {
   "cell_type": "code",
   "execution_count": null,
   "metadata": {},
   "outputs": [],
   "source": []
  }
 ],
 "metadata": {
  "kernelspec": {
   "display_name": "Python 3",
   "language": "python",
   "name": "python3"
  },
  "language_info": {
   "codemirror_mode": {
    "name": "ipython",
    "version": 3
   },
   "file_extension": ".py",
   "mimetype": "text/x-python",
   "name": "python",
   "nbconvert_exporter": "python",
   "pygments_lexer": "ipython3",
   "version": "3.7.4"
  }
 },
 "nbformat": 4,
 "nbformat_minor": 2
}
