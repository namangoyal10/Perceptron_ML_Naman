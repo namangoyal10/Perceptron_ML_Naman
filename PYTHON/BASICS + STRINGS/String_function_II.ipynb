{
 "cells": [
  {
   "cell_type": "markdown",
   "metadata": {},
   "source": [
    "## Overview\n",
    "- FIND \n",
    "- REPLACE \n",
    "- COUNT\n",
    "- JOIN\n",
    "- TITLE \n",
    "- CAPITALIZE\n",
    "- String comprehension"
   ]
  },
  {
   "cell_type": "code",
   "execution_count": 3,
   "metadata": {},
   "outputs": [],
   "source": [
    "str = \"I love to drink apple juice, i like green apple \""
   ]
  },
  {
   "cell_type": "code",
   "execution_count": 16,
   "metadata": {},
   "outputs": [
    {
     "name": "stdout",
     "output_type": "stream",
     "text": [
      "16\n",
      "42\n",
      "-1\n",
      "-1\n",
      "-1\n",
      "16\n",
      "16\n",
      "42\n",
      "16\n"
     ]
    }
   ],
   "source": [
    "print(str.find(\"apple\"))   #gives me first apple from left\n",
    "print(str.rfind(\"apple\"))  #gives me first apple from right\n",
    "print(str.find(\"appless\"))\n",
    "print(str.find(\"APPLE\"))\n",
    "print(str.find(\"banana\"))\n",
    "print(str.find(\"apple\" , 10,30))\n",
    "print(str.find(\"apple\" , 10,50))\n",
    "print(str.rfind(\"apple\" , 10,50))\n",
    "print(str.find(\"apple\" , 10,len(str)))"
   ]
  },
  {
   "cell_type": "code",
   "execution_count": 17,
   "metadata": {},
   "outputs": [
    {
     "name": "stdout",
     "output_type": "stream",
     "text": [
      "16\n",
      "I love to drink banana juice, i like green banana \n"
     ]
    }
   ],
   "source": [
    "print(str.index(\"apple\"))\n",
    "a= str.replace(\"apple\",\"banana\")\n",
    "print(a)"
   ]
  },
  {
   "cell_type": "code",
   "execution_count": 18,
   "metadata": {},
   "outputs": [],
   "source": [
    "## difference between index and find is that if \"apple \" is not present in the string it will throw an error"
   ]
  },
  {
   "cell_type": "code",
   "execution_count": null,
   "metadata": {},
   "outputs": [],
   "source": []
  },
  {
   "cell_type": "code",
   "execution_count": 19,
   "metadata": {},
   "outputs": [
    {
     "name": "stdout",
     "output_type": "stream",
     "text": [
      "The prime minister is Manmohan Singh\n",
      "The prime minister is Narendra Modi\n"
     ]
    }
   ],
   "source": [
    "str1=\"The prime minister is Manmohan Singh\"\n",
    "str1.replace(\"Manmohan Singh\", \"Narendra Modi\")\n",
    "print(str1)\n",
    "str1=str1.replace(\"Manmohan Singh\", \"Narendra Modi\")\n",
    "print(str1)"
   ]
  },
  {
   "cell_type": "code",
   "execution_count": null,
   "metadata": {},
   "outputs": [],
   "source": []
  },
  {
   "cell_type": "code",
   "execution_count": 20,
   "metadata": {},
   "outputs": [
    {
     "name": "stdout",
     "output_type": "stream",
     "text": [
      "6\n",
      "1\n",
      "0\n"
     ]
    }
   ],
   "source": [
    "str2 = \"I love to drink aaaaapple juice , i like green apple \"\n",
    "print(str2.count(\"a\"))\n",
    "print(str2.count(\"juice\"))\n",
    "print(str2.count(\"bannana\"))"
   ]
  },
  {
   "cell_type": "code",
   "execution_count": null,
   "metadata": {},
   "outputs": [],
   "source": []
  },
  {
   "cell_type": "code",
   "execution_count": 21,
   "metadata": {},
   "outputs": [],
   "source": [
    "str3= \"I love to drink apple juice  i    like green apple \"\n",
    "str4=str3"
   ]
  },
  {
   "cell_type": "code",
   "execution_count": 22,
   "metadata": {},
   "outputs": [
    {
     "name": "stdout",
     "output_type": "stream",
     "text": [
      "['I', 'love', 'to', 'drink', 'apple', 'juice', 'i', 'like', 'green', 'apple']\n"
     ]
    }
   ],
   "source": [
    "l=str3.split()\n",
    "p=str4.split()\n",
    "print(l)"
   ]
  },
  {
   "cell_type": "code",
   "execution_count": 30,
   "metadata": {},
   "outputs": [
    {
     "name": "stdout",
     "output_type": "stream",
     "text": [
      "I=love=to=drink=apple=juice=i=like=green=apple\n"
     ]
    }
   ],
   "source": [
    "l=str3.split()\n",
    "m=\"-\"\n",
    "m=\"=\".join(l)\n",
    "print(m)"
   ]
  },
  {
   "cell_type": "code",
   "execution_count": 24,
   "metadata": {},
   "outputs": [
    {
     "name": "stdout",
     "output_type": "stream",
     "text": [
      "I\n",
      "love\n",
      "to\n",
      "drink\n",
      "apple\n",
      "juice\n",
      "i\n",
      "like\n",
      "green\n",
      "apple\n"
     ]
    }
   ],
   "source": [
    "n=\"\\n\".join(p)\n",
    "print(n)"
   ]
  },
  {
   "cell_type": "code",
   "execution_count": null,
   "metadata": {},
   "outputs": [],
   "source": []
  },
  {
   "cell_type": "code",
   "execution_count": 25,
   "metadata": {},
   "outputs": [
    {
     "name": "stdout",
     "output_type": "stream",
     "text": [
      "Coding blocks\n",
      "Coding Blocks\n",
      "   coding blocks\n",
      "   Coding Blocks\n"
     ]
    }
   ],
   "source": [
    "str5=\"coding blocks\"\n",
    "str6=str5\n",
    "print(str5.capitalize())   # capitalize only the first letter in the string\n",
    "print(str6.title())        # capitalize the first letter of every word\n",
    "str7=\"   coding blocks\"\n",
    "print(str7.capitalize())\n",
    "print(str7.title())"
   ]
  },
  {
   "cell_type": "code",
   "execution_count": null,
   "metadata": {},
   "outputs": [],
   "source": []
  },
  {
   "cell_type": "code",
   "execution_count": null,
   "metadata": {},
   "outputs": [],
   "source": []
  },
  {
   "cell_type": "code",
   "execution_count": 26,
   "metadata": {},
   "outputs": [
    {
     "name": "stdout",
     "output_type": "stream",
     "text": [
      "['10', '20', '30', '40']\n"
     ]
    }
   ],
   "source": [
    "mylist=\"10 20 30 40\"\n",
    "s=mylist.split()\n",
    "print(s)"
   ]
  },
  {
   "cell_type": "code",
   "execution_count": 27,
   "metadata": {},
   "outputs": [
    {
     "name": "stdout",
     "output_type": "stream",
     "text": [
      "<class 'str'> <class 'list'>\n"
     ]
    }
   ],
   "source": [
    "print(type(mylist),type(s))"
   ]
  },
  {
   "cell_type": "code",
   "execution_count": 28,
   "metadata": {},
   "outputs": [
    {
     "name": "stdout",
     "output_type": "stream",
     "text": [
      "['10', '20', '30', '40']\n"
     ]
    }
   ],
   "source": [
    "numbers= [no for no in s]  ##no is used as a variable to iterate over all the strings in  list s\n",
    "print(numbers)"
   ]
  },
  {
   "cell_type": "code",
   "execution_count": 29,
   "metadata": {},
   "outputs": [
    {
     "name": "stdout",
     "output_type": "stream",
     "text": [
      "[10, 20, 30, 40]\n"
     ]
    }
   ],
   "source": [
    "numbers1= [int(n) for n in s]  ##n is used to convert them into interger while traversing\n",
    "print(numbers1)"
   ]
  },
  {
   "cell_type": "code",
   "execution_count": null,
   "metadata": {},
   "outputs": [],
   "source": []
  },
  {
   "cell_type": "code",
   "execution_count": 32,
   "metadata": {},
   "outputs": [
    {
     "name": "stdout",
     "output_type": "stream",
     "text": [
      "Aaa\n"
     ]
    }
   ],
   "source": [
    "code=\"   aaa\"\n",
    "ptr=code.lstrip().capitalize()\n",
    "print(ptr)\n"
   ]
  },
  {
   "cell_type": "code",
   "execution_count": null,
   "metadata": {},
   "outputs": [],
   "source": []
  },
  {
   "cell_type": "code",
   "execution_count": null,
   "metadata": {},
   "outputs": [],
   "source": []
  },
  {
   "cell_type": "code",
   "execution_count": null,
   "metadata": {},
   "outputs": [],
   "source": []
  },
  {
   "cell_type": "code",
   "execution_count": null,
   "metadata": {},
   "outputs": [],
   "source": []
  }
 ],
 "metadata": {
  "kernelspec": {
   "display_name": "Python 3",
   "language": "python",
   "name": "python3"
  },
  "language_info": {
   "codemirror_mode": {
    "name": "ipython",
    "version": 3
   },
   "file_extension": ".py",
   "mimetype": "text/x-python",
   "name": "python",
   "nbconvert_exporter": "python",
   "pygments_lexer": "ipython3",
   "version": "3.7.4"
  }
 },
 "nbformat": 4,
 "nbformat_minor": 2
}
