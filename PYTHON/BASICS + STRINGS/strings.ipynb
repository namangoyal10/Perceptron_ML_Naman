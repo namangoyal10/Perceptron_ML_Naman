{
 "cells": [
  {
   "cell_type": "code",
   "execution_count": 1,
   "metadata": {},
   "outputs": [
    {
     "name": "stdout",
     "output_type": "stream",
     "text": [
      "coding\n"
     ]
    }
   ],
   "source": [
    "my_val=input()"
   ]
  },
  {
   "cell_type": "code",
   "execution_count": 2,
   "metadata": {},
   "outputs": [
    {
     "name": "stdout",
     "output_type": "stream",
     "text": [
      "c g\n"
     ]
    }
   ],
   "source": [
    "print(my_val[0] , my_val[5])"
   ]
  },
  {
   "cell_type": "code",
   "execution_count": 4,
   "metadata": {},
   "outputs": [
    {
     "name": "stdout",
     "output_type": "stream",
     "text": [
      "g c\n"
     ]
    }
   ],
   "source": [
    "print(my_val[-1],my_val[-6])"
   ]
  },
  {
   "cell_type": "markdown",
   "metadata": {},
   "source": [
    "### no \\0 at the end of the string"
   ]
  },
  {
   "cell_type": "code",
   "execution_count": 6,
   "metadata": {},
   "outputs": [
    {
     "name": "stdout",
     "output_type": "stream",
     "text": [
      "6\n"
     ]
    }
   ],
   "source": [
    "print(len(my_val))"
   ]
  },
  {
   "cell_type": "code",
   "execution_count": 7,
   "metadata": {},
   "outputs": [
    {
     "name": "stdout",
     "output_type": "stream",
     "text": [
      "c-o-d-i-n-g-"
     ]
    }
   ],
   "source": [
    "for i in range (len(my_val)):\n",
    "    print(my_val[i] , end='-')"
   ]
  },
  {
   "cell_type": "markdown",
   "metadata": {},
   "source": [
    "### Strings are immutable == we cannot change a character at a pos . we can reassign the whole string\n",
    "mystring=\"naman\"\n",
    "mystring[3]='t'\n",
    "this is not possible\n",
    "\n",
    "though we can reassign it\n",
    "mystring=\"naman\"\n",
    "mystring=\"goyal\""
   ]
  },
  {
   "cell_type": "markdown",
   "metadata": {},
   "source": [
    "###############################################################################################################################"
   ]
  },
  {
   "cell_type": "code",
   "execution_count": 9,
   "metadata": {},
   "outputs": [
    {
     "name": "stdout",
     "output_type": "stream",
     "text": [
      "namangoyal\n"
     ]
    }
   ],
   "source": [
    "## string concatinate\n",
    "a=\"naman\"\n",
    "b=\"goyal\"\n",
    "c=a+b\n",
    "print(c)"
   ]
  },
  {
   "cell_type": "code",
   "execution_count": 15,
   "metadata": {},
   "outputs": [
    {
     "data": {
      "text/plain": [
       "'goyalnamangoyal'"
      ]
     },
     "execution_count": 15,
     "metadata": {},
     "output_type": "execute_result"
    }
   ],
   "source": [
    "a+b\n",
    "c+a\n",
    "b+c\n",
    "##the last output is printed"
   ]
  },
  {
   "cell_type": "code",
   "execution_count": 16,
   "metadata": {},
   "outputs": [
    {
     "name": "stdout",
     "output_type": "stream",
     "text": [
      "namannamannamannaman\n"
     ]
    }
   ],
   "source": [
    "### copies of string\n",
    "print(a*4)"
   ]
  },
  {
   "cell_type": "code",
   "execution_count": 3,
   "metadata": {},
   "outputs": [
    {
     "name": "stdout",
     "output_type": "stream",
     "text": [
      "na\n",
      "naman\n",
      "ma\n",
      "man\n",
      "aman\n",
      " this doesnt work and gives space as ooutput\n"
     ]
    }
   ],
   "source": [
    "### range slicing string([s : e +1])\n",
    "a='naman'\n",
    "print(a[0:2])\n",
    "print(a[ : ])\n",
    "print(a[2 : -1])\n",
    "print(a[2 : ])\n",
    "print(a[-4 : ])\n",
    "print(a[-1:-3] , \"this doesnt work and gives space as ooutput\")"
   ]
  },
  {
   "cell_type": "code",
   "execution_count": 9,
   "metadata": {},
   "outputs": [
    {
     "name": "stdout",
     "output_type": "stream",
     "text": [
      "True\n",
      "True\n",
      "<class 'bool'>\n"
     ]
    }
   ],
   "source": [
    "# membership =subset present in a bigger string or not\n",
    "print('man' in a)\n",
    "w='man' in a\n",
    "print(w)\n",
    "print(type(w))"
   ]
  },
  {
   "cell_type": "code",
   "execution_count": 5,
   "metadata": {},
   "outputs": [
    {
     "name": "stdout",
     "output_type": "stream",
     "text": [
      "yes\n"
     ]
    }
   ],
   "source": [
    "x=\"coding blocks\"\n",
    "y=\"coding\" \n",
    "\n",
    "if  y  in  x:\n",
    "    print(\"yes\")\n",
    "else : \n",
    "    print(\"no\")\n"
   ]
  },
  {
   "cell_type": "code",
   "execution_count": 6,
   "metadata": {},
   "outputs": [
    {
     "name": "stdout",
     "output_type": "stream",
     "text": [
      "yes\n"
     ]
    }
   ],
   "source": [
    "x=\"coding blocks\"\n",
    "y=\"Coding\" ##caps\n",
    "\n",
    "if y not in x:\n",
    "    print(\"yes\")\n",
    "else:\n",
    "    print(\"no\")"
   ]
  },
  {
   "cell_type": "code",
   "execution_count": 7,
   "metadata": {},
   "outputs": [
    {
     "name": "stdout",
     "output_type": "stream",
     "text": [
      "the fruit mango comes from M\n"
     ]
    }
   ],
   "source": [
    "##formatting\n",
    "print(\"the fruit %s comes from %c\" %(\"mango\",\"M\"))"
   ]
  },
  {
   "cell_type": "code",
   "execution_count": 8,
   "metadata": {},
   "outputs": [
    {
     "name": "stdout",
     "output_type": "stream",
     "text": [
      "hello world\n",
      "    i am working with python\n",
      "        still i am learning\n"
     ]
    }
   ],
   "source": [
    "###PARAGRAPHS using string\n",
    "\n",
    "para=\"\"\"hello world\n",
    "    i am working with python\n",
    "        still i am learning\"\"\"\n",
    "print(para)"
   ]
  },
  {
   "cell_type": "code",
   "execution_count": null,
   "metadata": {},
   "outputs": [],
   "source": []
  },
  {
   "cell_type": "code",
   "execution_count": null,
   "metadata": {},
   "outputs": [],
   "source": []
  },
  {
   "cell_type": "code",
   "execution_count": null,
   "metadata": {},
   "outputs": [],
   "source": []
  }
 ],
 "metadata": {
  "kernelspec": {
   "display_name": "Python 3",
   "language": "python",
   "name": "python3"
  },
  "language_info": {
   "codemirror_mode": {
    "name": "ipython",
    "version": 3
   },
   "file_extension": ".py",
   "mimetype": "text/x-python",
   "name": "python",
   "nbconvert_exporter": "python",
   "pygments_lexer": "ipython3",
   "version": "3.7.4"
  }
 },
 "nbformat": 4,
 "nbformat_minor": 2
}
