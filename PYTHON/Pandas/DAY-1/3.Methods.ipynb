{
 "cells": [
  {
   "cell_type": "code",
   "execution_count": 1,
   "metadata": {},
   "outputs": [],
   "source": [
    "import numpy as np\n",
    "import pandas as pd\n",
    "import matplotlib.pyplot as plt"
   ]
  },
  {
   "cell_type": "code",
   "execution_count": 11,
   "metadata": {},
   "outputs": [
    {
     "name": "stdout",
     "output_type": "stream",
     "text": [
      "0    34.0\n",
      "1    12.0\n",
      "2    22.0\n",
      "3    14.0\n",
      "4     9.0\n",
      "dtype: float64\n"
     ]
    }
   ],
   "source": [
    "a=np.array([34,12,22,14,9] , dtype=np.float64)\n",
    "nn=pd.Series(a)\n",
    "print(nn)"
   ]
  },
  {
   "cell_type": "code",
   "execution_count": 12,
   "metadata": {},
   "outputs": [
    {
     "name": "stdout",
     "output_type": "stream",
     "text": [
      "34.0 <class 'float'>\n",
      "12.0 <class 'float'>\n",
      "22.0 <class 'float'>\n",
      "14.0 <class 'float'>\n",
      "9.0 <class 'float'>\n"
     ]
    }
   ],
   "source": [
    "for i in nn:\n",
    "     print(i , type(i))\n"
   ]
  },
  {
   "cell_type": "code",
   "execution_count": null,
   "metadata": {},
   "outputs": [],
   "source": []
  },
  {
   "cell_type": "code",
   "execution_count": 34,
   "metadata": {},
   "outputs": [
    {
     "name": "stdout",
     "output_type": "stream",
     "text": [
      "91.0\n",
      "1130976.0\n",
      "18.2\n"
     ]
    }
   ],
   "source": [
    "print(nn.sum())\n",
    "print(nn.product())\n",
    "print(nn.mean())"
   ]
  },
  {
   "cell_type": "code",
   "execution_count": 33,
   "metadata": {},
   "outputs": [
    {
     "name": "stdout",
     "output_type": "stream",
     "text": [
      "91.0\n"
     ]
    }
   ],
   "source": [
    "##print(a.sum())\n",
    "##print(np.multiply(a,a))\n",
    "##print(a.product())"
   ]
  },
  {
   "cell_type": "code",
   "execution_count": null,
   "metadata": {},
   "outputs": [],
   "source": []
  }
 ],
 "metadata": {
  "kernelspec": {
   "display_name": "Python 3",
   "language": "python",
   "name": "python3"
  },
  "language_info": {
   "codemirror_mode": {
    "name": "ipython",
    "version": 3
   },
   "file_extension": ".py",
   "mimetype": "text/x-python",
   "name": "python",
   "nbconvert_exporter": "python",
   "pygments_lexer": "ipython3",
   "version": "3.7.4"
  }
 },
 "nbformat": 4,
 "nbformat_minor": 2
}
