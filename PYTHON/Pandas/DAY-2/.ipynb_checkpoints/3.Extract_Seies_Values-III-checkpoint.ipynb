{
 "cells": [
  {
   "cell_type": "markdown",
   "metadata": {},
   "source": [
    "# By using .get method\n",
    "\n",
    "- Advantage = If a value is missing it will not return an error"
   ]
  },
  {
   "cell_type": "code",
   "execution_count": 11,
   "metadata": {},
   "outputs": [],
   "source": [
    "import numpy as np\n",
    "import pandas as pd"
   ]
  },
  {
   "cell_type": "code",
   "execution_count": 19,
   "metadata": {},
   "outputs": [
    {
     "data": {
      "text/plain": [
       "Pokemon\n",
       "Bulbasaur       Grass\n",
       "Ivysaur         Grass\n",
       "Venusaur        Grass\n",
       "Charmander       Fire\n",
       "Charmeleon       Fire\n",
       "               ...   \n",
       "Yveltal          Dark\n",
       "Zygarde        Dragon\n",
       "Diancie          Rock\n",
       "Hoopa         Psychic\n",
       "Volcanion        Fire\n",
       "Name: Type, Length: 721, dtype: object"
      ]
     },
     "execution_count": 19,
     "metadata": {},
     "output_type": "execute_result"
    }
   ],
   "source": [
    "pokemon=pd.read_csv(\"pokemon.csv\" , index_col=[\"Pokemon\"] ,squeeze=True)\n",
    "pokemon"
   ]
  },
  {
   "cell_type": "code",
   "execution_count": 20,
   "metadata": {},
   "outputs": [
    {
     "data": {
      "text/plain": [
       "Pokemon\n",
       "Abomasnow      Grass\n",
       "Abra         Psychic\n",
       "Absol           Dark\n",
       "Accelgor         Bug\n",
       "Aegislash      Steel\n",
       "Name: Type, dtype: object"
      ]
     },
     "execution_count": 20,
     "metadata": {},
     "output_type": "execute_result"
    }
   ],
   "source": [
    "pokemon.sort_index(ascending=True , inplace=True)\n",
    "pokemon.head()"
   ]
  },
  {
   "cell_type": "code",
   "execution_count": null,
   "metadata": {},
   "outputs": [],
   "source": []
  },
  {
   "cell_type": "code",
   "execution_count": null,
   "metadata": {},
   "outputs": [],
   "source": []
  },
  {
   "cell_type": "code",
   "execution_count": 23,
   "metadata": {},
   "outputs": [
    {
     "data": {
      "text/plain": [
       "Pokemon\n",
       "Hoopa    Psychic\n",
       "Name: Type, dtype: object"
      ]
     },
     "execution_count": 23,
     "metadata": {},
     "output_type": "execute_result"
    }
   ],
   "source": [
    "## if present\n",
    "pokemon.get(key=[ \"Hoopa\"] , default = \"Not present\")"
   ]
  },
  {
   "cell_type": "code",
   "execution_count": 25,
   "metadata": {},
   "outputs": [
    {
     "data": {
      "text/plain": [
       "'Not present'"
      ]
     },
     "execution_count": 25,
     "metadata": {},
     "output_type": "execute_result"
    }
   ],
   "source": [
    "## if not present\n",
    "\n",
    "pokemon.get(key=[ \"Hoopaaaaa\"] , default=\"Not present\")\n"
   ]
  },
  {
   "cell_type": "code",
   "execution_count": 26,
   "metadata": {},
   "outputs": [
    {
     "data": {
      "text/plain": [
       "Pokemon\n",
       "Abra     Psychic\n",
       "Hoopa    Psychic\n",
       "Name: Type, dtype: object"
      ]
     },
     "execution_count": 26,
     "metadata": {},
     "output_type": "execute_result"
    }
   ],
   "source": [
    "### list of pokemons present\n",
    "pokemon.get(key=[ \"Abra\", \"Hoopa\"] , default = \"Not present\")"
   ]
  },
  {
   "cell_type": "code",
   "execution_count": 28,
   "metadata": {},
   "outputs": [
    {
     "data": {
      "text/plain": [
       "Pokemon\n",
       "Abra      Psychic\n",
       "Hoopaa        NaN\n",
       "Name: Type, dtype: object"
      ]
     },
     "execution_count": 28,
     "metadata": {},
     "output_type": "execute_result"
    }
   ],
   "source": [
    "### list of pokemon some present some not\n",
    "pokemon.get(key=[ \"Abra\", \"Hoopaa\"] , default = \"Not present\")"
   ]
  },
  {
   "cell_type": "code",
   "execution_count": 30,
   "metadata": {},
   "outputs": [
    {
     "data": {
      "text/plain": [
       "'Not present'"
      ]
     },
     "execution_count": 30,
     "metadata": {},
     "output_type": "execute_result"
    }
   ],
   "source": [
    "### list of pokemon not present\n",
    "pokemon.get(key=[ \"Abraaa\", \"Hoopaa\"] , default = \"Not present\")"
   ]
  },
  {
   "cell_type": "code",
   "execution_count": null,
   "metadata": {},
   "outputs": [],
   "source": []
  }
 ],
 "metadata": {
  "kernelspec": {
   "display_name": "Python 3",
   "language": "python",
   "name": "python3"
  },
  "language_info": {
   "codemirror_mode": {
    "name": "ipython",
    "version": 3
   },
   "file_extension": ".py",
   "mimetype": "text/x-python",
   "name": "python",
   "nbconvert_exporter": "python",
   "pygments_lexer": "ipython3",
   "version": "3.7.4"
  }
 },
 "nbformat": 4,
 "nbformat_minor": 2
}
