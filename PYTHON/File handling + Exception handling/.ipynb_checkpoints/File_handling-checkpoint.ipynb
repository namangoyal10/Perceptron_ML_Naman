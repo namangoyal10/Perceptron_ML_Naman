{
 "cells": [
  {
   "cell_type": "code",
   "execution_count": 19,
   "metadata": {},
   "outputs": [
    {
     "name": "stdout",
     "output_type": "stream",
     "text": [
      "this is the basic or fundamental error. and is used in 2 cases\n",
      "1. we dont know exactly what type of error is it like value , name ,file not found\n",
      "like in nested if , else if ,else if , we use else at the end to sum up all the else similarly at the end we can this except to be sure\n"
     ]
    }
   ],
   "source": [
    "try :\n",
    "    a=10/0\n",
    "\n",
    "except :\n",
    "    print(\"this is the basic or fundamental error. and is used in 2 cases\")\n",
    "    print(\"1. we dont know exactly what type of error is it like value , name ,file not found\")\n",
    "    print(\"like in nested if , else if ,else if , we use else at the end to sum up all the else similarly at the end we can this except to be sure\")\n",
    "    "
   ]
  },
  {
   "cell_type": "code",
   "execution_count": 20,
   "metadata": {},
   "outputs": [
    {
     "name": "stdout",
     "output_type": "stream",
     "text": [
      " this is the most general error someone may encounter (maybe syntactical)1\n"
     ]
    }
   ],
   "source": [
    "try : \n",
    "     f = open1(\"RandomFile.txt\", \"r\")\n",
    "    \n",
    "except Exception :\n",
    "    print(\" this is the most general error someone may encounter (maybe syntactical)1\")"
   ]
  },
  {
   "cell_type": "code",
   "execution_count": 16,
   "metadata": {},
   "outputs": [
    {
     "name": "stdout",
     "output_type": "stream",
     "text": [
      " file was not present\n"
     ]
    }
   ],
   "source": [
    "try : \n",
    "    f = open(\"RandomFile.txt\", \"r\")\n",
    "    \n",
    "except FileNotFoundError :\n",
    "    print(\" file was not present\")\n",
    "    "
   ]
  },
  {
   "cell_type": "code",
   "execution_count": 3,
   "metadata": {},
   "outputs": [
    {
     "name": "stdout",
     "output_type": "stream",
     "text": [
      " undefined names as variables\n"
     ]
    }
   ],
   "source": [
    "try : \n",
    "     a=b\n",
    "    \n",
    "except NameError :\n",
    "    print(\" undefined names as variables\")"
   ]
  },
  {
   "cell_type": "code",
   "execution_count": 4,
   "metadata": {},
   "outputs": [
    {
     "name": "stdout",
     "output_type": "stream",
     "text": [
      "Please enter a number: naman\n",
      "Oops!  That was no valid number.  Try again...\n"
     ]
    }
   ],
   "source": [
    "try:\n",
    "    x = int(input(\"Please enter a number: \"))\n",
    "\n",
    "except ValueError:\n",
    "         print(\"Oops!  That was no valid number.  Try again...\")\n",
    "\n",
    "else :\n",
    "    print(x)"
   ]
  },
  {
   "cell_type": "code",
   "execution_count": 9,
   "metadata": {},
   "outputs": [
    {
     "name": "stdout",
     "output_type": "stream",
     "text": [
      "enter name :nmaan\n",
      "please enter a name > 5 places\n",
      "naman\n",
      "please enter a name > 5 places\n",
      "namangoyal\n"
     ]
    }
   ],
   "source": [
    "try:\n",
    "    str=input(\"enter name :\")\n",
    "    if(len(str) <= 5):\n",
    "        raise Exception\n",
    "        \n",
    "except Exception:\n",
    "    while(len(str) <=5 ):\n",
    "        print(\"please enter a name > 5 places\")\n",
    "        str=input()"
   ]
  },
  {
   "cell_type": "code",
   "execution_count": 12,
   "metadata": {},
   "outputs": [
    {
     "name": "stdout",
     "output_type": "stream",
     "text": [
      "something went wrong\n"
     ]
    }
   ],
   "source": [
    "try :\n",
    "    a=10/0\n",
    "    \n",
    "except Exception:\n",
    "    print(\"something went wrong\")"
   ]
  },
  {
   "cell_type": "code",
   "execution_count": null,
   "metadata": {},
   "outputs": [],
   "source": []
  },
  {
   "cell_type": "code",
   "execution_count": 17,
   "metadata": {},
   "outputs": [],
   "source": [
    "## Py supports multiple except and types\n",
    "## the general except : is always declared at the end"
   ]
  },
  {
   "cell_type": "code",
   "execution_count": null,
   "metadata": {},
   "outputs": [],
   "source": []
  },
  {
   "cell_type": "code",
   "execution_count": 22,
   "metadata": {},
   "outputs": [
    {
     "name": "stdout",
     "output_type": "stream",
     "text": [
      "this is logical error \n",
      "ye to hamesha chalega\n"
     ]
    }
   ],
   "source": [
    "try :\n",
    "    a= 10/0\n",
    "    a=a*b\n",
    "    f = open (\"readMeFile\",\"r\")\n",
    "    name=input(\"Enter the name\")\n",
    "    \n",
    "except Exception:\n",
    "    print(\"this is logical error \")\n",
    "    \n",
    "except FileNotFoundError:\n",
    "    print(\"file doesnt exist\")\n",
    "    \n",
    "except ValueError:\n",
    "    print(\"name is not vaid\")\n",
    "    \n",
    "except :\n",
    "    print(\"oops something went wrong ! Aw snap\")\n",
    "    \n",
    "else :\n",
    "    print( \" executed successfuluy\")\n",
    "    \n",
    "finally:\n",
    "    print(\"ye to hamesha chalega\")"
   ]
  },
  {
   "cell_type": "code",
   "execution_count": null,
   "metadata": {},
   "outputs": [],
   "source": []
  }
 ],
 "metadata": {
  "kernelspec": {
   "display_name": "Python 3",
   "language": "python",
   "name": "python3"
  },
  "language_info": {
   "codemirror_mode": {
    "name": "ipython",
    "version": 3
   },
   "file_extension": ".py",
   "mimetype": "text/x-python",
   "name": "python",
   "nbconvert_exporter": "python",
   "pygments_lexer": "ipython3",
   "version": "3.7.4"
  }
 },
 "nbformat": 4,
 "nbformat_minor": 2
}
