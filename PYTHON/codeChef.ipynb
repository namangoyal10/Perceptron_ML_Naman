{
 "cells": [
  {
   "cell_type": "code",
   "execution_count": 83,
   "metadata": {},
   "outputs": [],
   "source": [
    "import numpy as np"
   ]
  },
  {
   "cell_type": "code",
   "execution_count": 84,
   "metadata": {},
   "outputs": [
    {
     "name": "stdout",
     "output_type": "stream",
     "text": [
      "3 4\n"
     ]
    }
   ],
   "source": [
    "p = [int(x) for x in input().split()]"
   ]
  },
  {
   "cell_type": "code",
   "execution_count": 85,
   "metadata": {},
   "outputs": [
    {
     "name": "stdout",
     "output_type": "stream",
     "text": [
      "1 2 3\n",
      "1 2 3 4\n"
     ]
    }
   ],
   "source": [
    "x = [int(x) for x in input().split()]\n",
    "y = [int(x) for x in input().split()]\n",
    "\n"
   ]
  },
  {
   "cell_type": "code",
   "execution_count": 6,
   "metadata": {},
   "outputs": [
    {
     "name": "stdout",
     "output_type": "stream",
     "text": [
      "[[ 0  0]\n",
      " [ 3  0]\n",
      " [-4  0]] [[0 2]\n",
      " [0 3]]\n"
     ]
    }
   ],
   "source": [
    "x = np.array(x)\n",
    "y = np.array(y)\n",
    "x=np.reshape(x , (x.shape[0],1))\n",
    "y=np.reshape(y , (y.shape[0],1))\n",
    "\n",
    "x1 = np.zeros_like(x)\n",
    "y1 = np.zeros_like(y)\n",
    "\n",
    "x = np.concatenate((x,x1) , axis = 1 )\n",
    "y = np.concatenate((y1,y) , axis = 1 )\n",
    "\n",
    "print(x,y)"
   ]
  },
  {
   "cell_type": "code",
   "execution_count": 7,
   "metadata": {},
   "outputs": [],
   "source": [
    "x1 = np.repeat(x , x.shape[0] ,axis = 0)\n",
    "x2 = list(x)\n",
    "x2 = np.array(x2*x.shape[0])\n"
   ]
  },
  {
   "cell_type": "code",
   "execution_count": 8,
   "metadata": {},
   "outputs": [
    {
     "data": {
      "text/plain": [
       "array([[ 0,  0,  0,  0],\n",
       "       [ 0,  0,  3,  0],\n",
       "       [ 0,  0, -4,  0],\n",
       "       [ 3,  0,  0,  0],\n",
       "       [ 3,  0,  3,  0],\n",
       "       [ 3,  0, -4,  0],\n",
       "       [-4,  0,  0,  0],\n",
       "       [-4,  0,  3,  0],\n",
       "       [-4,  0, -4,  0]])"
      ]
     },
     "execution_count": 8,
     "metadata": {},
     "output_type": "execute_result"
    }
   ],
   "source": [
    "X =np.concatenate((x1,x2) , axis = 1)\n",
    "n= X.shape[0]\n",
    "X"
   ]
  },
  {
   "cell_type": "code",
   "execution_count": 9,
   "metadata": {},
   "outputs": [
    {
     "data": {
      "text/plain": [
       "array([[ 0,  0,  0,  0],\n",
       "       [ 0,  0,  0,  0],\n",
       "       [ 0,  0,  3,  0],\n",
       "       [ 0,  0,  3,  0],\n",
       "       [ 0,  0, -4,  0],\n",
       "       [ 0,  0, -4,  0],\n",
       "       [ 3,  0,  0,  0],\n",
       "       [ 3,  0,  0,  0],\n",
       "       [ 3,  0,  3,  0],\n",
       "       [ 3,  0,  3,  0],\n",
       "       [ 3,  0, -4,  0],\n",
       "       [ 3,  0, -4,  0],\n",
       "       [-4,  0,  0,  0],\n",
       "       [-4,  0,  0,  0],\n",
       "       [-4,  0,  3,  0],\n",
       "       [-4,  0,  3,  0],\n",
       "       [-4,  0, -4,  0],\n",
       "       [-4,  0, -4,  0]])"
      ]
     },
     "execution_count": 9,
     "metadata": {},
     "output_type": "execute_result"
    }
   ],
   "source": [
    "X = np.repeat(X , y.shape[0] ,axis=0)\n",
    "X"
   ]
  },
  {
   "cell_type": "code",
   "execution_count": 10,
   "metadata": {},
   "outputs": [
    {
     "data": {
      "text/plain": [
       "array([[0, 2],\n",
       "       [0, 3],\n",
       "       [0, 2],\n",
       "       [0, 3],\n",
       "       [0, 2],\n",
       "       [0, 3],\n",
       "       [0, 2],\n",
       "       [0, 3],\n",
       "       [0, 2],\n",
       "       [0, 3],\n",
       "       [0, 2],\n",
       "       [0, 3],\n",
       "       [0, 2],\n",
       "       [0, 3],\n",
       "       [0, 2],\n",
       "       [0, 3],\n",
       "       [0, 2],\n",
       "       [0, 3]])"
      ]
     },
     "execution_count": 10,
     "metadata": {},
     "output_type": "execute_result"
    }
   ],
   "source": [
    "y1 = list(y)*n\n",
    "y1 = np.array(y1)\n",
    "y1"
   ]
  },
  {
   "cell_type": "code",
   "execution_count": 11,
   "metadata": {},
   "outputs": [
    {
     "data": {
      "text/plain": [
       "array([[ 0,  0,  0,  0,  0,  2],\n",
       "       [ 0,  0,  0,  0,  0,  3],\n",
       "       [ 0,  0,  3,  0,  0,  2],\n",
       "       [ 0,  0,  3,  0,  0,  3],\n",
       "       [ 0,  0, -4,  0,  0,  2],\n",
       "       [ 0,  0, -4,  0,  0,  3],\n",
       "       [ 3,  0,  0,  0,  0,  2],\n",
       "       [ 3,  0,  0,  0,  0,  3],\n",
       "       [ 3,  0,  3,  0,  0,  2],\n",
       "       [ 3,  0,  3,  0,  0,  3],\n",
       "       [ 3,  0, -4,  0,  0,  2],\n",
       "       [ 3,  0, -4,  0,  0,  3],\n",
       "       [-4,  0,  0,  0,  0,  2],\n",
       "       [-4,  0,  0,  0,  0,  3],\n",
       "       [-4,  0,  3,  0,  0,  2],\n",
       "       [-4,  0,  3,  0,  0,  3],\n",
       "       [-4,  0, -4,  0,  0,  2],\n",
       "       [-4,  0, -4,  0,  0,  3]])"
      ]
     },
     "execution_count": 11,
     "metadata": {},
     "output_type": "execute_result"
    }
   ],
   "source": [
    "X = np.concatenate((X,y1),axis =1)\n",
    "X"
   ]
  },
  {
   "cell_type": "code",
   "execution_count": 12,
   "metadata": {},
   "outputs": [],
   "source": [
    "def givemeans(p1,p2,p3):\n",
    "    s1 = ((p1-p2)**2).sum() + ((p2-p3)**2).sum() - ((p1-p3)**2).sum()\n",
    "    s2 = ((p2-p3)**2).sum() + ((p3-p1)**2).sum() - ((p1-p2)**2).sum()\n",
    "    s3 = ((p3-p1)**2).sum() + ((p1-p2)**2).sum() - ((p2-p3)**2).sum()\n",
    "    \n",
    "    if s1==0 or s2==0 or s3==0:\n",
    "        return 1\n",
    "    \n",
    "    else:\n",
    "        return 0"
   ]
  },
  {
   "cell_type": "code",
   "execution_count": 13,
   "metadata": {},
   "outputs": [
    {
     "name": "stdout",
     "output_type": "stream",
     "text": [
      "[0 0] [3 0] [0 2]\n",
      "[0 0] [3 0] [0 3]\n",
      "[0 0] [-4  0] [0 2]\n",
      "[0 0] [-4  0] [0 3]\n",
      "[3 0] [0 0] [0 2]\n",
      "[3 0] [0 0] [0 3]\n",
      "[3 0] [-4  0] [0 2]\n",
      "[3 0] [-4  0] [0 3]\n",
      "[-4  0] [0 0] [0 2]\n",
      "[-4  0] [0 0] [0 3]\n",
      "[-4  0] [3 0] [0 2]\n",
      "[-4  0] [3 0] [0 3]\n"
     ]
    }
   ],
   "source": [
    "j=0\n",
    "k= len(X)\n",
    "for i in X:\n",
    "    \n",
    "    \n",
    "    p1 = np.array([ i[0] , i[1] ])\n",
    "    p2 = np.array([ i[2] , i[3] ])\n",
    "    p3 = np.array([ i[4] , i[5] ])\n",
    "    \n",
    "    if p1[0]==p2[0] and p1[1]==p2[1]:\n",
    "        continue\n",
    "    print(p1,p2,p3)\n",
    "    j=j+1\n",
    "    #print(givemeans(p1,p2,p3) )"
   ]
  },
  {
   "cell_type": "code",
   "execution_count": 86,
   "metadata": {},
   "outputs": [],
   "source": [
    "lx = []\n",
    "for i in range(p[0]):\n",
    "    for j in range(i+1,p[0]):\n",
    "        lx.append( np.array( [(x[i],0 ,x[j],0)] ) ) \n",
    "    "
   ]
  },
  {
   "cell_type": "code",
   "execution_count": 87,
   "metadata": {},
   "outputs": [
    {
     "data": {
      "text/plain": [
       "[array([[1, 0, 2, 0]]), array([[1, 0, 3, 0]]), array([[2, 0, 3, 0]])]"
      ]
     },
     "execution_count": 87,
     "metadata": {},
     "output_type": "execute_result"
    }
   ],
   "source": [
    "lx"
   ]
  },
  {
   "cell_type": "code",
   "execution_count": 88,
   "metadata": {},
   "outputs": [
    {
     "data": {
      "text/plain": [
       "array([[[1, 0, 2, 0]],\n",
       "\n",
       "       [[1, 0, 3, 0]],\n",
       "\n",
       "       [[2, 0, 3, 0]]])"
      ]
     },
     "execution_count": 88,
     "metadata": {},
     "output_type": "execute_result"
    }
   ],
   "source": [
    "lx = np.array(lx)\n",
    "lx"
   ]
  },
  {
   "cell_type": "code",
   "execution_count": 89,
   "metadata": {},
   "outputs": [
    {
     "data": {
      "text/plain": [
       "array([[1, 0, 2, 0],\n",
       "       [1, 0, 3, 0],\n",
       "       [2, 0, 3, 0]])"
      ]
     },
     "execution_count": 89,
     "metadata": {},
     "output_type": "execute_result"
    }
   ],
   "source": [
    "lx = np.concatenate(lx , axis=0)\n",
    "lx"
   ]
  },
  {
   "cell_type": "code",
   "execution_count": 90,
   "metadata": {},
   "outputs": [
    {
     "data": {
      "text/plain": [
       "array([[1, 0, 2, 0],\n",
       "       [1, 0, 2, 0],\n",
       "       [1, 0, 2, 0],\n",
       "       [1, 0, 2, 0],\n",
       "       [1, 0, 3, 0],\n",
       "       [1, 0, 3, 0],\n",
       "       [1, 0, 3, 0],\n",
       "       [1, 0, 3, 0],\n",
       "       [2, 0, 3, 0],\n",
       "       [2, 0, 3, 0],\n",
       "       [2, 0, 3, 0],\n",
       "       [2, 0, 3, 0]])"
      ]
     },
     "execution_count": 90,
     "metadata": {},
     "output_type": "execute_result"
    }
   ],
   "source": [
    "lx = lx.repeat(len(y) ,axis=0)\n",
    "lx"
   ]
  },
  {
   "cell_type": "code",
   "execution_count": 91,
   "metadata": {},
   "outputs": [
    {
     "data": {
      "text/plain": [
       "array([[0, 1],\n",
       "       [0, 2],\n",
       "       [0, 3],\n",
       "       [0, 4],\n",
       "       [0, 1],\n",
       "       [0, 2],\n",
       "       [0, 3],\n",
       "       [0, 4],\n",
       "       [0, 1],\n",
       "       [0, 2],\n",
       "       [0, 3],\n",
       "       [0, 4]])"
      ]
     },
     "execution_count": 91,
     "metadata": {},
     "output_type": "execute_result"
    }
   ],
   "source": [
    "y1 = y*len(x)\n",
    "ly = np.array(y1)\n",
    "ly =np.reshape(ly , (ly.shape[0],1))\n",
    "ly1 = np.zeros_like(y1)\n",
    "ly1 =np.reshape(ly1 , (ly1.shape[0],1))\n",
    "ly = np.concatenate((ly1,ly) , axis = 1)\n",
    "ly"
   ]
  },
  {
   "cell_type": "code",
   "execution_count": 92,
   "metadata": {},
   "outputs": [
    {
     "data": {
      "text/plain": [
       "array([[1, 0, 2, 0, 0, 1],\n",
       "       [1, 0, 2, 0, 0, 2],\n",
       "       [1, 0, 2, 0, 0, 3],\n",
       "       [1, 0, 2, 0, 0, 4],\n",
       "       [1, 0, 3, 0, 0, 1],\n",
       "       [1, 0, 3, 0, 0, 2],\n",
       "       [1, 0, 3, 0, 0, 3],\n",
       "       [1, 0, 3, 0, 0, 4],\n",
       "       [2, 0, 3, 0, 0, 1],\n",
       "       [2, 0, 3, 0, 0, 2],\n",
       "       [2, 0, 3, 0, 0, 3],\n",
       "       [2, 0, 3, 0, 0, 4]])"
      ]
     },
     "execution_count": 92,
     "metadata": {},
     "output_type": "execute_result"
    }
   ],
   "source": [
    "X = np.concatenate((lx,ly), axis=1)\n",
    "X"
   ]
  },
  {
   "cell_type": "code",
   "execution_count": 93,
   "metadata": {},
   "outputs": [
    {
     "name": "stdout",
     "output_type": "stream",
     "text": [
      "[1 0] [2 0] [0 1]\n",
      "0\n",
      "[1 0] [2 0] [0 2]\n",
      "0\n",
      "[1 0] [2 0] [0 3]\n",
      "0\n",
      "[1 0] [2 0] [0 4]\n",
      "0\n",
      "[1 0] [3 0] [0 1]\n",
      "0\n",
      "[1 0] [3 0] [0 2]\n",
      "0\n",
      "[1 0] [3 0] [0 3]\n",
      "0\n",
      "[1 0] [3 0] [0 4]\n",
      "0\n",
      "[2 0] [3 0] [0 1]\n",
      "0\n",
      "[2 0] [3 0] [0 2]\n",
      "0\n",
      "[2 0] [3 0] [0 3]\n",
      "0\n",
      "[2 0] [3 0] [0 4]\n",
      "0\n"
     ]
    }
   ],
   "source": [
    "for i in X:\n",
    "    \n",
    "    \n",
    "    p1 = np.array([ i[0] , i[1] ])\n",
    "    p2 = np.array([ i[2] , i[3] ])\n",
    "    p3 = np.array([ i[4] , i[5] ])\n",
    "    \n",
    "    if p1[0]==p2[0] and p1[1]==p2[1]:\n",
    "        continue\n",
    "    print(p1,p2,p3)\n",
    "    print(givemeans(p1,p2,p3))"
   ]
  },
  {
   "cell_type": "code",
   "execution_count": null,
   "metadata": {},
   "outputs": [],
   "source": []
  }
 ],
 "metadata": {
  "kernelspec": {
   "display_name": "Python 3",
   "language": "python",
   "name": "python3"
  },
  "language_info": {
   "codemirror_mode": {
    "name": "ipython",
    "version": 3
   },
   "file_extension": ".py",
   "mimetype": "text/x-python",
   "name": "python",
   "nbconvert_exporter": "python",
   "pygments_lexer": "ipython3",
   "version": "3.7.4"
  }
 },
 "nbformat": 4,
 "nbformat_minor": 2
}
