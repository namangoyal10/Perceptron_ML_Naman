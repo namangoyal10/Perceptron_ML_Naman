{
 "cells": [
  {
   "cell_type": "code",
   "execution_count": 21,
   "metadata": {},
   "outputs": [
    {
     "name": "stdout",
     "output_type": "stream",
     "text": [
      "banana\n",
      "Stuart 12\n"
     ]
    }
   ],
   "source": [
    "t=tuple(('a','e','i','o','u'))\n",
    "c=0; v=0\n",
    "str=input()\n",
    "for i in range (len(str)):\n",
    "    for j in range(i,len(str)):\n",
    "        ##print(str[i : j+1])\n",
    "        str1=str[i : j+1]\n",
    "        if len(str1)>0 and str1[0] in t:\n",
    "            v=v+1\n",
    "        else:\n",
    "            c+=1\n",
    "if(c>v):\n",
    "    print(\"Stuart {}\".format(c))\n",
    "else:\n",
    "    print(\"Kevin {}\".format(v))"
   ]
  },
  {
   "cell_type": "code",
   "execution_count": null,
   "metadata": {},
   "outputs": [],
   "source": []
  }
 ],
 "metadata": {
  "kernelspec": {
   "display_name": "Python 3",
   "language": "python",
   "name": "python3"
  },
  "language_info": {
   "codemirror_mode": {
    "name": "ipython",
    "version": 3
   },
   "file_extension": ".py",
   "mimetype": "text/x-python",
   "name": "python",
   "nbconvert_exporter": "python",
   "pygments_lexer": "ipython3",
   "version": "3.7.4"
  }
 },
 "nbformat": 4,
 "nbformat_minor": 2
}
