{
 "cells": [
  {
   "cell_type": "code",
   "execution_count": 53,
   "metadata": {},
   "outputs": [],
   "source": [
    "### Declaring AND Calling  a private func\n",
    "class dog():\n",
    "    def __init__(self):\n",
    "        \"\"\" this is a portfolio of a dog\"\"\"\n",
    "        self.name=\"\"\n",
    "        self.age=0\n",
    "    \n",
    "    \n",
    "    \n",
    "    def __privFunc(self):\n",
    "        print(self.name)\n",
    "    \n",
    "    def nonprivFunc(self):\n",
    "        print(self.age)\n",
    "        \n",
    "    def getPriv(self):\n",
    "        self.nonprivFunc()\n",
    "        ##self.privFunc()\n",
    "        self.__privFunc()\n",
    "        \n",
    "\n",
    "        \n",
    "    \n",
    "    def setName(self,name):\n",
    "        self.name=name\n",
    "    \n",
    "    def setAge(self,age):\n",
    "        self.age=age\n",
    "        \n",
    "    def getName(self):\n",
    "        print(self.name)\n",
    "    \n",
    "    def getAge(self):\n",
    "        print(self.age)\n",
    "        "
   ]
  },
  {
   "cell_type": "code",
   "execution_count": 54,
   "metadata": {},
   "outputs": [
    {
     "name": "stdout",
     "output_type": "stream",
     "text": [
      "puppy\n",
      "29\n"
     ]
    }
   ],
   "source": [
    "d1=dog()\n",
    "d1.setName(\"puppy\")\n",
    "d1.setAge(29)\n",
    "d1.getName()\n",
    "d1.getAge()\n"
   ]
  },
  {
   "cell_type": "code",
   "execution_count": null,
   "metadata": {},
   "outputs": [],
   "source": []
  },
  {
   "cell_type": "code",
   "execution_count": 55,
   "metadata": {},
   "outputs": [],
   "source": [
    "###d1.privFunc()"
   ]
  },
  {
   "cell_type": "code",
   "execution_count": 56,
   "metadata": {},
   "outputs": [
    {
     "name": "stdout",
     "output_type": "stream",
     "text": [
      "29\n"
     ]
    }
   ],
   "source": [
    "d1.nonprivFunc()"
   ]
  },
  {
   "cell_type": "code",
   "execution_count": null,
   "metadata": {},
   "outputs": [],
   "source": []
  },
  {
   "cell_type": "code",
   "execution_count": 57,
   "metadata": {},
   "outputs": [
    {
     "name": "stdout",
     "output_type": "stream",
     "text": [
      "29\n",
      "puppy\n"
     ]
    }
   ],
   "source": [
    "d1.getPriv()"
   ]
  },
  {
   "cell_type": "code",
   "execution_count": null,
   "metadata": {},
   "outputs": [],
   "source": []
  },
  {
   "cell_type": "code",
   "execution_count": null,
   "metadata": {},
   "outputs": [],
   "source": []
  }
 ],
 "metadata": {
  "kernelspec": {
   "display_name": "Python 3",
   "language": "python",
   "name": "python3"
  },
  "language_info": {
   "codemirror_mode": {
    "name": "ipython",
    "version": 3
   },
   "file_extension": ".py",
   "mimetype": "text/x-python",
   "name": "python",
   "nbconvert_exporter": "python",
   "pygments_lexer": "ipython3",
   "version": "3.7.4"
  }
 },
 "nbformat": 4,
 "nbformat_minor": 2
}
