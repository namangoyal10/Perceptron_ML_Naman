{
 "cells": [
  {
   "cell_type": "code",
   "execution_count": 17,
   "metadata": {},
   "outputs": [],
   "source": [
    "class dog():\n",
    "    __color =\"brown\"\n",
    "    avtivity=[]\n",
    "    \n",
    "    def __init__(self):\n",
    "        self.name=\"\"\n",
    "        self.__age=0\n",
    "    \n",
    "    def setname(self,name):\n",
    "        self.name=name\n",
    "    def getname(self):\n",
    "        print(self.name)\n",
    "        \n",
    "    def setage(self,age):\n",
    "        self.__age=age\n",
    "    def getage(self,):\n",
    "        print(self.__age)"
   ]
  },
  {
   "cell_type": "code",
   "execution_count": 19,
   "metadata": {},
   "outputs": [
    {
     "name": "stdout",
     "output_type": "stream",
     "text": [
      "puppy\n",
      "28\n",
      "doggo\n",
      "200\n"
     ]
    }
   ],
   "source": [
    "d1=dog()\n",
    "d1.setname(\"puppy\")\n",
    "d1.setage(28)\n",
    "d1.getname()\n",
    "d1.getage()\n",
    "d1.name=\"doggo\"\n",
    "d1.getname()\n",
    "d1._dog__age=200\n",
    "d1.getage()"
   ]
  },
  {
   "cell_type": "code",
   "execution_count": null,
   "metadata": {},
   "outputs": [],
   "source": []
  }
 ],
 "metadata": {
  "kernelspec": {
   "display_name": "Python 3",
   "language": "python",
   "name": "python3"
  },
  "language_info": {
   "codemirror_mode": {
    "name": "ipython",
    "version": 3
   },
   "file_extension": ".py",
   "mimetype": "text/x-python",
   "name": "python",
   "nbconvert_exporter": "python",
   "pygments_lexer": "ipython3",
   "version": "3.7.4"
  }
 },
 "nbformat": 4,
 "nbformat_minor": 2
}
