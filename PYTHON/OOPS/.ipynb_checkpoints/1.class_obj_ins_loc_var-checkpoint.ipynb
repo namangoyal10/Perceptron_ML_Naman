{
 "cells": [
  {
   "cell_type": "code",
   "execution_count": 36,
   "metadata": {},
   "outputs": [],
   "source": [
    "class cb():\n",
    "    institute=\"coding blocks\"\n",
    "    batch=2017\n",
    "    \n",
    "    def __init__(self,pos):\n",
    "        self.name=\"\"\n",
    "        self.age=0\n",
    "        self.pos=pos\n",
    "    \n",
    "    def setName(self,name):\n",
    "        self.name=name\n",
    "    \n",
    "    def getName(self):\n",
    "        print(self.name)\n",
    "    \n",
    "    def setAge(self,age):\n",
    "        self.age=age\n",
    "        \n",
    "    \n",
    "    def getAge(self):\n",
    "        print(self.age)\n",
    "        print(self.batch)\n",
    "        print(cb.batch)\n",
    "        \n",
    "    def changemybatch(self,batch):\n",
    "        self.batch=batch\n",
    "    \n",
    "    def changebatch(self,batch):\n",
    "        cb.batch=batch"
   ]
  },
  {
   "cell_type": "code",
   "execution_count": 37,
   "metadata": {},
   "outputs": [
    {
     "name": "stdout",
     "output_type": "stream",
     "text": [
      "naman\n",
      "20\n",
      "2017\n",
      "2017\n"
     ]
    }
   ],
   "source": [
    "c1=cb(2)\n",
    "c1.setName(\"naman\")\n",
    "c1.setAge(20)\n",
    "c1.getName()\n",
    "c1.getAge()"
   ]
  },
  {
   "cell_type": "code",
   "execution_count": 42,
   "metadata": {},
   "outputs": [
    {
     "name": "stdout",
     "output_type": "stream",
     "text": [
      "<class '__main__.cb'>\n",
      "<class 'type'>\n"
     ]
    }
   ],
   "source": [
    "print(type(c1))\n",
    "print(type(cb))"
   ]
  },
  {
   "cell_type": "code",
   "execution_count": 43,
   "metadata": {},
   "outputs": [
    {
     "name": "stdout",
     "output_type": "stream",
     "text": [
      "2019\n",
      "2020\n"
     ]
    }
   ],
   "source": [
    "\n",
    "c1.changemybatch(2019)\n",
    "print(c1.batch)\n",
    "print(cb.batch)"
   ]
  },
  {
   "cell_type": "code",
   "execution_count": 44,
   "metadata": {},
   "outputs": [
    {
     "name": "stdout",
     "output_type": "stream",
     "text": [
      "2020\n",
      "2020\n"
     ]
    }
   ],
   "source": [
    "c2=cb(\"teacher\")\n",
    "c2.changebatch(2020)\n",
    "print(c2.batch)\n",
    "print(cb.batch)"
   ]
  },
  {
   "cell_type": "code",
   "execution_count": null,
   "metadata": {},
   "outputs": [],
   "source": []
  }
 ],
 "metadata": {
  "kernelspec": {
   "display_name": "Python 3",
   "language": "python",
   "name": "python3"
  },
  "language_info": {
   "codemirror_mode": {
    "name": "ipython",
    "version": 3
   },
   "file_extension": ".py",
   "mimetype": "text/x-python",
   "name": "python",
   "nbconvert_exporter": "python",
   "pygments_lexer": "ipython3",
   "version": "3.7.4"
  }
 },
 "nbformat": 4,
 "nbformat_minor": 2
}
