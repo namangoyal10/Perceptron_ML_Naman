{
 "cells": [
  {
   "cell_type": "code",
   "execution_count": 103,
   "metadata": {},
   "outputs": [],
   "source": [
    "class SchoolMember():\n",
    "    organization=\"VIS\"\n",
    "    \n",
    "    def __init__(self,name,age):\n",
    "        \"\"\" this is a school member profile\"\"\"\n",
    "        self.name = name\n",
    "        self.age = age\n",
    "        print(\"School member registered\")\n",
    "    \n",
    "    def introduce(self):\n",
    "        print(\" MEMBER :\")\n",
    "        print(\"My name is {} of age {}\".format(self.name,self.age))\n",
    "        \n",
    "    def timepass(self):\n",
    "        print(\"testing\")\n",
    "        \n",
    "    def timepass1(self):\n",
    "        self.timepass()\n",
    "        \n",
    "    def _priv(self):\n",
    "        print(\"this is parent class priv funct\")"
   ]
  },
  {
   "cell_type": "code",
   "execution_count": 104,
   "metadata": {},
   "outputs": [],
   "source": [
    "SchoolMember?\n",
    "### use of triple quotes"
   ]
  },
  {
   "cell_type": "code",
   "execution_count": 105,
   "metadata": {},
   "outputs": [],
   "source": [
    "class SchoolTeacher(SchoolMember):\n",
    "    def __init__(self,name,age,salary):\n",
    "        \"\"\"this is a school teacher profile\"\"\"\n",
    "        SchoolMember.__init__(self,name,age)\n",
    "        self.salary=salary\n",
    "        print(\"School teacher registered\")\n",
    "    \n",
    "    def introduce(self):\n",
    "        ##overloading\n",
    "        print(\" Teacher :\")\n",
    "        SchoolMember.introduce(self)\n",
    "        print(\"Salaray : {}\"  .format(self.salary))\n",
    "        \n",
    "        "
   ]
  },
  {
   "cell_type": "code",
   "execution_count": 111,
   "metadata": {},
   "outputs": [],
   "source": [
    "class SchoolStudent(SchoolMember):\n",
    "    def __init__(self,name,age,rollno):\n",
    "        \"\"\"this is a school student profile\"\"\"\n",
    "        SchoolMember.__init__(self,name,age)\n",
    "        self.rollno=rollno\n",
    "        print(\"School student registered\")\n",
    "    \n",
    "    def introduce(self):\n",
    "        ##example of overriding\n",
    "        print(\" Student :\")\n",
    "        SchoolMember.introduce(self)\n",
    "        SchoolMember.timepass(self)\n",
    "        print(\"rollno : {}\"  .format(self.rollno))\n",
    "        "
   ]
  },
  {
   "cell_type": "code",
   "execution_count": null,
   "metadata": {},
   "outputs": [],
   "source": []
  },
  {
   "cell_type": "code",
   "execution_count": 112,
   "metadata": {},
   "outputs": [
    {
     "name": "stdout",
     "output_type": "stream",
     "text": [
      "School member registered\n",
      "School member registered\n",
      "School teacher registered\n",
      "School member registered\n",
      "School student registered\n"
     ]
    }
   ],
   "source": [
    "sm=SchoolMember(\"amir khan\",50)\n",
    "st=SchoolTeacher(\"salman \",  22, 100000000)\n",
    "ss=SchoolStudent(\"vicky kaushal\",18,89 )"
   ]
  },
  {
   "cell_type": "code",
   "execution_count": null,
   "metadata": {},
   "outputs": [],
   "source": []
  },
  {
   "cell_type": "code",
   "execution_count": 113,
   "metadata": {},
   "outputs": [
    {
     "name": "stdout",
     "output_type": "stream",
     "text": [
      " MEMBER :\n",
      "My name is amir khan of age 50\n"
     ]
    }
   ],
   "source": [
    "sm.introduce()\n"
   ]
  },
  {
   "cell_type": "code",
   "execution_count": 114,
   "metadata": {},
   "outputs": [
    {
     "name": "stdout",
     "output_type": "stream",
     "text": [
      " Teacher :\n",
      " MEMBER :\n",
      "My name is salman  of age 22\n",
      "Salaray : 100000000\n"
     ]
    }
   ],
   "source": [
    "st.introduce()"
   ]
  },
  {
   "cell_type": "code",
   "execution_count": 115,
   "metadata": {},
   "outputs": [
    {
     "name": "stdout",
     "output_type": "stream",
     "text": [
      " Student :\n",
      " MEMBER :\n",
      "My name is vicky kaushal of age 18\n",
      "testing\n",
      "rollno : 89\n"
     ]
    }
   ],
   "source": [
    "ss.introduce()"
   ]
  },
  {
   "cell_type": "code",
   "execution_count": null,
   "metadata": {},
   "outputs": [],
   "source": []
  },
  {
   "cell_type": "code",
   "execution_count": 116,
   "metadata": {},
   "outputs": [
    {
     "name": "stdout",
     "output_type": "stream",
     "text": [
      "testing\n"
     ]
    }
   ],
   "source": [
    "sm.timepass1()"
   ]
  },
  {
   "cell_type": "code",
   "execution_count": 117,
   "metadata": {},
   "outputs": [
    {
     "name": "stdout",
     "output_type": "stream",
     "text": [
      "VIS\n"
     ]
    }
   ],
   "source": [
    "print(ss.organization)"
   ]
  },
  {
   "cell_type": "code",
   "execution_count": null,
   "metadata": {},
   "outputs": [],
   "source": []
  }
 ],
 "metadata": {
  "kernelspec": {
   "display_name": "Python 3",
   "language": "python",
   "name": "python3"
  },
  "language_info": {
   "codemirror_mode": {
    "name": "ipython",
    "version": 3
   },
   "file_extension": ".py",
   "mimetype": "text/x-python",
   "name": "python",
   "nbconvert_exporter": "python",
   "pygments_lexer": "ipython3",
   "version": "3.7.4"
  }
 },
 "nbformat": 4,
 "nbformat_minor": 2
}
