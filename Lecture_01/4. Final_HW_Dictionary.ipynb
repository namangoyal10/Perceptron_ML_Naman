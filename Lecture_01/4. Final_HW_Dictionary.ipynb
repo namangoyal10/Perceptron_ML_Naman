{
 "cells": [
  {
   "cell_type": "markdown",
   "metadata": {},
   "source": [
    "# Dictionary\n",
    "-  keys() , values()\n",
    "- icu = items , clear ,update \n",
    "- get\n",
    "- zip\n",
    "- membership(only for keys), len , iteration"
   ]
  },
  {
   "cell_type": "code",
   "execution_count": 1,
   "metadata": {},
   "outputs": [
    {
     "name": "stdout",
     "output_type": "stream",
     "text": [
      "{'name': 'coding', 'age': 21, 'married': False} <class 'dict'>\n"
     ]
    }
   ],
   "source": [
    "d=dict({\"name\":\"coding\" , \"age\":21 , \"married\":False })\n",
    "print(d,type(d))"
   ]
  },
  {
   "cell_type": "code",
   "execution_count": 2,
   "metadata": {},
   "outputs": [
    {
     "name": "stdout",
     "output_type": "stream",
     "text": [
      "['name', 'age', 'married']\n",
      "['coding', 21, False]\n"
     ]
    }
   ],
   "source": [
    "l1=list(d.keys())\n",
    "l2=list(d.values())\n",
    "print(l1)\n",
    "print(l2)"
   ]
  },
  {
   "cell_type": "code",
   "execution_count": 3,
   "metadata": {},
   "outputs": [
    {
     "name": "stdout",
     "output_type": "stream",
     "text": [
      "3 3\n"
     ]
    }
   ],
   "source": [
    "print(len(d),len(l1))"
   ]
  },
  {
   "cell_type": "code",
   "execution_count": null,
   "metadata": {},
   "outputs": [],
   "source": []
  },
  {
   "cell_type": "code",
   "execution_count": 4,
   "metadata": {},
   "outputs": [
    {
     "name": "stdout",
     "output_type": "stream",
     "text": [
      "[('name', 'coding'), ('age', 21), ('married', False)]\n",
      "('name', 'coding') <class 'tuple'>\n"
     ]
    }
   ],
   "source": [
    "l3=list(d.items())\n",
    "print(l3)\n",
    "print(l3[0],type(l3[0]))"
   ]
  },
  {
   "cell_type": "code",
   "execution_count": 5,
   "metadata": {},
   "outputs": [
    {
     "name": "stdout",
     "output_type": "stream",
     "text": [
      "{} []\n"
     ]
    }
   ],
   "source": [
    "l4=list(l3)\n",
    "d1=dict(d)\n",
    "d1.clear()\n",
    "l4.clear()\n",
    "print(d1,l4)"
   ]
  },
  {
   "cell_type": "code",
   "execution_count": 6,
   "metadata": {},
   "outputs": [
    {
     "name": "stdout",
     "output_type": "stream",
     "text": [
      "{'name': 'coding', 'age': 21, 'married': False, 'car': 'ferrari'}\n"
     ]
    }
   ],
   "source": [
    "d1={\"car\" : \"ferrari\"}\n",
    "d.update(d1)\n",
    "print(d)"
   ]
  },
  {
   "cell_type": "code",
   "execution_count": null,
   "metadata": {},
   "outputs": [],
   "source": []
  },
  {
   "cell_type": "code",
   "execution_count": 7,
   "metadata": {},
   "outputs": [
    {
     "name": "stdout",
     "output_type": "stream",
     "text": [
      "coding\n",
      "None\n"
     ]
    }
   ],
   "source": [
    "print(d.get(\"name\"))\n",
    "print(d.get(\"adress\"))"
   ]
  },
  {
   "cell_type": "code",
   "execution_count": null,
   "metadata": {},
   "outputs": [],
   "source": []
  },
  {
   "cell_type": "code",
   "execution_count": 8,
   "metadata": {},
   "outputs": [
    {
     "name": "stdout",
     "output_type": "stream",
     "text": [
      "['name', 'age', 'married'] ['coding', 21, False]\n",
      "{'name': 'coding', 'age': 21, 'married': False}\n"
     ]
    }
   ],
   "source": [
    "print(l1,l2)\n",
    "d2=dict(zip(l1,l2))\n",
    "print(d2)"
   ]
  },
  {
   "cell_type": "code",
   "execution_count": null,
   "metadata": {},
   "outputs": [],
   "source": []
  },
  {
   "cell_type": "code",
   "execution_count": 9,
   "metadata": {},
   "outputs": [
    {
     "name": "stdout",
     "output_type": "stream",
     "text": [
      "name : coding\n",
      "age : 21\n",
      "married : False\n",
      "car : ferrari\n",
      "\n",
      "coding\n",
      "21\n",
      "False\n",
      "ferrari\n",
      "\n",
      "name : coding\n",
      "age : 21\n",
      "married : False\n",
      "car : ferrari\n"
     ]
    }
   ],
   "source": [
    "for i in d:\n",
    "    print(i,d[i] , sep=\" : \")\n",
    "print()\n",
    "for i in d.values():\n",
    "    print(i)\n",
    "print()\n",
    "for i in d.keys():\n",
    "    print(i,d[i] , sep=\" : \")"
   ]
  },
  {
   "cell_type": "code",
   "execution_count": null,
   "metadata": {},
   "outputs": [],
   "source": []
  },
  {
   "cell_type": "code",
   "execution_count": 10,
   "metadata": {},
   "outputs": [
    {
     "name": "stdout",
     "output_type": "stream",
     "text": [
      "Yes\n"
     ]
    }
   ],
   "source": [
    "if \"name\" in d:\n",
    "    print(\"Yes\")\n",
    "else:\n",
    "    print(\"No\")"
   ]
  },
  {
   "cell_type": "code",
   "execution_count": null,
   "metadata": {},
   "outputs": [],
   "source": []
  }
 ],
 "metadata": {
  "kernelspec": {
   "display_name": "Python 3",
   "language": "python",
   "name": "python3"
  },
  "language_info": {
   "codemirror_mode": {
    "name": "ipython",
    "version": 3
   },
   "file_extension": ".py",
   "mimetype": "text/x-python",
   "name": "python",
   "nbconvert_exporter": "python",
   "pygments_lexer": "ipython3",
   "version": "3.7.4"
  }
 },
 "nbformat": 4,
 "nbformat_minor": 2
}
