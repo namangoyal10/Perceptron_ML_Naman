{
 "cells": [
  {
   "cell_type": "markdown",
   "metadata": {},
   "source": [
    "# Strings 1.0\n",
    "\n",
    "- Standard input\n",
    "- typecasting + base\n",
    "- iteration  + \\0\n",
    "- len() \n",
    "- immutable \n",
    "- concatinate\n",
    "- formatting + end sep\n",
    "- multiplicity membership\n",
    "- slicing\n",
    "- split()\n",
    "- string comprehension"
   ]
  },
  {
   "cell_type": "code",
   "execution_count": 1,
   "metadata": {},
   "outputs": [
    {
     "name": "stdout",
     "output_type": "stream",
     "text": [
      "enter the content of string Butterfly\n",
      "Butterfly <class 'str'>\n"
     ]
    }
   ],
   "source": [
    "s=input(\"enter the content of string \")\n",
    "print(s,type(s))"
   ]
  },
  {
   "cell_type": "code",
   "execution_count": 3,
   "metadata": {},
   "outputs": [
    {
     "name": "stdout",
     "output_type": "stream",
     "text": [
      "1001 <class 'int'>\n",
      "1001.0 <class 'float'>\n",
      "9\n",
      "513\n"
     ]
    }
   ],
   "source": [
    "s1=\"1001\"\n",
    "\n",
    "s2=int(s1)\n",
    "print(s2,type(s2))\n",
    "\n",
    "s2=float(s1)\n",
    "print(s2,type(s2))\n",
    "\n",
    "s2=int(s1,2)\n",
    "print(s2)\n",
    "\n",
    "s2=int(s1,8)\n",
    "print(s2)"
   ]
  },
  {
   "cell_type": "code",
   "execution_count": 8,
   "metadata": {},
   "outputs": [
    {
     "name": "stdout",
     "output_type": "stream",
     "text": [
      "coding\n",
      "coding"
     ]
    }
   ],
   "source": [
    "s3=\"coding\"\n",
    "## print(s3[6]) not defined as there is no \\0 in a string in python\n",
    "\n",
    "for i in s3:\n",
    "    print(i, end=\"\")\n",
    "print()\n",
    "for i in range (len(s3)):\n",
    "    print(s3[i] , end=\"\")"
   ]
  },
  {
   "cell_type": "code",
   "execution_count": 14,
   "metadata": {},
   "outputs": [
    {
     "name": "stdout",
     "output_type": "stream",
     "text": [
      "6\n"
     ]
    }
   ],
   "source": [
    "print(len(s3))"
   ]
  },
  {
   "cell_type": "code",
   "execution_count": 16,
   "metadata": {},
   "outputs": [
    {
     "name": "stdout",
     "output_type": "stream",
     "text": [
      "ootd\n"
     ]
    }
   ],
   "source": [
    "## s3[0]=\"o\" it is not poss as string is immutable\n",
    "s3=\"ootd\"\n",
    "print(s3)\n",
    "#overwriting is allowed"
   ]
  },
  {
   "cell_type": "code",
   "execution_count": 19,
   "metadata": {},
   "outputs": [
    {
     "name": "stdout",
     "output_type": "stream",
     "text": [
      "Coding Blocks\n",
      "CodingBlocks\n",
      "CodingBlocks\n"
     ]
    }
   ],
   "source": [
    "s1=\"Coding\"\n",
    "s2=\"Blocks\"\n",
    "print(s1,s2)\n",
    "print(s1+s2)\n",
    "\n",
    "s3=s1+s2\n",
    "print(s3)"
   ]
  },
  {
   "cell_type": "code",
   "execution_count": 33,
   "metadata": {},
   "outputs": [
    {
     "name": "stdout",
     "output_type": "stream",
     "text": [
      " my name is : Naman and age is : 20 and marrital status : False \n",
      " my name is : <class 'str'> and age is : <class 'int'> and marrital status : <class 'bool'> \n",
      "Naman-- --20-- --False :D "
     ]
    }
   ],
   "source": [
    "name= \"Naman\"\n",
    "age=20\n",
    "married= False\n",
    "\n",
    "print(\" my name is : {} and age is : {} and marrital status : {} \" .format(name,age,married))\n",
    "print(\" my name is : {} and age is : {} and marrital status : {} \" .format(type(name),type(age),type(married)))\n",
    "\n",
    "print(name,age,married, sep=\"-- --\" , end =\" :D \")"
   ]
  },
  {
   "cell_type": "code",
   "execution_count": 42,
   "metadata": {},
   "outputs": [
    {
     "name": "stdout",
     "output_type": "stream",
     "text": [
      "     *\n",
      "    **\n",
      "   ***\n",
      "  ****\n",
      " *****\n",
      "******\n",
      "Membership found\n"
     ]
    }
   ],
   "source": [
    "for i in range (1,7):\n",
    "    print(\" \"*(6-i),end=\"\")\n",
    "    print(\"*\"*i )\n",
    "\n",
    "if \"ing\" in \"codingblocks\":\n",
    "    print(\"Membership found\")\n",
    "else:\n",
    "    print(\"Membership not found\")"
   ]
  },
  {
   "cell_type": "code",
   "execution_count": 40,
   "metadata": {},
   "outputs": [
    {
     "name": "stdout",
     "output_type": "stream",
     "text": [
      "coding\n",
      "ing\n",
      "codi\n",
      "odi\n"
     ]
    }
   ],
   "source": [
    "## stringSlicing : si : ei+1\n",
    "## listSlicing : si :ei\n",
    "\n",
    "s=\"coding\"\n",
    "print(s[:])\n",
    "print(s[3:])\n",
    "print(s[:4])\n",
    "print(s[1:4])\n",
    "\n",
    "## 1. coding\n",
    "## 2. ing\n",
    "## 3. codi\n",
    "## 3. odi\n"
   ]
  },
  {
   "cell_type": "code",
   "execution_count": 41,
   "metadata": {},
   "outputs": [
    {
     "name": "stdout",
     "output_type": "stream",
     "text": [
      "['this', 'is', 'my', 'string']\n"
     ]
    }
   ],
   "source": [
    "s4=\"this is my string\"\n",
    "l=list(s4.split())\n",
    "print(l)"
   ]
  },
  {
   "cell_type": "code",
   "execution_count": 43,
   "metadata": {},
   "outputs": [
    {
     "name": "stdout",
     "output_type": "stream",
     "text": [
      "this is coding in python\n",
      "['this', 'is', 'coding', 'in', 'python']\n",
      "['this', 'is', 'coding', 'in', 'python']\n"
     ]
    }
   ],
   "source": [
    "## String comprehension\n",
    "\n",
    "s=input().split()\n",
    "\n",
    "## 1 input = string and converted into a list of strings -> i can copy the contents in two ways\n",
    "\n",
    "s1=s\n",
    "s2= [nn for nn in s]\n",
    "## meine ek string banai->list mein split kara -> fir usse iterate karte hue copy karra\n",
    "print(s1)\n",
    "print(s2)\n"
   ]
  },
  {
   "cell_type": "code",
   "execution_count": 46,
   "metadata": {},
   "outputs": [
    {
     "name": "stdout",
     "output_type": "stream",
     "text": [
      "12 23 1 43 13 523\n",
      "[12, 23, 1, 43, 13, 523] <class 'int'>\n"
     ]
    }
   ],
   "source": [
    "s=input().split()\n",
    "\n",
    "## 2 input = string and converted into a list of strings -> i can copy the contents in another string and typecaste it \n",
    "#simultaneosly\n",
    "## meine ek string banai ->list mein split kara-> fir usse iterate karte hue typecast+copy karra\n",
    "s1= [int(nn) for nn in s]\n",
    "print(s1 , type (s1[0]))\n",
    "\n"
   ]
  },
  {
   "cell_type": "code",
   "execution_count": 49,
   "metadata": {},
   "outputs": [
    {
     "name": "stdout",
     "output_type": "stream",
     "text": [
      "this is coding in python\n",
      "['this', 'is', 'coding', 'in', 'python']\n"
     ]
    }
   ],
   "source": [
    "l1=[i for i in  input().split()]\n",
    "## while entering data of a string it's simultaneously getting added to list \n",
    "\n",
    "print(l1)"
   ]
  },
  {
   "cell_type": "code",
   "execution_count": 50,
   "metadata": {},
   "outputs": [
    {
     "name": "stdout",
     "output_type": "stream",
     "text": [
      "12 3421  52 124 52\n",
      "[12, 3421, 52, 124, 52]\n"
     ]
    }
   ],
   "source": [
    "l1=[int(i) for i in  input().split()]\n",
    "## while entering data of a string it's simultaneously getting added to list and being typecasted as well\n",
    "\n",
    "print(l1)"
   ]
  },
  {
   "cell_type": "code",
   "execution_count": null,
   "metadata": {},
   "outputs": [],
   "source": []
  }
 ],
 "metadata": {
  "kernelspec": {
   "display_name": "Python 3",
   "language": "python",
   "name": "python3"
  },
  "language_info": {
   "codemirror_mode": {
    "name": "ipython",
    "version": 3
   },
   "file_extension": ".py",
   "mimetype": "text/x-python",
   "name": "python",
   "nbconvert_exporter": "python",
   "pygments_lexer": "ipython3",
   "version": "3.7.4"
  }
 },
 "nbformat": 4,
 "nbformat_minor": 2
}
