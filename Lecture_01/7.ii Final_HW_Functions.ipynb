{
 "cells": [
  {
   "cell_type": "markdown",
   "metadata": {},
   "source": [
    "### Part 1 CONTINUED .."
   ]
  },
  {
   "cell_type": "code",
   "execution_count": null,
   "metadata": {},
   "outputs": [],
   "source": [
    "## till now from 7.i we know that def fun(a,b,c,d=1) abc should be kept at first and and d should be kept at end\n",
    "## abc= required positional arguments and d=default argument"
   ]
  },
  {
   "cell_type": "code",
   "execution_count": 4,
   "metadata": {},
   "outputs": [
    {
     "name": "stdout",
     "output_type": "stream",
     "text": [
      "10 20 30 20 160\n",
      "10 20 30 20 150\n"
     ]
    }
   ],
   "source": [
    "def myfunct(a,b,c,age=20,height=150):\n",
    "    print(a,b,c,age,height)\n",
    "\n",
    "myfunct(10,20,30,height=160)\n",
    "myfunct(10,20,30)"
   ]
  },
  {
   "cell_type": "markdown",
   "metadata": {},
   "source": [
    "# Best possible order of arrangement of parameters in a function :\n",
    "## (a,b,c, *args, d=10, e=2, **kwargs)"
   ]
  },
  {
   "cell_type": "markdown",
   "metadata": {},
   "source": [
    "# Packing of an argument in a tuple : args\n"
   ]
  },
  {
   "cell_type": "code",
   "execution_count": 20,
   "metadata": {},
   "outputs": [],
   "source": [
    "def myfunction1(a,b,c=10, *args,random=0):\n",
    "    print(a,type(a))\n",
    "    print(b,type(b))\n",
    "    print(c,type(c))\n",
    "    print(args,type(args))\n"
   ]
  },
  {
   "cell_type": "code",
   "execution_count": 21,
   "metadata": {},
   "outputs": [
    {
     "name": "stdout",
     "output_type": "stream",
     "text": [
      "10 <class 'int'>\n",
      "name <class 'str'>\n",
      "10 <class 'int'>\n",
      "() <class 'tuple'>\n"
     ]
    }
   ],
   "source": [
    "myfunction1(10 ,\"name\")"
   ]
  },
  {
   "cell_type": "code",
   "execution_count": 22,
   "metadata": {},
   "outputs": [
    {
     "name": "stdout",
     "output_type": "stream",
     "text": [
      "10 <class 'int'>\n",
      "name <class 'str'>\n",
      "20 <class 'int'>\n",
      "() <class 'tuple'>\n"
     ]
    }
   ],
   "source": [
    "myfunction1(10 ,\"name\",20)"
   ]
  },
  {
   "cell_type": "code",
   "execution_count": 23,
   "metadata": {},
   "outputs": [
    {
     "name": "stdout",
     "output_type": "stream",
     "text": [
      "10 <class 'int'>\n",
      "name <class 'str'>\n",
      "20 <class 'int'>\n",
      "(True, 20, 2.34, (3+4j), 'python') <class 'tuple'>\n"
     ]
    }
   ],
   "source": [
    "myfunction1(10 ,\"name\",20 , True,20,2.34,3+4j,\"python\")"
   ]
  },
  {
   "cell_type": "code",
   "execution_count": 24,
   "metadata": {},
   "outputs": [
    {
     "name": "stdout",
     "output_type": "stream",
     "text": [
      "10 <class 'int'>\n",
      "name <class 'str'>\n",
      "20 <class 'int'>\n",
      "(True, 20, 2.34, (3+4j), 'python') <class 'tuple'>\n"
     ]
    }
   ],
   "source": [
    "myfunction1(10 ,\"name\",20 , True,20,2.34,3+4j,\"python\" , random=0)"
   ]
  },
  {
   "cell_type": "code",
   "execution_count": null,
   "metadata": {},
   "outputs": [],
   "source": []
  },
  {
   "cell_type": "markdown",
   "metadata": {},
   "source": [
    "##  Packing of argument in tuple as well as dictionary : args + kwargs"
   ]
  },
  {
   "cell_type": "code",
   "execution_count": 29,
   "metadata": {},
   "outputs": [],
   "source": [
    "##best ordering \n",
    "def myfunction1(a,b,*args,d=3,e=10,**kwargs):\n",
    "    print(a,type(a))\n",
    "    print(b,type(b))\n",
    "    print(args,type(args))\n",
    "    print(d,type(d))\n",
    "    print(e,type(e))\n",
    "    print(kwargs,type(kwargs))\n",
    "    "
   ]
  },
  {
   "cell_type": "code",
   "execution_count": 31,
   "metadata": {},
   "outputs": [
    {
     "name": "stdout",
     "output_type": "stream",
     "text": [
      "2 <class 'int'>\n",
      "3 <class 'int'>\n",
      "() <class 'tuple'>\n",
      "3 <class 'int'>\n",
      "10 <class 'int'>\n",
      "{} <class 'dict'>\n"
     ]
    }
   ],
   "source": [
    "myfunction1(2,3)\n",
    "## This means that min 2 inputs are required"
   ]
  },
  {
   "cell_type": "code",
   "execution_count": 33,
   "metadata": {},
   "outputs": [
    {
     "name": "stdout",
     "output_type": "stream",
     "text": [
      "2 <class 'int'>\n",
      "3 <class 'int'>\n",
      "(True, 1.1, 100) <class 'tuple'>\n",
      "3 <class 'int'>\n",
      "10 <class 'int'>\n",
      "{} <class 'dict'>\n"
     ]
    }
   ],
   "source": [
    "myfunction1(2,3,True,1.1,100)\n",
    "## all the values being entered after the second value will be stored in a tuple"
   ]
  },
  {
   "cell_type": "code",
   "execution_count": 35,
   "metadata": {},
   "outputs": [
    {
     "name": "stdout",
     "output_type": "stream",
     "text": [
      "2 <class 'int'>\n",
      "3 <class 'int'>\n",
      "(True, 1.1, 100) <class 'tuple'>\n",
      "3 <class 'int'>\n",
      "30 <class 'int'>\n",
      "{} <class 'dict'>\n"
     ]
    }
   ],
   "source": [
    "myfunction1(2,3,  True,1.1,100  , e=30)\n",
    "## how to update default arguments"
   ]
  },
  {
   "cell_type": "code",
   "execution_count": 42,
   "metadata": {},
   "outputs": [
    {
     "name": "stdout",
     "output_type": "stream",
     "text": [
      "2 <class 'int'>\n",
      "3 <class 'int'>\n",
      "(True, 1.1, 100) <class 'tuple'>\n",
      "3 <class 'int'>\n",
      "10 <class 'int'>\n",
      "{'name': 'Coding', 'age': 20, 'Study': True} <class 'dict'>\n"
     ]
    }
   ],
   "source": [
    "myfunction1(2,3,  True,1.1,100,name=\"Coding\",age=20 ,Study=True)\n",
    "## **kwargs stores values in the form of dictionary values"
   ]
  },
  {
   "cell_type": "code",
   "execution_count": null,
   "metadata": {},
   "outputs": [],
   "source": []
  }
 ],
 "metadata": {
  "kernelspec": {
   "display_name": "Python 3",
   "language": "python",
   "name": "python3"
  },
  "language_info": {
   "codemirror_mode": {
    "name": "ipython",
    "version": 3
   },
   "file_extension": ".py",
   "mimetype": "text/x-python",
   "name": "python",
   "nbconvert_exporter": "python",
   "pygments_lexer": "ipython3",
   "version": "3.7.4"
  }
 },
 "nbformat": 4,
 "nbformat_minor": 2
}
