{
 "cells": [
  {
   "cell_type": "markdown",
   "metadata": {},
   "source": [
    "## Part - 2\n",
    "\n",
    "## Scope of a variable"
   ]
  },
  {
   "cell_type": "code",
   "execution_count": 1,
   "metadata": {},
   "outputs": [
    {
     "name": "stdout",
     "output_type": "stream",
     "text": [
      "4\n"
     ]
    }
   ],
   "source": [
    "## complete local scope \n",
    "\n",
    "def myfunc1():\n",
    "    x=2\n",
    "    x+=2\n",
    "    print(x)\n",
    "\n",
    "myfunc1()\n",
    "## print(x) local scope"
   ]
  },
  {
   "cell_type": "code",
   "execution_count": 8,
   "metadata": {},
   "outputs": [
    {
     "name": "stdout",
     "output_type": "stream",
     "text": [
      "101\n",
      "10\n"
     ]
    }
   ],
   "source": [
    "## global-local scope\n",
    "## y must be defined inside the myfunct block this is the concept of global-local scope\n",
    "y=10\n",
    "def myfunct2():\n",
    "    y=99\n",
    "    y+=2\n",
    "    print(y)\n",
    "\n",
    "myfunct2()\n",
    "print(y)"
   ]
  },
  {
   "cell_type": "code",
   "execution_count": 4,
   "metadata": {},
   "outputs": [
    {
     "name": "stdout",
     "output_type": "stream",
     "text": [
      "4\n",
      "15\n"
     ]
    }
   ],
   "source": [
    "## complete global access\n",
    "global z\n",
    "z=15\n",
    "def myfunct3():\n",
    "    print(z)\n",
    "\n",
    "myfunct2()\n",
    "print(z)"
   ]
  },
  {
   "cell_type": "code",
   "execution_count": null,
   "metadata": {},
   "outputs": [],
   "source": []
  }
 ],
 "metadata": {
  "kernelspec": {
   "display_name": "Python 3",
   "language": "python",
   "name": "python3"
  },
  "language_info": {
   "codemirror_mode": {
    "name": "ipython",
    "version": 3
   },
   "file_extension": ".py",
   "mimetype": "text/x-python",
   "name": "python",
   "nbconvert_exporter": "python",
   "pygments_lexer": "ipython3",
   "version": "3.7.4"
  }
 },
 "nbformat": 4,
 "nbformat_minor": 2
}
