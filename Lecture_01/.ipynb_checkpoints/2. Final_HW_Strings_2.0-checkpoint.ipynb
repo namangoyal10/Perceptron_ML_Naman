{
 "cells": [
  {
   "cell_type": "markdown",
   "metadata": {},
   "source": [
    "# Strings 2.0\n",
    "- dhundho\n",
    "- gino\n",
    "- badlo\n",
    "- jodo\n",
    "- T&C"
   ]
  },
  {
   "cell_type": "code",
   "execution_count": 1,
   "metadata": {},
   "outputs": [],
   "source": [
    "s=\"we are coding and this is coding in python\"\n",
    "s1=\"mississippi\""
   ]
  },
  {
   "cell_type": "code",
   "execution_count": 5,
   "metadata": {},
   "outputs": [
    {
     "name": "stdout",
     "output_type": "stream",
     "text": [
      "0\n",
      "7\n",
      "26\n"
     ]
    }
   ],
   "source": [
    "print(s.find(\"we\"))\n",
    "print(s.find(\"coding\")) # gives the first incident only from left\n",
    "print(s.rfind(\"coding\")) # gives the first incident only from right"
   ]
  },
  {
   "cell_type": "code",
   "execution_count": 6,
   "metadata": {},
   "outputs": [
    {
     "name": "stdout",
     "output_type": "stream",
     "text": [
      "2\n",
      "4\n"
     ]
    }
   ],
   "source": [
    "print(s.count(\"coding\"))\n",
    "print(s1.count(\"s\"))"
   ]
  },
  {
   "cell_type": "code",
   "execution_count": 8,
   "metadata": {},
   "outputs": [
    {
     "name": "stdout",
     "output_type": "stream",
     "text": [
      "we are working and this is working in python\n"
     ]
    }
   ],
   "source": [
    "s=s.replace(\"coding\" , \"working\")\n",
    "print(s)"
   ]
  },
  {
   "cell_type": "code",
   "execution_count": 9,
   "metadata": {},
   "outputs": [
    {
     "name": "stdout",
     "output_type": "stream",
     "text": [
      "['we', 'are', 'working', 'and', 'this', 'is', 'working', 'in', 'python']\n",
      "we-are-working-and-this-is-working-in-python\n"
     ]
    }
   ],
   "source": [
    "l=list(s.split())\n",
    "print(l)\n",
    "s2=\"-\".join(l)\n",
    "print(s2)"
   ]
  },
  {
   "cell_type": "code",
   "execution_count": 10,
   "metadata": {},
   "outputs": [
    {
     "name": "stdout",
     "output_type": "stream",
     "text": [
      "We Are Working And This Is Working In Python\n",
      "We are working and this is working in python\n"
     ]
    }
   ],
   "source": [
    "print(s.title())\n",
    "print(s.capitalize())"
   ]
  },
  {
   "cell_type": "code",
   "execution_count": null,
   "metadata": {},
   "outputs": [],
   "source": []
  }
 ],
 "metadata": {
  "kernelspec": {
   "display_name": "Python 3",
   "language": "python",
   "name": "python3"
  },
  "language_info": {
   "codemirror_mode": {
    "name": "ipython",
    "version": 3
   },
   "file_extension": ".py",
   "mimetype": "text/x-python",
   "name": "python",
   "nbconvert_exporter": "python",
   "pygments_lexer": "ipython3",
   "version": "3.7.4"
  }
 },
 "nbformat": 4,
 "nbformat_minor": 2
}
