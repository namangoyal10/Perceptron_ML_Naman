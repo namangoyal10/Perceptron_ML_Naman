{
 "cells": [
  {
   "cell_type": "markdown",
   "metadata": {},
   "source": [
    "## PART = 1"
   ]
  },
  {
   "cell_type": "code",
   "execution_count": 2,
   "metadata": {},
   "outputs": [
    {
     "name": "stdout",
     "output_type": "stream",
     "text": [
      "Hello I am in my first function\n",
      "[10, 20, 30] <class 'list'>\n"
     ]
    }
   ],
   "source": [
    "# Simple function and return type\n",
    "\n",
    "def givemeans():\n",
    "    print(\"Hello I am in my first function\")\n",
    "    \n",
    "    return [10,20,30]\n",
    "\n",
    "g=givemeans()\n",
    "print(g,type(g))"
   ]
  },
  {
   "cell_type": "code",
   "execution_count": 7,
   "metadata": {},
   "outputs": [
    {
     "name": "stdout",
     "output_type": "stream",
     "text": [
      "Hello I am in my second function\n",
      "My name is Naman and age is 21\n",
      "(100, 200) <class 'tuple'>\n"
     ]
    }
   ],
   "source": [
    "## Simple function and a return type with arguments\n",
    "\n",
    "def givemeans(name,age):\n",
    "        print(\"Hello I am in my second function\")\n",
    "        print(\"My name is {} and age is {}\" .format(name,age))\n",
    "    \n",
    "        return (100,200)\n",
    "\n",
    "g=givemeans(\"Naman\" , 21)\n",
    "print(g,type(g))"
   ]
  },
  {
   "cell_type": "code",
   "execution_count": 21,
   "metadata": {},
   "outputs": [
    {
     "name": "stdout",
     "output_type": "stream",
     "text": [
      "Hello I am in my third function\n",
      "My name is Naman and age is 20\n",
      "MACHINE LEARNING <class 'str'>\n",
      "\n",
      "Hello I am in my third function\n",
      "My name is Naman and age is 30\n",
      "MACHINE LEARNING <class 'str'>\n"
     ]
    }
   ],
   "source": [
    "## Simple functions with explicit values\n",
    "## ALWAYS EXPLICIT VALUES MUST BE KEPT AT THE END\n",
    "\n",
    "def myfunc(name,age=30):\n",
    "        print(\"Hello I am in my third function\")\n",
    "        print(\"My name is {} and age is {}\" .format(name,age))\n",
    "    \n",
    "        return \"MACHINE LEARNING\"\n",
    "\n",
    "g=myfunc(\"Naman\",20)\n",
    "print(g,type(g))\n",
    "\n",
    "print()\n",
    "\n",
    "f=myfunc(\"Naman\")\n",
    "print(f,type(f))"
   ]
  },
  {
   "cell_type": "code",
   "execution_count": 22,
   "metadata": {},
   "outputs": [
    {
     "name": "stdout",
     "output_type": "stream",
     "text": [
      "10 20 30\n",
      "10 20 30\n"
     ]
    }
   ],
   "source": [
    "## arguments positioning\n",
    "\n",
    "def myfunction(a,b,c):\n",
    "    print(a,b,c)\n",
    "\n",
    "myfunction(10,20,30)\n",
    "myfunction(b=20,a=10,c=30)"
   ]
  },
  {
   "cell_type": "code",
   "execution_count": null,
   "metadata": {},
   "outputs": [],
   "source": []
  }
 ],
 "metadata": {
  "kernelspec": {
   "display_name": "Python 3",
   "language": "python",
   "name": "python3"
  },
  "language_info": {
   "codemirror_mode": {
    "name": "ipython",
    "version": 3
   },
   "file_extension": ".py",
   "mimetype": "text/x-python",
   "name": "python",
   "nbconvert_exporter": "python",
   "pygments_lexer": "ipython3",
   "version": "3.7.4"
  }
 },
 "nbformat": 4,
 "nbformat_minor": 2
}
