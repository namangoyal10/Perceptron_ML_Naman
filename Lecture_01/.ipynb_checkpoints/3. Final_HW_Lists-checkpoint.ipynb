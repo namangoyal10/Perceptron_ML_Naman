{
 "cells": [
  {
   "cell_type": "markdown",
   "metadata": {},
   "source": [
    "# Lists \n",
    "- aei dpr , s^3 , m^3 , count , len\n",
    "- append,insert , extend\n",
    "- delete pop remove \n",
    "- sorting searching slicing\n",
    "- max min , membership , multiplicity\n",
    "- count , len"
   ]
  },
  {
   "cell_type": "code",
   "execution_count": 31,
   "metadata": {},
   "outputs": [
    {
     "name": "stdout",
     "output_type": "stream",
     "text": [
      "[20, 13, 3, 18, 32, 15, 176, 40, 13, 100]\n",
      "[20, 13, 3, 18, 32, 15, 176, 40, 13, 100, [7, 5]]\n",
      "[20, 13, 3, 18, 32, 15, 176, 40, 13, 100, [7, 5], (1, 2, 3)]\n",
      "[20, 13, 3, 18, 32, 15, 176, 40, 13, 100, 75, [7, 5], (1, 2, 3)]\n",
      "[[28, 12, 69], 20, 13, 3, 18, 32, 15, 176, 40, 13, 100, 75, [7, 5], (1, 2, 3)]\n",
      "[[28, 12, 69], 20, 13, 3, 18, 32, 15, 176, 40, 13, 100, 75, [7, 5], (1, 2, 3), 22, 44]\n"
     ]
    }
   ],
   "source": [
    "l1=list([20,13,3,18,32,15,176,40,13])\n",
    "l2=list([28,12,69])\n",
    "l3=list([7,5])\n",
    "t=tuple((1,2,3))\n",
    "l1.append(100)\n",
    "print(l1)\n",
    "\n",
    "l1.append(l3)\n",
    "print(l1)\n",
    "\n",
    "l1.append(t)\n",
    "print(l1)\n",
    "\n",
    "l1.insert(10,75)\n",
    "print(l1)\n",
    "\n",
    "l1.insert(0,l2)\n",
    "print(l1)\n",
    "\n",
    "l1.extend([22,44])\n",
    "##  only valid on a list \n",
    "print(l1)\n"
   ]
  },
  {
   "cell_type": "markdown",
   "metadata": {},
   "source": [
    "### append =  occupies only single (1) index position at the last and can add any object - int float string list tuple dictionary \n",
    "\n",
    "### insert  = it has the same functionality as append but firstly we have to specify index pos as well\n",
    "\n",
    "### extend =  it can add the elements of a list to a list elementwise thus it occupies multiple indexes as compared to apppend"
   ]
  },
  {
   "cell_type": "code",
   "execution_count": 32,
   "metadata": {},
   "outputs": [
    {
     "name": "stdout",
     "output_type": "stream",
     "text": [
      "[[28, 12, 69], 20, 13, 3, 18, 32, 15, 176, 40, 13, 100, 75, [7, 5], (1, 2, 3), 22, 44]\n"
     ]
    }
   ],
   "source": [
    "print(l1)"
   ]
  },
  {
   "cell_type": "code",
   "execution_count": 33,
   "metadata": {},
   "outputs": [
    {
     "name": "stdout",
     "output_type": "stream",
     "text": [
      "[[28, 12, 69], 20, 13, 18, 32, 15, 176, 40, 13, 100, 75, [7, 5], (1, 2, 3), 22, 44]\n",
      "[[28, 12, 69], 13, 18, 32, 15, 176, 40, 13, 100, 75, [7, 5], (1, 2, 3), 22]\n",
      "[[28, 12, 69], 18, 32, 15, 176, 40, 13, 100, 75, [7, 5], (1, 2, 3), 22]\n"
     ]
    }
   ],
   "source": [
    "del l1[3]\n",
    "print(l1)\n",
    "\n",
    "l1.pop()\n",
    "l1.pop(1)\n",
    "print(l1)\n",
    "\n",
    "l1.remove(13)\n",
    "print(l1)\n",
    "# removes the first 13 from left. will give an error if 13 is not there"
   ]
  },
  {
   "cell_type": "code",
   "execution_count": null,
   "metadata": {},
   "outputs": [],
   "source": []
  },
  {
   "cell_type": "code",
   "execution_count": null,
   "metadata": {},
   "outputs": [],
   "source": []
  },
  {
   "cell_type": "code",
   "execution_count": 38,
   "metadata": {},
   "outputs": [
    {
     "name": "stdout",
     "output_type": "stream",
     "text": [
      "3\n",
      "9\n",
      "1\n"
     ]
    }
   ],
   "source": [
    "#Searching\n",
    "print(l1.index(15))\n",
    "print(l1.index([7,5]))\n",
    "l1.append(18)\n",
    "print(l1.index(18))"
   ]
  },
  {
   "cell_type": "code",
   "execution_count": 55,
   "metadata": {},
   "outputs": [
    {
     "name": "stdout",
     "output_type": "stream",
     "text": [
      "[2, 4, 12, 22, 24, 33, 41, 92, 412]\n",
      "[2, 4, 12, 22, 24, 33, 41, 92, 412]\n"
     ]
    }
   ],
   "source": [
    "#Sorting\n",
    "\n",
    "l2=[33,12,41,92,412,4,24,22,2]\n",
    "l3=[i for i in l2]\n",
    "\n",
    "l3.sort()\n",
    "print(l3)\n",
    "\n",
    "l2=sorted(l2)\n",
    "print(l2)"
   ]
  },
  {
   "cell_type": "code",
   "execution_count": 68,
   "metadata": {},
   "outputs": [
    {
     "name": "stdout",
     "output_type": "stream",
     "text": [
      "[0, 1, 2, 3, 4, 5, 6, 7, 8, 9]\n",
      "[0, 1, 2, 3]\n",
      "[2, 3, 4, 5, 6, 7, 8, 9]\n",
      "[1, 2, 3, 4]\n",
      "[9, 8, 7, 6]\n",
      "[7, 6, 5, 4, 3, 2, 1, 0]\n",
      "[9, 8]\n"
     ]
    }
   ],
   "source": [
    "#Slicing = list slicing doesnt't includes ei\n",
    "l2=[0,1,2,3,4,5,6,7,8,9]\n",
    "print(l2[ : ])\n",
    "print(l2[ :4 ])  #2-22\n",
    "print(l2[ 2: ]) #12-412\n",
    "print(l2[ 1:5 ]) #4-24\n",
    "print(l2[ -1:-5 : -1 ]) \n",
    "print(l2[ -3: : -1 ])\n",
    "print(l2[ : -3 : -1 ])\n"
   ]
  },
  {
   "cell_type": "code",
   "execution_count": 69,
   "metadata": {},
   "outputs": [
    {
     "name": "stdout",
     "output_type": "stream",
     "text": [
      "[10, 20]\n",
      "Machi\n"
     ]
    }
   ],
   "source": [
    "a=[10,20,30,40,50,60]\n",
    "s=\"Machine learning\"\n",
    "\n",
    "print(a[0:2])\n",
    "print(s[0:5])"
   ]
  },
  {
   "cell_type": "code",
   "execution_count": 70,
   "metadata": {},
   "outputs": [
    {
     "name": "stdout",
     "output_type": "stream",
     "text": [
      "60 10\n",
      "[10, 20, 30, 40, 50, 60, 10, 20, 30, 40, 50, 60, 10, 20, 30, 40, 50, 60]\n",
      "yes\n"
     ]
    }
   ],
   "source": [
    "print(max(a) , min(a))\n",
    "a=a*3\n",
    "print(a)\n",
    "\n",
    "if 20 in a:\n",
    "    print(\"yes\")"
   ]
  },
  {
   "cell_type": "code",
   "execution_count": 72,
   "metadata": {},
   "outputs": [
    {
     "name": "stdout",
     "output_type": "stream",
     "text": [
      "18\n",
      "3\n"
     ]
    }
   ],
   "source": [
    "print(len(a))\n",
    "print(a.count(10))"
   ]
  },
  {
   "cell_type": "code",
   "execution_count": null,
   "metadata": {},
   "outputs": [],
   "source": []
  }
 ],
 "metadata": {
  "kernelspec": {
   "display_name": "Python 3",
   "language": "python",
   "name": "python3"
  },
  "language_info": {
   "codemirror_mode": {
    "name": "ipython",
    "version": 3
   },
   "file_extension": ".py",
   "mimetype": "text/x-python",
   "name": "python",
   "nbconvert_exporter": "python",
   "pygments_lexer": "ipython3",
   "version": "3.7.4"
  }
 },
 "nbformat": 4,
 "nbformat_minor": 2
}
