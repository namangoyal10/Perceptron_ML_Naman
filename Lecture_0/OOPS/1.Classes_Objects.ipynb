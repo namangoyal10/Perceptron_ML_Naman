{
 "cells": [
  {
   "cell_type": "markdown",
   "metadata": {},
   "source": [
    "## Note :\n",
    "### 1 .Whenever we def a function in a class we always have to pass the first parameter as self\n",
    "### 2 .When we call a function in from a class it we donot need to pass 'self' . It's passed automatically\n",
    "### 3 . ' self ' is playing of role of ' this ' in python \n",
    "### 4 .To access any function or any variable we need to use either self. or  className. ALWAYS\n",
    "### 5 . Use of triple quotes in any function is done by ?"
   ]
  },
  {
   "cell_type": "code",
   "execution_count": 52,
   "metadata": {},
   "outputs": [],
   "source": [
    "class course():\n",
    "    ## declare class variables\n",
    "    institute = \"coding blocks\"\n",
    "    year=2017\n",
    "    \n",
    "    ## constructor\n",
    "    def __init__(self , subject , teacher , salary , a ):\n",
    "        ## declaring and assigning instance variable\n",
    "        \"\"\" This is my constructor\"\"\"\n",
    "        self.subject= subject\n",
    "        self.teacher = teacher\n",
    "        self.salary = salary\n",
    "        self.age = a\n",
    "        self.homework=[]\n",
    "        print(\"WELCOME TO : \" , course.institute)\n",
    "    \n",
    "    ## functions\n",
    "    def get_instance_var(self):\n",
    "        ## to access any instance var , we need to use self. to specify it\n",
    "        print(self.subject, self.teacher , self.salary ,self.age , sep=\"-->\")\n",
    "\n",
    "    def get_class_var(self):\n",
    "        \"\"\" This is my function\"\"\"\n",
    "        print(\"USING .self :: \" , self.institute , self.year , sep=\"-->\")\n",
    "        print(\"WITHOUT USING .self :: \" , course.institute , self.year , sep=\"-->\")\n",
    "        \n",
    "    \n",
    "    \n",
    "    def setter(self,hw):\n",
    "        self.homework=hw\n",
    "    \n",
    "    def add_hw(self,task):\n",
    "        self.homework.append(task)\n",
    "        \n",
    "    def getter(self):\n",
    "        return self.homework"
   ]
  },
  {
   "cell_type": "code",
   "execution_count": 53,
   "metadata": {},
   "outputs": [
    {
     "name": "stdout",
     "output_type": "stream",
     "text": [
      "WELCOME TO :  coding blocks\n",
      "machine learning-->Rishabh sir-->200000-->30\n",
      "\n",
      "USING .self :: -->coding blocks-->2017\n",
      "WITHOUT USING .self :: -->coding blocks-->2017\n"
     ]
    }
   ],
   "source": [
    "## creating an object\n",
    "ml=course(\"machine learning\" , \"Rishabh sir\" ,200000 , 30)\n",
    "\n",
    "ml.get_instance_var()\n",
    "print()\n",
    "ml.get_class_var()"
   ]
  },
  {
   "cell_type": "code",
   "execution_count": 54,
   "metadata": {},
   "outputs": [
    {
     "name": "stdout",
     "output_type": "stream",
     "text": [
      "[]\n",
      "['knn', 'k-means', 'stats']\n",
      "['knn', 'k-means', 'stats', 'matplotlib']\n"
     ]
    }
   ],
   "source": [
    "print(ml.getter())\n",
    "\n",
    "ml.setter([\"knn\" , \"k-means\" , \"stats\"])\n",
    "print(ml.getter())\n",
    "\n",
    "ml.add_hw(\"matplotlib\")\n",
    "print(ml.getter())\n"
   ]
  },
  {
   "cell_type": "code",
   "execution_count": null,
   "metadata": {},
   "outputs": [],
   "source": []
  },
  {
   "cell_type": "code",
   "execution_count": 55,
   "metadata": {},
   "outputs": [],
   "source": [
    "course?"
   ]
  },
  {
   "cell_type": "code",
   "execution_count": 56,
   "metadata": {},
   "outputs": [],
   "source": [
    "course.get_class_var?"
   ]
  },
  {
   "cell_type": "code",
   "execution_count": 57,
   "metadata": {},
   "outputs": [],
   "source": [
    "ml.get_class_var?"
   ]
  },
  {
   "cell_type": "code",
   "execution_count": null,
   "metadata": {},
   "outputs": [],
   "source": []
  }
 ],
 "metadata": {
  "kernelspec": {
   "display_name": "Python 3",
   "language": "python",
   "name": "python3"
  },
  "language_info": {
   "codemirror_mode": {
    "name": "ipython",
    "version": 3
   },
   "file_extension": ".py",
   "mimetype": "text/x-python",
   "name": "python",
   "nbconvert_exporter": "python",
   "pygments_lexer": "ipython3",
   "version": "3.7.4"
  }
 },
 "nbformat": 4,
 "nbformat_minor": 2
}
