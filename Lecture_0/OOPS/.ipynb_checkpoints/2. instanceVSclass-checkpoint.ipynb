{
 "cells": [
  {
   "cell_type": "markdown",
   "metadata": {},
   "source": [
    "## Instance variable are variables for the objects out of the class and accessed using self.\n",
    "## class variables are assigned to the complete class and accessed using classname.\n",
    "## when class variables are accessed using self. then class variable's value changes for only that object not the entire class"
   ]
  },
  {
   "cell_type": "code",
   "execution_count": 1,
   "metadata": {},
   "outputs": [],
   "source": [
    "class cb():\n",
    "    institute=\"coding blocks\"\n",
    "    batch=2017\n",
    "    student_count=0\n",
    "    \n",
    "    def __init__(self):\n",
    "        self.name=\"\"\n",
    "        self.age=0\n",
    "        self.roll=cb.student_count +1\n",
    "        cb.student_count = cb.student_count +1 \n",
    "        print(\"Roll no : {} and student count : {}\" .format(self.roll , cb.student_count) )\n",
    "    \n",
    "    def setName(self,name):\n",
    "        self.name=name\n",
    "    \n",
    "    def getName(self):\n",
    "        print(self.name)\n",
    "    \n",
    "    def setAge(self,age):\n",
    "        self.age=age\n",
    "        \n",
    "    \n",
    "    def getAge(self):\n",
    "        print(self.age)\n",
    "        \n",
    "        \n",
    "    def changemybatch(self,batch):\n",
    "        self.batch=batch\n",
    "    \n",
    "    def changeAllBatch(self,batch):\n",
    "        cb.batch=batch"
   ]
  },
  {
   "cell_type": "code",
   "execution_count": 2,
   "metadata": {},
   "outputs": [
    {
     "name": "stdout",
     "output_type": "stream",
     "text": [
      "Roll no : 1 and student count : 1\n",
      "Naman\n",
      "20\n"
     ]
    }
   ],
   "source": [
    "s1=cb()\n",
    "\n",
    "s1.setName(\"Naman\")\n",
    "s1.setAge(20)\n",
    "\n",
    "s1.getName()\n",
    "s1.getAge()"
   ]
  },
  {
   "cell_type": "code",
   "execution_count": 3,
   "metadata": {},
   "outputs": [
    {
     "name": "stdout",
     "output_type": "stream",
     "text": [
      "Roll no : 2 and student count : 2\n",
      "2000\n",
      "2017\n"
     ]
    }
   ],
   "source": [
    "s2=cb()\n",
    "s2.changemybatch(2000)\n",
    "print(s2.batch)\n",
    "print(cb.batch)"
   ]
  },
  {
   "cell_type": "code",
   "execution_count": 4,
   "metadata": {},
   "outputs": [
    {
     "name": "stdout",
     "output_type": "stream",
     "text": [
      "Roll no : 3 and student count : 3\n",
      "2000\n",
      "2000\n"
     ]
    }
   ],
   "source": [
    "s3=cb()\n",
    "s2.changeAllBatch(2000)\n",
    "print(s3.batch)\n",
    "print(cb.batch)"
   ]
  },
  {
   "cell_type": "code",
   "execution_count": null,
   "metadata": {},
   "outputs": [],
   "source": []
  },
  {
   "cell_type": "code",
   "execution_count": null,
   "metadata": {},
   "outputs": [],
   "source": []
  }
 ],
 "metadata": {
  "kernelspec": {
   "display_name": "Python 3",
   "language": "python",
   "name": "python3"
  },
  "language_info": {
   "codemirror_mode": {
    "name": "ipython",
    "version": 3
   },
   "file_extension": ".py",
   "mimetype": "text/x-python",
   "name": "python",
   "nbconvert_exporter": "python",
   "pygments_lexer": "ipython3",
   "version": "3.7.4"
  }
 },
 "nbformat": 4,
 "nbformat_minor": 2
}
