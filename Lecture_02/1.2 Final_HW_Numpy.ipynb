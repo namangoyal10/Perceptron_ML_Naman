{
 "cells": [
  {
   "cell_type": "markdown",
   "metadata": {},
   "source": [
    "- accessing and changing data along a row or a column\n",
    "- transpose and reshape\n",
    "- stack the vectors to form a 2d-array\n",
    "- dot product\n",
    "- MaxMin , Mean , median , sd , variance , average\n",
    "- ndim"
   ]
  },
  {
   "cell_type": "code",
   "execution_count": 1,
   "metadata": {},
   "outputs": [],
   "source": [
    "import numpy as np"
   ]
  },
  {
   "cell_type": "markdown",
   "metadata": {},
   "source": [
    "# Part -2\n"
   ]
  },
  {
   "cell_type": "code",
   "execution_count": 2,
   "metadata": {},
   "outputs": [],
   "source": [
    "a=np.array([[1,2,3,4],[5,6,7,8],[9,10,11,12],[13,14,15,16]])\n",
    "b=np.array(a)"
   ]
  },
  {
   "cell_type": "code",
   "execution_count": null,
   "metadata": {},
   "outputs": [],
   "source": []
  },
  {
   "cell_type": "code",
   "execution_count": 3,
   "metadata": {},
   "outputs": [
    {
     "name": "stdout",
     "output_type": "stream",
     "text": [
      "[[ 1  2 20  4]\n",
      " [ 5 30 20 30]\n",
      " [ 9 10 20 12]\n",
      " [13 14 20 16]]\n"
     ]
    }
   ],
   "source": [
    "b[1 , 1: ]=30      # along a row \n",
    "b[ : , 2  ]=20     # along a column\n",
    "print(b)"
   ]
  },
  {
   "cell_type": "code",
   "execution_count": null,
   "metadata": {},
   "outputs": [],
   "source": []
  },
  {
   "cell_type": "code",
   "execution_count": 4,
   "metadata": {},
   "outputs": [
    {
     "name": "stdout",
     "output_type": "stream",
     "text": [
      "[[ 1  5  9 13]\n",
      " [ 2  6 10 14]\n",
      " [ 3  7 11 15]\n",
      " [ 4  8 12 16]]\n",
      "\n",
      "[[ 1  5  9 13  2  6 10 14]\n",
      " [ 3  7 11 15  4  8 12 16]] (2, 8) <class 'numpy.ndarray'>\n"
     ]
    }
   ],
   "source": [
    "c=a.transpose()\n",
    "print(c)\n",
    "\n",
    "print()\n",
    "## whenever we reshape it , consider all the elements to be store linearly \n",
    "\n",
    "d=c.reshape((2,8))\n",
    "print(d  , d.shape , type(d))"
   ]
  },
  {
   "cell_type": "code",
   "execution_count": null,
   "metadata": {},
   "outputs": [],
   "source": []
  },
  {
   "cell_type": "code",
   "execution_count": 5,
   "metadata": {},
   "outputs": [
    {
     "name": "stdout",
     "output_type": "stream",
     "text": [
      "[[ 10  20  30  40]\n",
      " [100 200 300 400]] (2, 4)\n",
      "\n",
      "[[ 10 100]\n",
      " [ 20 200]\n",
      " [ 30 300]\n",
      " [ 40 400]] (4, 2)\n",
      "\n",
      "[[ 10  20  30  40]\n",
      " [100 200 300 400]]\n"
     ]
    }
   ],
   "source": [
    "x=np.array([10,20,30,40])\n",
    "y=np.array([100,200,300,400])\n",
    "\n",
    "z1 = np.stack((x,y) , axis =0 )   # (2,4)\n",
    "z2 = np.stack((x,y) , axis =1 )   # (4,2)\n",
    "\n",
    "print(z1, z1.shape)\n",
    "print()\n",
    "print(z2 , z2.shape)\n",
    "\n",
    "## in order to reverse the axis = TRANSPOSE (simple)\n",
    "print()\n",
    "print(z2.transpose())"
   ]
  },
  {
   "cell_type": "code",
   "execution_count": null,
   "metadata": {},
   "outputs": [],
   "source": []
  },
  {
   "cell_type": "code",
   "execution_count": 6,
   "metadata": {},
   "outputs": [
    {
     "name": "stdout",
     "output_type": "stream",
     "text": [
      "30000\n",
      "[[140]\n",
      " [320]]\n"
     ]
    }
   ],
   "source": [
    "## dot product of two vectors of same length\n",
    "print(x.dot(y))\n",
    "\n",
    "## dot product of two 2d matrices = (2,3) . ( 3,4) = (2, 4) \n",
    "p=np.array([[1,2,3],[4,5,6]])\n",
    "q=np.array([[10],[20],[30]])\n",
    "print(np.dot(p,q))"
   ]
  },
  {
   "cell_type": "code",
   "execution_count": null,
   "metadata": {},
   "outputs": [],
   "source": []
  },
  {
   "cell_type": "code",
   "execution_count": 7,
   "metadata": {},
   "outputs": [
    {
     "name": "stdout",
     "output_type": "stream",
     "text": [
      "10.0\n",
      "18 2\n",
      "5.163977794943222\n"
     ]
    }
   ],
   "source": [
    "a=(np.arange(9)+1)*2\n",
    "print(a.mean())\n",
    "print(a.max(), a.min())\n",
    "print(a.std())\n"
   ]
  },
  {
   "cell_type": "code",
   "execution_count": 8,
   "metadata": {},
   "outputs": [
    {
     "name": "stdout",
     "output_type": "stream",
     "text": [
      "1\n"
     ]
    }
   ],
   "source": [
    "print(a.ndim)"
   ]
  },
  {
   "cell_type": "code",
   "execution_count": null,
   "metadata": {},
   "outputs": [],
   "source": []
  }
 ],
 "metadata": {
  "kernelspec": {
   "display_name": "Python 3",
   "language": "python",
   "name": "python3"
  },
  "language_info": {
   "codemirror_mode": {
    "name": "ipython",
    "version": 3
   },
   "file_extension": ".py",
   "mimetype": "text/x-python",
   "name": "python",
   "nbconvert_exporter": "python",
   "pygments_lexer": "ipython3",
   "version": "3.7.4"
  }
 },
 "nbformat": 4,
 "nbformat_minor": 2
}
