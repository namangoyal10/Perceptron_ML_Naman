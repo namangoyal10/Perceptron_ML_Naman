{
 "cells": [
  {
   "cell_type": "code",
   "execution_count": 2,
   "metadata": {},
   "outputs": [],
   "source": [
    "import numpy as np"
   ]
  },
  {
   "cell_type": "markdown",
   "metadata": {},
   "source": [
    "# Part -1"
   ]
  },
  {
   "cell_type": "code",
   "execution_count": null,
   "metadata": {},
   "outputs": [],
   "source": []
  },
  {
   "cell_type": "code",
   "execution_count": 3,
   "metadata": {},
   "outputs": [
    {
     "name": "stdout",
     "output_type": "stream",
     "text": [
      "[1 2 3 4 5 6 7 8 9 0] <class 'numpy.ndarray'> (10,) 10 10 1\n",
      "1 <class 'numpy.int32'>\n",
      "[1 2 3 4 5 6 7 8 9 0]\n",
      "[1 2 3]\n",
      "[3 4 5 6 7 8 9 0]\n",
      "[2 5]\n",
      "[2]\n",
      "[0 9]\n"
     ]
    }
   ],
   "source": [
    "# 1. ndarray as a vector = 1 d array\n",
    "\n",
    "a=np.array([1,2,3,4,5,6,7,8,9,0])\n",
    "print(a,type(a),a.shape , len(a) , a.size , a.ndim)\n",
    "\n",
    "print(a[0] , type(a[0]) )\n",
    "\n",
    "#SLICING OF ELEMENTS IN A VECTOR\n",
    "print(a[ : ])\n",
    "print(a[ : 3])\n",
    "print(a[2:])\n",
    "print(a[1: 5 : 3 ])\n",
    "print(a[1: 4 : 3 ])\n",
    "print(a[-1 : -3 : -1])"
   ]
  },
  {
   "cell_type": "code",
   "execution_count": null,
   "metadata": {},
   "outputs": [],
   "source": []
  },
  {
   "cell_type": "code",
   "execution_count": null,
   "metadata": {},
   "outputs": [],
   "source": []
  },
  {
   "cell_type": "code",
   "execution_count": 46,
   "metadata": {},
   "outputs": [
    {
     "name": "stdout",
     "output_type": "stream",
     "text": [
      "[[ 1  2  3  4]\n",
      " [ 5  6  7  8]\n",
      " [ 9 10 11 12]\n",
      " [13 14 15 16]]\n",
      "<class 'numpy.ndarray'>\n",
      "(4, 4)\n",
      "4\n"
     ]
    }
   ],
   "source": [
    "# 2. ndarray as a 2d array : array of vectors\n",
    "a=np.array([[1,2,3,4],[5,6,7,8],[9,10,11,12],[13,14,15,16]])\n",
    "print(a , type(a) , a.shape , len(a) ,sep=\"\\n\")\n"
   ]
  },
  {
   "cell_type": "code",
   "execution_count": 47,
   "metadata": {},
   "outputs": [
    {
     "name": "stdout",
     "output_type": "stream",
     "text": [
      "3\n",
      "3\n"
     ]
    }
   ],
   "source": [
    "## accessing a single element\n",
    "print(a[0,2])\n",
    "print(a[0][2])"
   ]
  },
  {
   "cell_type": "code",
   "execution_count": 48,
   "metadata": {},
   "outputs": [
    {
     "name": "stdout",
     "output_type": "stream",
     "text": [
      "[1 2 3 4] <class 'numpy.ndarray'> (4,)\n",
      "[[1 2 3 4]] <class 'numpy.ndarray'> (1, 4)\n"
     ]
    }
   ],
   "source": [
    "## accessing a row as a vector and as a 2d array\n",
    "\n",
    "print(a[0] ,type(a[0]) , a[0].shape)\n",
    "# vector\n",
    "\n",
    "print(a[[0]] , type(a[0]) , a[[0]].shape)\n",
    "# 2D array"
   ]
  },
  {
   "cell_type": "code",
   "execution_count": 62,
   "metadata": {},
   "outputs": [
    {
     "name": "stdout",
     "output_type": "stream",
     "text": [
      "[2 3]\n",
      "[2 3]\n",
      "\n",
      "[5 6 7 8]\n",
      "[2 6]\n"
     ]
    }
   ],
   "source": [
    "# SLICING in a vector is done. Now we'll see slicing of a vector in 2d array .The result obtained is stored as a vector  \n",
    "\n",
    "    ##  row slicing\n",
    "print(a[0][1:3])\n",
    "print(a[0,1:3])\n",
    " \n",
    "print()\n",
    "    ##  column slicing check carefully both give different output\n",
    "print(a[0:2][1])\n",
    "print(a[0:2 , 1])\n",
    "\n",
    "\n",
    "# CONCLUSION : PREFER USING a[x,y] rather than a[x][y]\n"
   ]
  },
  {
   "cell_type": "code",
   "execution_count": 71,
   "metadata": {},
   "outputs": [
    {
     "name": "stdout",
     "output_type": "stream",
     "text": [
      "[2 3] (2,)\n",
      "[2 6] (2,)\n",
      "\n",
      "[[2 3]] ------->(1, 2)\n",
      "\n",
      "[[2]\n",
      " [6]] ------->(2, 1)\n"
     ]
    }
   ],
   "source": [
    "### We obtained the output of slicing as a vector\n",
    "print(a[0,1:3],a[0,1:3].shape)  ## row-wise\n",
    "print(a[0:2 , 1],a[0:2 , 1].shape) ## column-wise\n",
    "\n",
    "print()\n",
    "## IF WE WANT TO OBTAIN THE RESULT as a 2D - array\n",
    "\n",
    "print(a[0:1,1:3],a[0:1,1:3].shape ,sep=\" ------->\" , end=\"\\n\\n\")      ##row-wise\n",
    "\n",
    "\n",
    "print(a[0:2 , 1:2],a[0:2 , 1:2].shape ,sep=\" ------->\")   ## column-wise\n"
   ]
  },
  {
   "cell_type": "code",
   "execution_count": null,
   "metadata": {},
   "outputs": [],
   "source": []
  },
  {
   "cell_type": "code",
   "execution_count": null,
   "metadata": {},
   "outputs": [],
   "source": []
  },
  {
   "cell_type": "code",
   "execution_count": 79,
   "metadata": {},
   "outputs": [
    {
     "name": "stdout",
     "output_type": "stream",
     "text": [
      "[list([1, 2, 3]) list([4, 5]) 6] (3,)\n",
      "[1, 2, 3]\n"
     ]
    }
   ],
   "source": [
    "## 3. ndarray as a 1d array : array of lists  ADVANCEDD  VERSION OF 1.\n",
    "a=np.array([[1,2,3],[4,5],6])\n",
    "print(a , a.shape)\n",
    "\n",
    "## print(a[0,0])\n",
    "print(a[0][0:])"
   ]
  },
  {
   "cell_type": "code",
   "execution_count": null,
   "metadata": {},
   "outputs": [],
   "source": []
  },
  {
   "cell_type": "code",
   "execution_count": null,
   "metadata": {},
   "outputs": [],
   "source": []
  }
 ],
 "metadata": {
  "kernelspec": {
   "display_name": "Python 3",
   "language": "python",
   "name": "python3"
  },
  "language_info": {
   "codemirror_mode": {
    "name": "ipython",
    "version": 3
   },
   "file_extension": ".py",
   "mimetype": "text/x-python",
   "name": "python",
   "nbconvert_exporter": "python",
   "pygments_lexer": "ipython3",
   "version": "3.7.4"
  }
 },
 "nbformat": 4,
 "nbformat_minor": 2
}
